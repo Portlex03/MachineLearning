{
 "cells": [
  {
   "cell_type": "markdown",
   "metadata": {},
   "source": [
    "# Задание 3.1"
   ]
  },
  {
   "cell_type": "markdown",
   "metadata": {},
   "source": [
    "- Самостоятельно реализуйте kNN."
   ]
  },
  {
   "cell_type": "markdown",
   "metadata": {},
   "source": [
    "#### Делаем классификацию из двух классов и разбиваем её на обучающую и тестовыую выборки"
   ]
  },
  {
   "cell_type": "code",
   "execution_count": 10,
   "metadata": {},
   "outputs": [],
   "source": [
    "from sklearn.datasets import make_classification\n",
    "from sklearn.model_selection import train_test_split\n",
    "import numpy as np\n",
    "\n",
    "x,y = make_classification(n_samples=10000,n_features=30)\n",
    "x_train, x_test, y_train, y_test = train_test_split(x,y,test_size=0.2)"
   ]
  },
  {
   "cell_type": "markdown",
   "metadata": {},
   "source": [
    "#### Реализовываем свой класс Knn"
   ]
  },
  {
   "cell_type": "code",
   "execution_count": 11,
   "metadata": {},
   "outputs": [],
   "source": [
    "class KNearestNeighbors:\n",
    "    def __init__(self, n_neighbors: int = 5) -> None:\n",
    "        self.n_neighbors = n_neighbors\n",
    "\n",
    "    def fit(self, X: np.ndarray, Y: np.ndarray):\n",
    "        self.x_train = X\n",
    "        self.y_train = Y\n",
    "\n",
    "    def predict(self,X) -> np.ndarray:\n",
    "        from scipy.stats import mode\n",
    "        \n",
    "        # функция для расчёта расстояния между векторами\n",
    "        def distance(a: np.ndarray,b: np.ndarray) -> np.ndarray:\n",
    "            return np.sqrt( ((a - b)**2).sum() )\n",
    "        \n",
    "        # массив, содержащий предсказанные классы объектов\n",
    "        predict = np.zeros((len(X),))\n",
    "        # счетчик\n",
    "        i = 0\n",
    "        # берём объект, класс которого надо предсказать\n",
    "        for x in X:\n",
    "            # массив, содержащий расстояния от объекта x до объектов\n",
    "            # из тренировочной выборки\n",
    "            distance_array = []\n",
    "            # считаем расстояние до объекта\n",
    "            for x_train in self.x_train:\n",
    "                distance_array.append(distance(x,x_train))\n",
    "            # соединяем с массивом ответов\n",
    "            distance_array = np.concatenate(\n",
    "                (np.array(distance_array).reshape(-1,1),self.y_train.reshape(-1,1)),axis=1\n",
    "            )\n",
    "            # сортируем по расстоянию (первому элементу)\n",
    "            distance_array = sorted(distance_array,key = lambda x: x[0],reverse=True)\n",
    "            # превращаем в np.array\n",
    "            distance_array = np.array(distance_array)\n",
    "            # берём первые n_neighbors объектов\n",
    "            neighbors = distance_array[:,1][:self.n_neighbors]\n",
    "            # добавляем предсказание в массив\n",
    "            predict[i] = mode(neighbors)[0]\n",
    "            i += 1\n",
    "        return predict"
   ]
  },
  {
   "cell_type": "markdown",
   "metadata": {},
   "source": [
    "#### Обучаем, тестируем свою модель и проверяем, насколько хорошо она работает"
   ]
  },
  {
   "cell_type": "code",
   "execution_count": 12,
   "metadata": {},
   "outputs": [
    {
     "name": "stdout",
     "output_type": "stream",
     "text": [
      "[[215 783]\n",
      " [772 230]]\n",
      "              precision    recall  f1-score   support\n",
      "\n",
      "           0       0.22      0.22      0.22       998\n",
      "           1       0.23      0.23      0.23      1002\n",
      "\n",
      "    accuracy                           0.22      2000\n",
      "   macro avg       0.22      0.22      0.22      2000\n",
      "weighted avg       0.22      0.22      0.22      2000\n",
      "\n"
     ]
    }
   ],
   "source": [
    "from sklearn.metrics import confusion_matrix,classification_report\n",
    "\n",
    "knn1 = KNearestNeighbors()\n",
    "knn1.fit(x_train,y_train)\n",
    "y_pred1 = knn1.predict(x_test)\n",
    "\n",
    "print(confusion_matrix(y_test,y_pred1))\n",
    "print(classification_report(y_test,y_pred1))"
   ]
  },
  {
   "cell_type": "markdown",
   "metadata": {},
   "source": [
    "#### Обучаем и тестируем knn из sklearn"
   ]
  },
  {
   "cell_type": "code",
   "execution_count": 13,
   "metadata": {},
   "outputs": [
    {
     "name": "stdout",
     "output_type": "stream",
     "text": [
      "[[215 783]\n",
      " [772 230]]\n",
      "              precision    recall  f1-score   support\n",
      "\n",
      "           0       0.22      0.22      0.22       998\n",
      "           1       0.23      0.23      0.23      1002\n",
      "\n",
      "    accuracy                           0.22      2000\n",
      "   macro avg       0.22      0.22      0.22      2000\n",
      "weighted avg       0.22      0.22      0.22      2000\n",
      "\n"
     ]
    }
   ],
   "source": [
    "from sklearn.neighbors import KNeighborsClassifier\n",
    "knn = KNeighborsClassifier()\n",
    "knn.fit(x_train,y_train)\n",
    "y_pred = knn.predict(x_test)\n",
    "\n",
    "print(confusion_matrix(y_test,y_pred1))\n",
    "print(classification_report(y_test,y_pred1))"
   ]
  },
  {
   "cell_type": "markdown",
   "metadata": {},
   "source": [
    "#### Вывод: наша модель и модель sklearn выдают одинаковые результаты "
   ]
  }
 ],
 "metadata": {
  "kernelspec": {
   "display_name": "Python 3",
   "language": "python",
   "name": "python3"
  },
  "language_info": {
   "codemirror_mode": {
    "name": "ipython",
    "version": 3
   },
   "file_extension": ".py",
   "mimetype": "text/x-python",
   "name": "python",
   "nbconvert_exporter": "python",
   "pygments_lexer": "ipython3",
   "version": "3.11.3"
  }
 },
 "nbformat": 4,
 "nbformat_minor": 2
}
