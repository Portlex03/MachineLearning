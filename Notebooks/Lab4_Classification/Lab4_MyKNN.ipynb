{
 "cells": [
  {
   "cell_type": "markdown",
   "metadata": {},
   "source": [
    "# Задание 3.1"
   ]
  },
  {
   "cell_type": "markdown",
   "metadata": {},
   "source": [
    "- Самостоятельно реализуйте kNN."
   ]
  },
  {
   "cell_type": "markdown",
   "metadata": {},
   "source": [
    "#### Делаем классификацию из двух классов и разбиваем её на обучающую и тестовыую выборки"
   ]
  },
  {
   "cell_type": "code",
   "execution_count": 66,
   "metadata": {},
   "outputs": [],
   "source": [
    "from sklearn.datasets import make_classification\n",
    "from sklearn.model_selection import train_test_split\n",
    "import numpy as np\n",
    "\n",
    "x,y = make_classification(n_samples=10000,n_features=30)\n",
    "x_train, x_test, y_train, y_test = train_test_split(x,y,test_size=0.2)"
   ]
  },
  {
   "cell_type": "markdown",
   "metadata": {},
   "source": [
    "#### Реализовываем свой класс Knn"
   ]
  },
  {
   "cell_type": "code",
   "execution_count": 67,
   "metadata": {},
   "outputs": [],
   "source": [
    "class KNearestNeighbors:\n",
    "    def __init__(self, n_neighbors: int = 5) -> None:\n",
    "        self.n_neighbors = n_neighbors\n",
    "\n",
    "    def fit(self, X: np.ndarray, Y: np.ndarray):\n",
    "        self.x = np.array(X)\n",
    "        self.y = np.array(Y)\n",
    "        return self\n",
    "\n",
    "    def predict(self, X: np.ndarray) -> np.ndarray:\n",
    "        from scipy.stats import mode\n",
    "        \n",
    "        X = np.array(X)\n",
    "        \n",
    "        predict = np.zeros((len(X),))\n",
    "\n",
    "        for i in range(X.shape[0]):\n",
    "            distances = np.sqrt( ((X[i] - self.x)**2).sum(axis=1) )\n",
    "            \n",
    "            sorted_indexes = np.argsort(distances)\n",
    "\n",
    "            neighbors = self.y[sorted_indexes][::-1][self.n_neighbors]\n",
    "            \n",
    "            predict[i] = mode(neighbors)[0]\n",
    "        return predict"
   ]
  },
  {
   "cell_type": "markdown",
   "metadata": {},
   "source": [
    "#### Обучаем, тестируем свою модель и проверяем, насколько хорошо она работает"
   ]
  },
  {
   "cell_type": "code",
   "execution_count": 68,
   "metadata": {},
   "outputs": [
    {
     "name": "stdout",
     "output_type": "stream",
     "text": [
      "[[259 736]\n",
      " [630 375]]\n",
      "              precision    recall  f1-score   support\n",
      "\n",
      "           0       0.29      0.26      0.27       995\n",
      "           1       0.34      0.37      0.35      1005\n",
      "\n",
      "    accuracy                           0.32      2000\n",
      "   macro avg       0.31      0.32      0.31      2000\n",
      "weighted avg       0.31      0.32      0.31      2000\n",
      "\n"
     ]
    }
   ],
   "source": [
    "from sklearn.metrics import confusion_matrix,classification_report\n",
    "\n",
    "knn1 = KNearestNeighbors()\n",
    "knn1.fit(x_train,y_train)\n",
    "y_pred1 = knn1.predict(x_test)\n",
    "\n",
    "print(confusion_matrix(y_test,y_pred1))\n",
    "print(classification_report(y_test,y_pred1))"
   ]
  },
  {
   "cell_type": "markdown",
   "metadata": {},
   "source": [
    "#### Обучаем и тестируем knn из sklearn"
   ]
  },
  {
   "cell_type": "code",
   "execution_count": 69,
   "metadata": {},
   "outputs": [
    {
     "name": "stdout",
     "output_type": "stream",
     "text": [
      "[[259 736]\n",
      " [630 375]]\n",
      "              precision    recall  f1-score   support\n",
      "\n",
      "           0       0.29      0.26      0.27       995\n",
      "           1       0.34      0.37      0.35      1005\n",
      "\n",
      "    accuracy                           0.32      2000\n",
      "   macro avg       0.31      0.32      0.31      2000\n",
      "weighted avg       0.31      0.32      0.31      2000\n",
      "\n"
     ]
    }
   ],
   "source": [
    "from sklearn.neighbors import KNeighborsClassifier\n",
    "knn = KNeighborsClassifier()\n",
    "knn.fit(x_train,y_train)\n",
    "y_pred = knn.predict(x_test)\n",
    "\n",
    "print(confusion_matrix(y_test,y_pred1))\n",
    "print(classification_report(y_test,y_pred1))"
   ]
  },
  {
   "cell_type": "markdown",
   "metadata": {},
   "source": [
    "#### Вывод: наша модель и модель sklearn выдают одинаковые результаты "
   ]
  }
 ],
 "metadata": {
  "kernelspec": {
   "display_name": "Python 3",
   "language": "python",
   "name": "python3"
  },
  "language_info": {
   "codemirror_mode": {
    "name": "ipython",
    "version": 3
   },
   "file_extension": ".py",
   "mimetype": "text/x-python",
   "name": "python",
   "nbconvert_exporter": "python",
   "pygments_lexer": "ipython3",
   "version": "3.11.7"
  }
 },
 "nbformat": 4,
 "nbformat_minor": 2
}
