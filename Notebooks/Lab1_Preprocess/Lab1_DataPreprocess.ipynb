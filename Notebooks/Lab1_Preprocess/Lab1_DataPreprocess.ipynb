{
 "cells": [
  {
   "cell_type": "markdown",
   "metadata": {},
   "source": [
    "# Лабораторная работа 1"
   ]
  },
  {
   "cell_type": "code",
   "execution_count": null,
   "metadata": {},
   "outputs": [],
   "source": [
    "# ответ на 1 гипотезу из примера\n",
    "# df.pivot_table(index='City',colums='Day',values='userID', agg='count')"
   ]
  },
  {
   "cell_type": "markdown",
   "metadata": {},
   "source": [
    "# Цель\n",
    "Проверить 3 гипотезы:\n",
    "\n",
    "1. Период нулевых годов 21-го века является самым прибыльным для фильмов\n",
    "2. Не существует таких жанров в США, где сумма лайков в фейсбуке 1ых актёров меньше суммы лайков 2ых или 3их актёров \n",
    "3. Самые прибыльные жанры в США и в остальном мире совпадают"
   ]
  },
  {
   "cell_type": "code",
   "execution_count": 1,
   "metadata": {},
   "outputs": [],
   "source": [
    "import pandas as pd\n",
    "import numpy as np\n",
    "\n",
    "# открытие файла\n",
    "df = pd.read_csv('Dataset1.csv')"
   ]
  },
  {
   "cell_type": "markdown",
   "metadata": {},
   "source": [
    "# Этап 1 - Обзор данных"
   ]
  },
  {
   "cell_type": "markdown",
   "metadata": {},
   "source": [
    "### Выводим первые 5 строк таблицы"
   ]
  },
  {
   "cell_type": "code",
   "execution_count": 2,
   "metadata": {},
   "outputs": [
    {
     "data": {
      "text/html": [
       "<div>\n",
       "<style scoped>\n",
       "    .dataframe tbody tr th:only-of-type {\n",
       "        vertical-align: middle;\n",
       "    }\n",
       "\n",
       "    .dataframe tbody tr th {\n",
       "        vertical-align: top;\n",
       "    }\n",
       "\n",
       "    .dataframe thead th {\n",
       "        text-align: right;\n",
       "    }\n",
       "</style>\n",
       "<table border=\"1\" class=\"dataframe\">\n",
       "  <thead>\n",
       "    <tr style=\"text-align: right;\">\n",
       "      <th></th>\n",
       "      <th>color</th>\n",
       "      <th>Director_Name</th>\n",
       "      <th>num_Critic_for_reviews</th>\n",
       "      <th>duration</th>\n",
       "      <th>director_Facebook_likes</th>\n",
       "      <th>actor_3_Facebook_likes</th>\n",
       "      <th>actor_2_name</th>\n",
       "      <th>Actor_1_Facebook_likes</th>\n",
       "      <th>gross</th>\n",
       "      <th>genres</th>\n",
       "      <th>...</th>\n",
       "      <th>num_user_for_reviews</th>\n",
       "      <th>language</th>\n",
       "      <th>country</th>\n",
       "      <th>content_rating</th>\n",
       "      <th>budget</th>\n",
       "      <th>title_year</th>\n",
       "      <th>actor_2_facebook_likes</th>\n",
       "      <th>imdb_score</th>\n",
       "      <th>aspect_ratio</th>\n",
       "      <th>movie_facebook_likes;</th>\n",
       "    </tr>\n",
       "  </thead>\n",
       "  <tbody>\n",
       "    <tr>\n",
       "      <th>0</th>\n",
       "      <td>Color</td>\n",
       "      <td>James Cameron</td>\n",
       "      <td>723.0</td>\n",
       "      <td>178.0</td>\n",
       "      <td>0.0</td>\n",
       "      <td>855.0</td>\n",
       "      <td>Joel David Moore</td>\n",
       "      <td>1000.0</td>\n",
       "      <td>760505847.0</td>\n",
       "      <td>Action|Adventure|Fantasy|Sci-Fi</td>\n",
       "      <td>...</td>\n",
       "      <td>3054.0</td>\n",
       "      <td>English</td>\n",
       "      <td>USA</td>\n",
       "      <td>PG-13</td>\n",
       "      <td>237000000.0</td>\n",
       "      <td>2009.0</td>\n",
       "      <td>936.0</td>\n",
       "      <td>7.9</td>\n",
       "      <td>1.78</td>\n",
       "      <td>33000;</td>\n",
       "    </tr>\n",
       "    <tr>\n",
       "      <th>1</th>\n",
       "      <td>Colour</td>\n",
       "      <td>Gore Verbinski</td>\n",
       "      <td>302.0</td>\n",
       "      <td>169.0</td>\n",
       "      <td>563.0</td>\n",
       "      <td>1000.0</td>\n",
       "      <td>Orlando Bloom</td>\n",
       "      <td>40000.0</td>\n",
       "      <td>309404152.0</td>\n",
       "      <td>Action|Adventure|Fantasy</td>\n",
       "      <td>...</td>\n",
       "      <td>1238.0</td>\n",
       "      <td>English</td>\n",
       "      <td>USA</td>\n",
       "      <td>PG-13</td>\n",
       "      <td>300000000.0</td>\n",
       "      <td>2007.0</td>\n",
       "      <td>5000.0</td>\n",
       "      <td>7.1</td>\n",
       "      <td>2.35</td>\n",
       "      <td>0;</td>\n",
       "    </tr>\n",
       "    <tr>\n",
       "      <th>2</th>\n",
       "      <td>Colour</td>\n",
       "      <td>Sam Mendes</td>\n",
       "      <td>602.0</td>\n",
       "      <td>148.0</td>\n",
       "      <td>0.0</td>\n",
       "      <td>161.0</td>\n",
       "      <td>Rory Kinnear</td>\n",
       "      <td>11000.0</td>\n",
       "      <td>200074175.0</td>\n",
       "      <td>Action|Adventure|Thriller</td>\n",
       "      <td>...</td>\n",
       "      <td>994.0</td>\n",
       "      <td>English</td>\n",
       "      <td>UK</td>\n",
       "      <td>PG-13</td>\n",
       "      <td>245000000.0</td>\n",
       "      <td>2015.0</td>\n",
       "      <td>393.0</td>\n",
       "      <td>6.8</td>\n",
       "      <td>2.35</td>\n",
       "      <td>85000;</td>\n",
       "    </tr>\n",
       "    <tr>\n",
       "      <th>3</th>\n",
       "      <td>Color</td>\n",
       "      <td>Christopher Nolan</td>\n",
       "      <td>813.0</td>\n",
       "      <td>164.0</td>\n",
       "      <td>22000.0</td>\n",
       "      <td>23000.0</td>\n",
       "      <td>Christian Bale</td>\n",
       "      <td>27000.0</td>\n",
       "      <td>448130642.0</td>\n",
       "      <td>Action|Thriller</td>\n",
       "      <td>...</td>\n",
       "      <td>2701.0</td>\n",
       "      <td>English</td>\n",
       "      <td>USA</td>\n",
       "      <td>PG-13</td>\n",
       "      <td>250000000.0</td>\n",
       "      <td>2012.0</td>\n",
       "      <td>23000.0</td>\n",
       "      <td>8.5</td>\n",
       "      <td>2.35</td>\n",
       "      <td>164000;</td>\n",
       "    </tr>\n",
       "    <tr>\n",
       "      <th>4</th>\n",
       "      <td>NaN</td>\n",
       "      <td>Doug Walker</td>\n",
       "      <td>NaN</td>\n",
       "      <td>NaN</td>\n",
       "      <td>131.0</td>\n",
       "      <td>NaN</td>\n",
       "      <td>Rob Walker</td>\n",
       "      <td>131.0</td>\n",
       "      <td>NaN</td>\n",
       "      <td>Documentary</td>\n",
       "      <td>...</td>\n",
       "      <td>NaN</td>\n",
       "      <td>NaN</td>\n",
       "      <td>NaN</td>\n",
       "      <td>NaN</td>\n",
       "      <td>NaN</td>\n",
       "      <td>NaN</td>\n",
       "      <td>12.0</td>\n",
       "      <td>7.1</td>\n",
       "      <td>NaN</td>\n",
       "      <td>0;</td>\n",
       "    </tr>\n",
       "  </tbody>\n",
       "</table>\n",
       "<p>5 rows × 28 columns</p>\n",
       "</div>"
      ],
      "text/plain": [
       "    color      Director_Name  num_Critic_for_reviews  duration   \n",
       "0   Color      James Cameron                   723.0     178.0  \\\n",
       "1  Colour     Gore Verbinski                   302.0     169.0   \n",
       "2  Colour         Sam Mendes                   602.0     148.0   \n",
       "3   Color  Christopher Nolan                   813.0     164.0   \n",
       "4     NaN        Doug Walker                     NaN       NaN   \n",
       "\n",
       "   director_Facebook_likes  actor_3_Facebook_likes      actor_2_name   \n",
       "0                      0.0                   855.0  Joel David Moore  \\\n",
       "1                    563.0                  1000.0     Orlando Bloom   \n",
       "2                      0.0                   161.0      Rory Kinnear   \n",
       "3                  22000.0                 23000.0    Christian Bale   \n",
       "4                    131.0                     NaN        Rob Walker   \n",
       "\n",
       "   Actor_1_Facebook_likes        gross                           genres  ...   \n",
       "0                  1000.0  760505847.0  Action|Adventure|Fantasy|Sci-Fi  ...  \\\n",
       "1                 40000.0  309404152.0         Action|Adventure|Fantasy  ...   \n",
       "2                 11000.0  200074175.0        Action|Adventure|Thriller  ...   \n",
       "3                 27000.0  448130642.0                  Action|Thriller  ...   \n",
       "4                   131.0          NaN                      Documentary  ...   \n",
       "\n",
       "  num_user_for_reviews language  country  content_rating       budget   \n",
       "0               3054.0  English      USA           PG-13  237000000.0  \\\n",
       "1               1238.0  English      USA           PG-13  300000000.0   \n",
       "2                994.0  English       UK           PG-13  245000000.0   \n",
       "3               2701.0  English      USA           PG-13  250000000.0   \n",
       "4                  NaN      NaN      NaN             NaN          NaN   \n",
       "\n",
       "   title_year actor_2_facebook_likes imdb_score  aspect_ratio   \n",
       "0      2009.0                  936.0        7.9          1.78  \\\n",
       "1      2007.0                 5000.0        7.1          2.35   \n",
       "2      2015.0                  393.0        6.8          2.35   \n",
       "3      2012.0                23000.0        8.5          2.35   \n",
       "4         NaN                   12.0        7.1           NaN   \n",
       "\n",
       "  movie_facebook_likes;  \n",
       "0                33000;  \n",
       "1                    0;  \n",
       "2                85000;  \n",
       "3               164000;  \n",
       "4                    0;  \n",
       "\n",
       "[5 rows x 28 columns]"
      ]
     },
     "execution_count": 2,
     "metadata": {},
     "output_type": "execute_result"
    }
   ],
   "source": [
    "df.head()"
   ]
  },
  {
   "cell_type": "markdown",
   "metadata": {},
   "source": [
    "### Получаем информацию о таблице"
   ]
  },
  {
   "cell_type": "code",
   "execution_count": 3,
   "metadata": {},
   "outputs": [
    {
     "name": "stdout",
     "output_type": "stream",
     "text": [
      "<class 'pandas.core.frame.DataFrame'>\n",
      "RangeIndex: 5043 entries, 0 to 5042\n",
      "Data columns (total 28 columns):\n",
      " #   Column                      Non-Null Count  Dtype  \n",
      "---  ------                      --------------  -----  \n",
      " 0   color                       5025 non-null   object \n",
      " 1   Director_Name               4872 non-null   object \n",
      " 2   num_Critic_for_reviews      4927 non-null   float64\n",
      " 3   duration                    4959 non-null   float64\n",
      " 4   director_Facebook_likes     4872 non-null   float64\n",
      " 5   actor_3_Facebook_likes      4953 non-null   float64\n",
      " 6   actor_2_name                4963 non-null   object \n",
      " 7   Actor_1_Facebook_likes      4968 non-null   float64\n",
      " 8   gross                       4104 non-null   float64\n",
      " 9   genres                      4974 non-null   object \n",
      " 10  actor_1_name                4968 non-null   object \n",
      " 11  movie_Title                 4974 non-null   object \n",
      " 12  num_voted_users             4974 non-null   float64\n",
      " 13   cast_total_facebook_likes  4974 non-null   float64\n",
      " 14  actor_3_name                4953 non-null   object \n",
      " 15  facenumber_in_poster        4961 non-null   float64\n",
      " 16  plot_keywords               4827 non-null   object \n",
      " 17  movie_imdb_link             4974 non-null   object \n",
      " 18  num_user_for_reviews        4956 non-null   float64\n",
      " 19  language                    4961 non-null   object \n",
      " 20  country                     4971 non-null   object \n",
      " 21  content_rating              4677 non-null   object \n",
      " 22  budget                      4494 non-null   float64\n",
      " 23  title_year                  4869 non-null   float64\n",
      " 24  actor_2_facebook_likes      4963 non-null   float64\n",
      " 25  imdb_score                  4974 non-null   float64\n",
      " 26  aspect_ratio                4654 non-null   float64\n",
      " 27  movie_facebook_likes;       4974 non-null   object \n",
      "dtypes: float64(15), object(13)\n",
      "memory usage: 1.1+ MB\n"
     ]
    }
   ],
   "source": [
    "df.info()"
   ]
  },
  {
   "cell_type": "markdown",
   "metadata": {},
   "source": [
    "### Выводы\n",
    "- в таблице 28 колонок и 5025 строк\n",
    "- так как столбцы содержат разное количество ненулевых строк, то есть пропущенные значения\n",
    "- данных достаточно для проверки гипотез"
   ]
  },
  {
   "cell_type": "markdown",
   "metadata": {},
   "source": [
    "# Этап 2 - Обработка данных"
   ]
  },
  {
   "cell_type": "code",
   "execution_count": 4,
   "metadata": {},
   "outputs": [
    {
     "data": {
      "text/plain": [
       "45"
      ]
     },
     "execution_count": 4,
     "metadata": {},
     "output_type": "execute_result"
    }
   ],
   "source": [
    "# Выводим количество дубликатов\n",
    "df.duplicated().sum()"
   ]
  },
  {
   "cell_type": "code",
   "execution_count": 5,
   "metadata": {},
   "outputs": [
    {
     "data": {
      "text/plain": [
       "0"
      ]
     },
     "execution_count": 5,
     "metadata": {},
     "output_type": "execute_result"
    }
   ],
   "source": [
    "# Удаляем дубликаты с обновлением индекса\n",
    "df = df.drop_duplicates().reset_index(drop=True)\n",
    "# Выводим их количество\n",
    "df.duplicated().sum()"
   ]
  },
  {
   "cell_type": "markdown",
   "metadata": {},
   "source": [
    "При обзоре данных мы заметили, что в колонке 'color' в некоторых местах есть ячейки, которые содержат в себе информацию всей строки таблицы. Поэтому нужно это исправить"
   ]
  },
  {
   "cell_type": "code",
   "execution_count": 6,
   "metadata": {},
   "outputs": [
    {
     "name": "stderr",
     "output_type": "stream",
     "text": [
      "C:\\Users\\Azerty\\AppData\\Local\\Temp\\ipykernel_432\\178818474.py:22: SettingWithCopyWarning: \n",
      "A value is trying to be set on a copy of a slice from a DataFrame\n",
      "\n",
      "See the caveats in the documentation: https://pandas.pydata.org/pandas-docs/stable/user_guide/indexing.html#returning-a-view-versus-a-copy\n",
      "  color[i] = delete_comma_in_title(color[i])\n"
     ]
    }
   ],
   "source": [
    "# заменяем пропущенные значения в колонке 'color'\n",
    "df['color'] = df['color'].fillna('Color')\n",
    "\n",
    "# функция для удаления запятых в названиях фильмов\n",
    "def delete_comma_in_title(line: str) -> str:\n",
    "    # что делает код:\n",
    "    # 1) разделяет по двойным ковычкам. пр: aaaa,\"b, b, bb\",ccc\n",
    "    # 2) берёт средний элемент - название фильма, и удаляет запятые\n",
    "    # 3) превращает список обратно в строку. пр: aaaa,b b bb,ccc\n",
    "    line = line.split('\"')\n",
    "    line[1] = line[1].replace(',','')\n",
    "    return ''.join(line)\n",
    "\n",
    "# находим ячейки, которые содержат в себе информацию всей строки таблицы\n",
    "color = df['color']\n",
    "\n",
    "# проходимся по столбцу 'color'\n",
    "for i in range(len(color)) :\n",
    "    # если ячейка при разбиении по запятым содержит не только слово 'color'\n",
    "    if len(color[i].split(',')) > 1:\n",
    "        # удаляем запятые в названии\n",
    "        color[i] = delete_comma_in_title(color[i])\n",
    "        # заменяем строку датафрейма\n",
    "        line = pd.Series(color[i].split(','))\n",
    "        df.iloc[i] = line"
   ]
  },
  {
   "cell_type": "markdown",
   "metadata": {},
   "source": [
    "Сделаем таблицу, состоящую из колонок года и CPI для расчёта валовой и бюджетной стоимости фильмов с учётом инфляции"
   ]
  },
  {
   "cell_type": "code",
   "execution_count": 7,
   "metadata": {},
   "outputs": [
    {
     "data": {
      "text/html": [
       "<div>\n",
       "<style scoped>\n",
       "    .dataframe tbody tr th:only-of-type {\n",
       "        vertical-align: middle;\n",
       "    }\n",
       "\n",
       "    .dataframe tbody tr th {\n",
       "        vertical-align: top;\n",
       "    }\n",
       "\n",
       "    .dataframe thead th {\n",
       "        text-align: right;\n",
       "    }\n",
       "</style>\n",
       "<table border=\"1\" class=\"dataframe\">\n",
       "  <thead>\n",
       "    <tr style=\"text-align: right;\">\n",
       "      <th></th>\n",
       "      <th>year</th>\n",
       "      <th>avg_annual_cpi</th>\n",
       "    </tr>\n",
       "  </thead>\n",
       "  <tbody>\n",
       "    <tr>\n",
       "      <th>0</th>\n",
       "      <td>1913</td>\n",
       "      <td>9.9</td>\n",
       "    </tr>\n",
       "    <tr>\n",
       "      <th>1</th>\n",
       "      <td>1914</td>\n",
       "      <td>10.0</td>\n",
       "    </tr>\n",
       "    <tr>\n",
       "      <th>2</th>\n",
       "      <td>1915</td>\n",
       "      <td>10.1</td>\n",
       "    </tr>\n",
       "    <tr>\n",
       "      <th>3</th>\n",
       "      <td>1916</td>\n",
       "      <td>10.9</td>\n",
       "    </tr>\n",
       "    <tr>\n",
       "      <th>4</th>\n",
       "      <td>1917</td>\n",
       "      <td>12.8</td>\n",
       "    </tr>\n",
       "  </tbody>\n",
       "</table>\n",
       "</div>"
      ],
      "text/plain": [
       "   year  avg_annual_cpi\n",
       "0  1913             9.9\n",
       "1  1914            10.0\n",
       "2  1915            10.1\n",
       "3  1916            10.9\n",
       "4  1917            12.8"
      ]
     },
     "execution_count": 7,
     "metadata": {},
     "output_type": "execute_result"
    }
   ],
   "source": [
    "import requests\n",
    "from bs4 import BeautifulSoup\n",
    "url = 'https://www.usinflationcalculator.com/inflation/consumer-price-index-and-annual-percent-changes-from-1913-to-2008/'\n",
    "\n",
    "r = requests.get(url)\n",
    "data = r.text\n",
    "soup = BeautifulSoup(data, 'html.parser')\n",
    "\n",
    "# находим таблицу\n",
    "table = soup.find('table')\n",
    "rows = table.tbody.findAll('tr')\n",
    "\n",
    "years = []\n",
    "cpis = []\n",
    "# строим таблицу, состоящую из колонок 'год - средняя cpi'\n",
    "for row in rows:\n",
    "    year = row.findAll('td')[0].get_text()\n",
    "    if year.isdigit() and int(year) < 2017:\n",
    "        years.append(int(year))\n",
    "        cpis.append(float(row.findAll('td')[13].get_text()))\n",
    "\n",
    "cpi_table = pd.DataFrame(\n",
    "    {\n",
    "        'year': years,\n",
    "        'avg_annual_cpi': cpis\n",
    "    }\n",
    ")\n",
    "cpi_table.head()"
   ]
  },
  {
   "cell_type": "markdown",
   "metadata": {},
   "source": [
    "Считаем валовую и бюджетную стоимость фильмов"
   ]
  },
  {
   "cell_type": "code",
   "execution_count": 8,
   "metadata": {},
   "outputs": [
    {
     "name": "stderr",
     "output_type": "stream",
     "text": [
      "C:\\Users\\Azerty\\AppData\\Local\\Temp\\ipykernel_432\\422668251.py:12: FutureWarning: Calling float on a single element Series is deprecated and will raise a TypeError in the future. Use float(ser.iloc[0]) instead\n",
      "  CPI_2016 = float(cpi_table[cpi_table['year'] == 2016]['avg_annual_cpi'])\n",
      "C:\\Users\\Azerty\\AppData\\Local\\Temp\\ipykernel_432\\422668251.py:7: FutureWarning: Calling float on a single element Series is deprecated and will raise a TypeError in the future. Use float(ser.iloc[0]) instead\n",
      "  return float(nominal_amt) * new_cpi / float(old_cpi)\n"
     ]
    }
   ],
   "source": [
    "# # заменяем пропущенные значения на нули\n",
    "df = df.fillna(0)\n",
    "\n",
    "# функция, пересчитывающая старые доллары на новые\n",
    "def get_real_value(nominal_amt, old_cpi, new_cpi):\n",
    "    if nominal_amt and not old_cpi.empty:\n",
    "        return float(nominal_amt) * new_cpi / float(old_cpi)\n",
    "    else:\n",
    "        return 0\n",
    "\n",
    "\n",
    "CPI_2016 = float(cpi_table[cpi_table['year'] == 2016]['avg_annual_cpi'])\n",
    "\n",
    "real_budget_values = []\n",
    "real_gross_values = []\n",
    "\n",
    "df['title_year'] = df['title_year'].replace('', 0)\n",
    "\n",
    "# считаем реальную стоимость для каждой строки\n",
    "for index, row in df.iterrows():\n",
    "    gross = row['gross']\n",
    "    budget = row['budget']\n",
    "    year = row['title_year']\n",
    "\n",
    "    cpi = cpi_table[cpi_table['year'] == int(year)]['avg_annual_cpi']\n",
    "\n",
    "    real_gross = get_real_value(gross, cpi, CPI_2016)\n",
    "    real_gross_values.append(real_gross)\n",
    "    \n",
    "    real_budget = get_real_value(budget, cpi, CPI_2016)\n",
    "    real_budget_values.append(real_budget)\n",
    "\n",
    "df['real_gross'] = real_gross_values\n",
    "df['real_budget'] = real_budget_values"
   ]
  },
  {
   "cell_type": "code",
   "execution_count": 9,
   "metadata": {},
   "outputs": [],
   "source": [
    "# экспорт таблицы в csv файл\n",
    "df.to_csv('Lab1_Portnyagin_CPI.csv')"
   ]
  },
  {
   "cell_type": "markdown",
   "metadata": {},
   "source": [
    "# Этап 3 - Проверка гипотез"
   ]
  },
  {
   "cell_type": "markdown",
   "metadata": {},
   "source": [
    "## Гипотеза 1 - Период нулевых годов 21-го века является самым прибыльным для фильмов"
   ]
  },
  {
   "cell_type": "markdown",
   "metadata": {},
   "source": [
    "### Чтобы проверить гипотезу 1, нужно\n",
    "1. посчитать выручку, которая равна разности прибыли и бюджета фильмов\n",
    "2. сгруппировать года по десятилетиям (10е, 20е, 30е года  т.д)\n",
    "3. Вывести года по убыванию прибыли\n",
    "4. Посмотреть, на каком месте находятся нулевые года (с 2000 по 2010)"
   ]
  },
  {
   "cell_type": "markdown",
   "metadata": {},
   "source": [
    "### Считаем выручку по всем годам"
   ]
  },
  {
   "cell_type": "code",
   "execution_count": 10,
   "metadata": {},
   "outputs": [
    {
     "data": {
      "text/html": [
       "<div>\n",
       "<style scoped>\n",
       "    .dataframe tbody tr th:only-of-type {\n",
       "        vertical-align: middle;\n",
       "    }\n",
       "\n",
       "    .dataframe tbody tr th {\n",
       "        vertical-align: top;\n",
       "    }\n",
       "\n",
       "    .dataframe thead th {\n",
       "        text-align: right;\n",
       "    }\n",
       "</style>\n",
       "<table border=\"1\" class=\"dataframe\">\n",
       "  <thead>\n",
       "    <tr style=\"text-align: right;\">\n",
       "      <th></th>\n",
       "      <th>real_gross</th>\n",
       "      <th>real_budget</th>\n",
       "      <th>profit</th>\n",
       "    </tr>\n",
       "    <tr>\n",
       "      <th>title_year</th>\n",
       "      <th></th>\n",
       "      <th></th>\n",
       "      <th></th>\n",
       "    </tr>\n",
       "  </thead>\n",
       "  <tbody>\n",
       "    <tr>\n",
       "      <th>1939</th>\n",
       "      <td>3.813485</td>\n",
       "      <td>0.142916</td>\n",
       "      <td>3.670568</td>\n",
       "    </tr>\n",
       "    <tr>\n",
       "      <th>1937</th>\n",
       "      <td>3.082181</td>\n",
       "      <td>0.033334</td>\n",
       "      <td>3.048847</td>\n",
       "    </tr>\n",
       "    <tr>\n",
       "      <th>2002</th>\n",
       "      <td>11.477607</td>\n",
       "      <td>8.674271</td>\n",
       "      <td>2.803336</td>\n",
       "    </tr>\n",
       "    <tr>\n",
       "      <th>2012</th>\n",
       "      <td>10.887788</td>\n",
       "      <td>8.145783</td>\n",
       "      <td>2.742005</td>\n",
       "    </tr>\n",
       "    <tr>\n",
       "      <th>1940</th>\n",
       "      <td>2.754937</td>\n",
       "      <td>0.133410</td>\n",
       "      <td>2.621528</td>\n",
       "    </tr>\n",
       "    <tr>\n",
       "      <th>1994</th>\n",
       "      <td>5.098076</td>\n",
       "      <td>2.490324</td>\n",
       "      <td>2.607753</td>\n",
       "    </tr>\n",
       "    <tr>\n",
       "      <th>1973</th>\n",
       "      <td>2.781690</td>\n",
       "      <td>0.193064</td>\n",
       "      <td>2.588626</td>\n",
       "    </tr>\n",
       "    <tr>\n",
       "      <th>2003</th>\n",
       "      <td>10.106006</td>\n",
       "      <td>7.571372</td>\n",
       "      <td>2.534634</td>\n",
       "    </tr>\n",
       "    <tr>\n",
       "      <th>2014</th>\n",
       "      <td>10.361783</td>\n",
       "      <td>8.017882</td>\n",
       "      <td>2.343901</td>\n",
       "    </tr>\n",
       "    <tr>\n",
       "      <th>1977</th>\n",
       "      <td>2.946762</td>\n",
       "      <td>0.625012</td>\n",
       "      <td>2.321750</td>\n",
       "    </tr>\n",
       "  </tbody>\n",
       "</table>\n",
       "</div>"
      ],
      "text/plain": [
       "            real_gross  real_budget    profit\n",
       "title_year                                   \n",
       "1939          3.813485     0.142916  3.670568\n",
       "1937          3.082181     0.033334  3.048847\n",
       "2002         11.477607     8.674271  2.803336\n",
       "2012         10.887788     8.145783  2.742005\n",
       "1940          2.754937     0.133410  2.621528\n",
       "1994          5.098076     2.490324  2.607753\n",
       "1973          2.781690     0.193064  2.588626\n",
       "2003         10.106006     7.571372  2.534634\n",
       "2014         10.361783     8.017882  2.343901\n",
       "1977          2.946762     0.625012  2.321750"
      ]
     },
     "execution_count": 10,
     "metadata": {},
     "output_type": "execute_result"
    }
   ],
   "source": [
    "# приводим года к одинаковому типу int16\n",
    "df['title_year'] = df['title_year'].astype('int16')\n",
    "# группируем фильмы по году и считаем для каждого года выручку и бюджет\n",
    "profit_table = df.groupby('title_year')[['real_gross','real_budget']].sum()\n",
    "# переводим числа в миллиарды долларов\n",
    "profit_table /= 10**9\n",
    "# считаем прибыль: выручка минус бюджет\n",
    "profit_table['profit'] = profit_table['real_gross'] - profit_table['real_budget'] \n",
    "# сортируем прибыль по убыванию\n",
    "profit_table = profit_table.sort_values(by='profit',ascending=False)\n",
    "# выводим первую десятку самых прибыльных годов\n",
    "profit_table[:10]"
   ]
  },
  {
   "cell_type": "markdown",
   "metadata": {},
   "source": [
    "### Группируем года по десятилетиям (нулевые, 10е, 20е и тд)\n",
    "Из нулевых годов только 2002 и 2003 входят в топ самых прибыльных. Чтобы определить самые прибыльные десятилетия, нужно сгруппировать таблицу по 20м, 30м, 40м и т.д годам и сложить все прибыли годов этих десятилетий"
   ]
  },
  {
   "cell_type": "code",
   "execution_count": 11,
   "metadata": {},
   "outputs": [
    {
     "data": {
      "text/plain": [
       "1980-1990    12.60\n",
       "1970-1980    12.30\n",
       "1990-2000     8.94\n",
       "1930-1940     6.67\n",
       "1960-1970     4.92\n",
       "1940-1950     1.58\n",
       "1950-1960     0.57\n",
       "1920-1930    -0.05\n",
       "2000-2010   -10.59\n",
       "dtype: float64"
      ]
     },
     "execution_count": 11,
     "metadata": {},
     "output_type": "execute_result"
    }
   ],
   "source": [
    "# лист с десятилетиями (decades)\n",
    "years = np.array(range(1920,2016,10))\n",
    "\n",
    "# таблица в которой будет ключём - десятилетие, а значение - сумма прибыли годов этого десятилетия\n",
    "decades_table = pd.Series()\n",
    "# проходимся по десятилетиям\n",
    "for i in range(len(years) - 1):\n",
    "    # строки, подходящие под нужное десятилитие\n",
    "    decade = profit_table[(years[i] < profit_table.index) & (profit_table.index <  years[i + 1])]\n",
    "    # заносим в таблицу сумму прибылей годов данного десятилетия\n",
    "    decades_table[f'{years[i]}-{years[i+1]}'] = round(decade['profit'].sum(),2)\n",
    "# сортируем по убыванию\n",
    "decades_table = decades_table.sort_values(ascending=False)\n",
    "decades_table"
   ]
  },
  {
   "cell_type": "markdown",
   "metadata": {},
   "source": [
    "### **Вывод**\n",
    "Нулевые года являются самыми худшими по прибыли с убытком 10.59 млрд долларов на пересчёт в деньги 2016 года. Первую позицию по заработку занимают 80-е - 90-е года с прибылью 12.6 млрд долларов. Возможно, результат нулевых годов такой неудачный из-за пропусков значений в столбце выручки (gross)"
   ]
  },
  {
   "cell_type": "markdown",
   "metadata": {},
   "source": [
    "## Гипотеза 2 - Не существует таких жанров в США, где сумма лайков в фейсбуке 1ых актёров меньше суммы лайков 2ых или 3их актёров "
   ]
  },
  {
   "cell_type": "markdown",
   "metadata": {},
   "source": [
    "### Пример суммы лайков первых актёров жанра:\n",
    "в трёх фильмах в жанре 'Action' первые актёры набрали 10, 20 и 30 лайков. Значит сумма лайков всех первых актёров жанра 'Action' равна 10+20+30=60"
   ]
  },
  {
   "cell_type": "markdown",
   "metadata": {},
   "source": [
    "### Чтобы проверить гипотезу 2, нужно:\n",
    "1. Отобрать только фильмы, сделанные в США\n",
    "2. Разделить столбец c жанрами на разные столбцы\n",
    "3. Посчитать суммы лайков актёров по жанрам\n",
    "4. Вывести столбцы, где сумма лайков 1ых актёров < суммы лайков 2ых или 3их актёров\n",
    "5. Если таких столбцов не оказалось, то гипотеза подтверждена"
   ]
  },
  {
   "cell_type": "markdown",
   "metadata": {},
   "source": [
    "### Отбираем фильмы, которые сделаны в США и оставляем только столбцы лайков актёров и жанры"
   ]
  },
  {
   "cell_type": "code",
   "execution_count": 12,
   "metadata": {},
   "outputs": [
    {
     "data": {
      "text/html": [
       "<div>\n",
       "<style scoped>\n",
       "    .dataframe tbody tr th:only-of-type {\n",
       "        vertical-align: middle;\n",
       "    }\n",
       "\n",
       "    .dataframe tbody tr th {\n",
       "        vertical-align: top;\n",
       "    }\n",
       "\n",
       "    .dataframe thead th {\n",
       "        text-align: right;\n",
       "    }\n",
       "</style>\n",
       "<table border=\"1\" class=\"dataframe\">\n",
       "  <thead>\n",
       "    <tr style=\"text-align: right;\">\n",
       "      <th></th>\n",
       "      <th>genres</th>\n",
       "      <th>Actor_1_Facebook_likes</th>\n",
       "      <th>actor_2_facebook_likes</th>\n",
       "      <th>actor_3_Facebook_likes</th>\n",
       "    </tr>\n",
       "  </thead>\n",
       "  <tbody>\n",
       "    <tr>\n",
       "      <th>0</th>\n",
       "      <td>Action|Adventure|Fantasy|Sci-Fi</td>\n",
       "      <td>1000</td>\n",
       "      <td>936</td>\n",
       "      <td>855</td>\n",
       "    </tr>\n",
       "    <tr>\n",
       "      <th>1</th>\n",
       "      <td>Action|Adventure|Fantasy</td>\n",
       "      <td>40000</td>\n",
       "      <td>5000</td>\n",
       "      <td>1000</td>\n",
       "    </tr>\n",
       "    <tr>\n",
       "      <th>3</th>\n",
       "      <td>Action|Thriller</td>\n",
       "      <td>27000</td>\n",
       "      <td>23000</td>\n",
       "      <td>23000</td>\n",
       "    </tr>\n",
       "    <tr>\n",
       "      <th>5</th>\n",
       "      <td>Action|Adventure|Sci-Fi</td>\n",
       "      <td>640</td>\n",
       "      <td>632</td>\n",
       "      <td>530</td>\n",
       "    </tr>\n",
       "    <tr>\n",
       "      <th>6</th>\n",
       "      <td>Action|Adventure|Romance</td>\n",
       "      <td>24000</td>\n",
       "      <td>11000</td>\n",
       "      <td>4000</td>\n",
       "    </tr>\n",
       "  </tbody>\n",
       "</table>\n",
       "</div>"
      ],
      "text/plain": [
       "                            genres  Actor_1_Facebook_likes   \n",
       "0  Action|Adventure|Fantasy|Sci-Fi                    1000  \\\n",
       "1         Action|Adventure|Fantasy                   40000   \n",
       "3                  Action|Thriller                   27000   \n",
       "5          Action|Adventure|Sci-Fi                     640   \n",
       "6         Action|Adventure|Romance                   24000   \n",
       "\n",
       "   actor_2_facebook_likes  actor_3_Facebook_likes  \n",
       "0                     936                     855  \n",
       "1                    5000                    1000  \n",
       "3                   23000                   23000  \n",
       "5                     632                     530  \n",
       "6                   11000                    4000  "
      ]
     },
     "execution_count": 12,
     "metadata": {},
     "output_type": "execute_result"
    }
   ],
   "source": [
    "# заменяем пустые значения и приводим столбцы к одному типу int32\n",
    "df[['Actor_1_Facebook_likes','actor_2_facebook_likes','actor_3_Facebook_likes']] = \\\n",
    "    df[['Actor_1_Facebook_likes','actor_2_facebook_likes','actor_3_Facebook_likes']].replace('',0).astype('int32')\n",
    "\n",
    "# отбираем только строчки со страной США\n",
    "df_USA = df.loc[df.loc[:,'country'] == 'USA']\n",
    "# оставляем только столбцы с жанром и лайками 3 актёров \n",
    "df_USA = df_USA[['genres','Actor_1_Facebook_likes','actor_2_facebook_likes','actor_3_Facebook_likes']]\n",
    "# выводим первые 5 строк таблицы\n",
    "df_USA.head(5)"
   ]
  },
  {
   "cell_type": "markdown",
   "metadata": {},
   "source": [
    "### Разделяем столбцы с жанрами на разные столбцы"
   ]
  },
  {
   "cell_type": "code",
   "execution_count": 13,
   "metadata": {},
   "outputs": [
    {
     "data": {
      "text/html": [
       "<div>\n",
       "<style scoped>\n",
       "    .dataframe tbody tr th:only-of-type {\n",
       "        vertical-align: middle;\n",
       "    }\n",
       "\n",
       "    .dataframe tbody tr th {\n",
       "        vertical-align: top;\n",
       "    }\n",
       "\n",
       "    .dataframe thead th {\n",
       "        text-align: right;\n",
       "    }\n",
       "</style>\n",
       "<table border=\"1\" class=\"dataframe\">\n",
       "  <thead>\n",
       "    <tr style=\"text-align: right;\">\n",
       "      <th></th>\n",
       "      <th>Actor_1_Facebook_likes</th>\n",
       "      <th>actor_2_facebook_likes</th>\n",
       "      <th>actor_3_Facebook_likes</th>\n",
       "      <th>genres_0</th>\n",
       "      <th>genres_1</th>\n",
       "      <th>genres_2</th>\n",
       "      <th>genres_3</th>\n",
       "      <th>genres_4</th>\n",
       "      <th>genres_5</th>\n",
       "      <th>genres_6</th>\n",
       "      <th>genres_7</th>\n",
       "    </tr>\n",
       "  </thead>\n",
       "  <tbody>\n",
       "    <tr>\n",
       "      <th>0</th>\n",
       "      <td>1000</td>\n",
       "      <td>936</td>\n",
       "      <td>855</td>\n",
       "      <td>Action</td>\n",
       "      <td>Adventure</td>\n",
       "      <td>Fantasy</td>\n",
       "      <td>Sci-Fi</td>\n",
       "      <td>None</td>\n",
       "      <td>None</td>\n",
       "      <td>None</td>\n",
       "      <td>None</td>\n",
       "    </tr>\n",
       "    <tr>\n",
       "      <th>1</th>\n",
       "      <td>40000</td>\n",
       "      <td>5000</td>\n",
       "      <td>1000</td>\n",
       "      <td>Action</td>\n",
       "      <td>Adventure</td>\n",
       "      <td>Fantasy</td>\n",
       "      <td>None</td>\n",
       "      <td>None</td>\n",
       "      <td>None</td>\n",
       "      <td>None</td>\n",
       "      <td>None</td>\n",
       "    </tr>\n",
       "    <tr>\n",
       "      <th>3</th>\n",
       "      <td>27000</td>\n",
       "      <td>23000</td>\n",
       "      <td>23000</td>\n",
       "      <td>Action</td>\n",
       "      <td>Thriller</td>\n",
       "      <td>None</td>\n",
       "      <td>None</td>\n",
       "      <td>None</td>\n",
       "      <td>None</td>\n",
       "      <td>None</td>\n",
       "      <td>None</td>\n",
       "    </tr>\n",
       "    <tr>\n",
       "      <th>5</th>\n",
       "      <td>640</td>\n",
       "      <td>632</td>\n",
       "      <td>530</td>\n",
       "      <td>Action</td>\n",
       "      <td>Adventure</td>\n",
       "      <td>Sci-Fi</td>\n",
       "      <td>None</td>\n",
       "      <td>None</td>\n",
       "      <td>None</td>\n",
       "      <td>None</td>\n",
       "      <td>None</td>\n",
       "    </tr>\n",
       "    <tr>\n",
       "      <th>6</th>\n",
       "      <td>24000</td>\n",
       "      <td>11000</td>\n",
       "      <td>4000</td>\n",
       "      <td>Action</td>\n",
       "      <td>Adventure</td>\n",
       "      <td>Romance</td>\n",
       "      <td>None</td>\n",
       "      <td>None</td>\n",
       "      <td>None</td>\n",
       "      <td>None</td>\n",
       "      <td>None</td>\n",
       "    </tr>\n",
       "  </tbody>\n",
       "</table>\n",
       "</div>"
      ],
      "text/plain": [
       "   Actor_1_Facebook_likes  actor_2_facebook_likes  actor_3_Facebook_likes   \n",
       "0                    1000                     936                     855  \\\n",
       "1                   40000                    5000                    1000   \n",
       "3                   27000                   23000                   23000   \n",
       "5                     640                     632                     530   \n",
       "6                   24000                   11000                    4000   \n",
       "\n",
       "  genres_0   genres_1 genres_2 genres_3 genres_4 genres_5 genres_6 genres_7  \n",
       "0   Action  Adventure  Fantasy   Sci-Fi     None     None     None     None  \n",
       "1   Action  Adventure  Fantasy     None     None     None     None     None  \n",
       "3   Action   Thriller     None     None     None     None     None     None  \n",
       "5   Action  Adventure   Sci-Fi     None     None     None     None     None  \n",
       "6   Action  Adventure  Romance     None     None     None     None     None  "
      ]
     },
     "execution_count": 13,
     "metadata": {},
     "output_type": "execute_result"
    }
   ],
   "source": [
    "# функция, которая из одного столбца делает несколько и прибавляет их к датафрейму\n",
    "def split_and_add_colums(df,column_to_split,split_sign):\n",
    "    # разделяем строку на несколько строк и создаём из них столбцы\n",
    "    df_where_split_column = df[column_to_split].str.split(split_sign, expand=True)\n",
    "    # переименовываем названия столбцов\n",
    "    df_where_split_column = df_where_split_column.rename(lambda x: f'{column_to_split}_{x}', axis=1)\n",
    "    #соединяем датафреймы\n",
    "    df = pd.concat([df,df_where_split_column],axis=1)\n",
    "    # удаляем ненужный столбец\n",
    "    df = df.drop(columns=column_to_split)\n",
    "    # возвращаем новый датафрейм\n",
    "    return df\n",
    "\n",
    "df_USA = split_and_add_colums(df_USA,'genres','|')\n",
    "df_USA.head(5)"
   ]
  },
  {
   "cell_type": "markdown",
   "metadata": {},
   "source": [
    "### Считаем суммы лайков актёров по жанрам"
   ]
  },
  {
   "cell_type": "code",
   "execution_count": 14,
   "metadata": {},
   "outputs": [
    {
     "data": {
      "text/html": [
       "<div>\n",
       "<style scoped>\n",
       "    .dataframe tbody tr th:only-of-type {\n",
       "        vertical-align: middle;\n",
       "    }\n",
       "\n",
       "    .dataframe tbody tr th {\n",
       "        vertical-align: top;\n",
       "    }\n",
       "\n",
       "    .dataframe thead th {\n",
       "        text-align: right;\n",
       "    }\n",
       "</style>\n",
       "<table border=\"1\" class=\"dataframe\">\n",
       "  <thead>\n",
       "    <tr style=\"text-align: right;\">\n",
       "      <th></th>\n",
       "      <th>Actor_1_Facebook_likes</th>\n",
       "      <th>actor_2_facebook_likes</th>\n",
       "      <th>actor_3_Facebook_likes</th>\n",
       "    </tr>\n",
       "  </thead>\n",
       "  <tbody>\n",
       "    <tr>\n",
       "      <th>Action</th>\n",
       "      <td>7921429.0</td>\n",
       "      <td>2088710.0</td>\n",
       "      <td>802663.0</td>\n",
       "    </tr>\n",
       "    <tr>\n",
       "      <th>Adventure</th>\n",
       "      <td>6142958.0</td>\n",
       "      <td>1889706.0</td>\n",
       "      <td>807455.0</td>\n",
       "    </tr>\n",
       "    <tr>\n",
       "      <th>Fantasy</th>\n",
       "      <td>4016419.0</td>\n",
       "      <td>1135803.0</td>\n",
       "      <td>552234.0</td>\n",
       "    </tr>\n",
       "    <tr>\n",
       "      <th>Sci-Fi</th>\n",
       "      <td>3603724.0</td>\n",
       "      <td>1069397.0</td>\n",
       "      <td>430652.0</td>\n",
       "    </tr>\n",
       "    <tr>\n",
       "      <th>None</th>\n",
       "      <td>0.0</td>\n",
       "      <td>0.0</td>\n",
       "      <td>0.0</td>\n",
       "    </tr>\n",
       "  </tbody>\n",
       "</table>\n",
       "</div>"
      ],
      "text/plain": [
       "           Actor_1_Facebook_likes  actor_2_facebook_likes   \n",
       "Action                  7921429.0               2088710.0  \\\n",
       "Adventure               6142958.0               1889706.0   \n",
       "Fantasy                 4016419.0               1135803.0   \n",
       "Sci-Fi                  3603724.0               1069397.0   \n",
       "None                          0.0                     0.0   \n",
       "\n",
       "           actor_3_Facebook_likes  \n",
       "Action                   802663.0  \n",
       "Adventure                807455.0  \n",
       "Fantasy                  552234.0  \n",
       "Sci-Fi                   430652.0  \n",
       "None                          0.0  "
      ]
     },
     "execution_count": 14,
     "metadata": {},
     "output_type": "execute_result"
    }
   ],
   "source": [
    "# находим уникальные жанры из всех столбцов, содержащих жанры\n",
    "unique_genres = pd.unique(df_USA.iloc[:,3:11].values.ravel())\n",
    "\n",
    "# таблица, содержащая ключ - жанр, а значение - сумма по лайкам у трёх актёров фильмов\n",
    "table_likes = pd.DataFrame()\n",
    "# проходимся по жанрам\n",
    "for genre in unique_genres:\n",
    "    # берём строки, содержащие определённый жанр\n",
    "    lines_containes_genre = df_USA[(df_USA == genre).any(axis=1)]\n",
    "    # считаем сумму лайков актёров по этим жанрам\n",
    "    summ_likes_actors = lines_containes_genre.iloc[:,0:3].sum()\n",
    "    # добавляем в таблицу жанр и сумму лайков актёров\n",
    "    table_likes[genre] = summ_likes_actors\n",
    "\n",
    "# транспонируем таблицу для удобства\n",
    "table_likes = pd.DataFrame.transpose(table_likes)\n",
    "# выводим таблицу\n",
    "table_likes.head(5)"
   ]
  },
  {
   "cell_type": "markdown",
   "metadata": {},
   "source": [
    "### Выводим столцы, где сумма лайков 1ых актёров < суммы лайков 2ых или 3их"
   ]
  },
  {
   "cell_type": "code",
   "execution_count": 15,
   "metadata": {},
   "outputs": [
    {
     "data": {
      "text/html": [
       "<div>\n",
       "<style scoped>\n",
       "    .dataframe tbody tr th:only-of-type {\n",
       "        vertical-align: middle;\n",
       "    }\n",
       "\n",
       "    .dataframe tbody tr th {\n",
       "        vertical-align: top;\n",
       "    }\n",
       "\n",
       "    .dataframe thead th {\n",
       "        text-align: right;\n",
       "    }\n",
       "</style>\n",
       "<table border=\"1\" class=\"dataframe\">\n",
       "  <thead>\n",
       "    <tr style=\"text-align: right;\">\n",
       "      <th></th>\n",
       "      <th>Actor_1_Facebook_likes</th>\n",
       "      <th>actor_2_facebook_likes</th>\n",
       "      <th>actor_3_Facebook_likes</th>\n",
       "    </tr>\n",
       "  </thead>\n",
       "  <tbody>\n",
       "  </tbody>\n",
       "</table>\n",
       "</div>"
      ],
      "text/plain": [
       "Empty DataFrame\n",
       "Columns: [Actor_1_Facebook_likes, actor_2_facebook_likes, actor_3_Facebook_likes]\n",
       "Index: []"
      ]
     },
     "execution_count": 15,
     "metadata": {},
     "output_type": "execute_result"
    }
   ],
   "source": [
    "# 1 актёры\n",
    "first_actors_likes = table_likes['Actor_1_Facebook_likes']\n",
    "# 2 актёры\n",
    "second_actors_likes = table_likes['actor_2_facebook_likes']\n",
    "# 3 актёры\n",
    "third_actors_likes = table_likes['actor_3_Facebook_likes']\n",
    "# выведем строки, в которых лайки 1 актёров меньше, чем у вторых актёров\n",
    "table_likes.loc[first_actors_likes < second_actors_likes]"
   ]
  },
  {
   "cell_type": "code",
   "execution_count": 16,
   "metadata": {},
   "outputs": [
    {
     "data": {
      "text/html": [
       "<div>\n",
       "<style scoped>\n",
       "    .dataframe tbody tr th:only-of-type {\n",
       "        vertical-align: middle;\n",
       "    }\n",
       "\n",
       "    .dataframe tbody tr th {\n",
       "        vertical-align: top;\n",
       "    }\n",
       "\n",
       "    .dataframe thead th {\n",
       "        text-align: right;\n",
       "    }\n",
       "</style>\n",
       "<table border=\"1\" class=\"dataframe\">\n",
       "  <thead>\n",
       "    <tr style=\"text-align: right;\">\n",
       "      <th></th>\n",
       "      <th>Actor_1_Facebook_likes</th>\n",
       "      <th>actor_2_facebook_likes</th>\n",
       "      <th>actor_3_Facebook_likes</th>\n",
       "    </tr>\n",
       "  </thead>\n",
       "  <tbody>\n",
       "  </tbody>\n",
       "</table>\n",
       "</div>"
      ],
      "text/plain": [
       "Empty DataFrame\n",
       "Columns: [Actor_1_Facebook_likes, actor_2_facebook_likes, actor_3_Facebook_likes]\n",
       "Index: []"
      ]
     },
     "execution_count": 16,
     "metadata": {},
     "output_type": "execute_result"
    }
   ],
   "source": [
    "# выведем строки, в которых лайки 1 актёров меньше, чем у третьих актёров\n",
    "table_likes.loc[first_actors_likes < second_actors_likes]"
   ]
  },
  {
   "cell_type": "code",
   "execution_count": 17,
   "metadata": {},
   "outputs": [
    {
     "data": {
      "text/html": [
       "<div>\n",
       "<style scoped>\n",
       "    .dataframe tbody tr th:only-of-type {\n",
       "        vertical-align: middle;\n",
       "    }\n",
       "\n",
       "    .dataframe tbody tr th {\n",
       "        vertical-align: top;\n",
       "    }\n",
       "\n",
       "    .dataframe thead th {\n",
       "        text-align: right;\n",
       "    }\n",
       "</style>\n",
       "<table border=\"1\" class=\"dataframe\">\n",
       "  <thead>\n",
       "    <tr style=\"text-align: right;\">\n",
       "      <th></th>\n",
       "      <th>Actor_1_Facebook_likes</th>\n",
       "      <th>actor_2_facebook_likes</th>\n",
       "      <th>actor_3_Facebook_likes</th>\n",
       "    </tr>\n",
       "  </thead>\n",
       "  <tbody>\n",
       "    <tr>\n",
       "      <th>News</th>\n",
       "      <td>1056.0</td>\n",
       "      <td>937.0</td>\n",
       "      <td>190.0</td>\n",
       "    </tr>\n",
       "    <tr>\n",
       "      <th>Short</th>\n",
       "      <td>1698.0</td>\n",
       "      <td>1170.0</td>\n",
       "      <td>602.0</td>\n",
       "    </tr>\n",
       "  </tbody>\n",
       "</table>\n",
       "</div>"
      ],
      "text/plain": [
       "       Actor_1_Facebook_likes  actor_2_facebook_likes  actor_3_Facebook_likes\n",
       "News                   1056.0                   937.0                   190.0\n",
       "Short                  1698.0                  1170.0                   602.0"
      ]
     },
     "execution_count": 17,
     "metadata": {},
     "output_type": "execute_result"
    }
   ],
   "source": [
    "# выведем строки, где лайки первых актёров менше суммы лайков 2ых и 3их актёров\n",
    "table_likes.loc[first_actors_likes < (second_actors_likes + third_actors_likes)]"
   ]
  },
  {
   "cell_type": "markdown",
   "metadata": {},
   "source": [
    "### **Вывод**\n",
    "Как видим, не существует жанров, где суммма лайков первых актёров меньше, чем у вторых или третьих, следовательно гипотеза подтвердилась. Но нашлись жанры, где сумма лайков 1ых актёров меньше суммы лайков 2ых и 3их вместе взятых - новости и спорт"
   ]
  },
  {
   "cell_type": "markdown",
   "metadata": {},
   "source": [
    "## Гипотеза 3 - Самые прибыльные жанры в США и в остальном мире совпадают "
   ]
  },
  {
   "cell_type": "markdown",
   "metadata": {},
   "source": [
    "### Чтобы проверить эту гипотезу, нам нужно:\n",
    "1. разделить фильмы на 2 категории - сделанные и не сделанные в США\n",
    "2. получить выручки фильмов\n",
    "3. получить сумму выручек фильмов по разным жанрам \n",
    "4. вывести первые 10 фильмов по убыванию выручки\n",
    "5. сравнить топ-10 фильмов США и остальных стран "
   ]
  },
  {
   "cell_type": "markdown",
   "metadata": {},
   "source": [
    "### Получаем фильмы, сделанные не в США"
   ]
  },
  {
   "cell_type": "code",
   "execution_count": 18,
   "metadata": {},
   "outputs": [
    {
     "data": {
      "text/html": [
       "<div>\n",
       "<style scoped>\n",
       "    .dataframe tbody tr th:only-of-type {\n",
       "        vertical-align: middle;\n",
       "    }\n",
       "\n",
       "    .dataframe tbody tr th {\n",
       "        vertical-align: top;\n",
       "    }\n",
       "\n",
       "    .dataframe thead th {\n",
       "        text-align: right;\n",
       "    }\n",
       "</style>\n",
       "<table border=\"1\" class=\"dataframe\">\n",
       "  <thead>\n",
       "    <tr style=\"text-align: right;\">\n",
       "      <th></th>\n",
       "      <th>genres</th>\n",
       "      <th>real_budget</th>\n",
       "      <th>real_gross</th>\n",
       "    </tr>\n",
       "  </thead>\n",
       "  <tbody>\n",
       "    <tr>\n",
       "      <th>2</th>\n",
       "      <td>Action|Adventure|Thriller</td>\n",
       "      <td>2.480907e+08</td>\n",
       "      <td>2.025981e+08</td>\n",
       "    </tr>\n",
       "    <tr>\n",
       "      <th>4</th>\n",
       "      <td>Documentary</td>\n",
       "      <td>0.000000e+00</td>\n",
       "      <td>0.000000e+00</td>\n",
       "    </tr>\n",
       "    <tr>\n",
       "      <th>9</th>\n",
       "      <td>Adventure|Family|Fantasy|Mystery</td>\n",
       "      <td>2.796802e+08</td>\n",
       "      <td>3.378055e+08</td>\n",
       "    </tr>\n",
       "    <tr>\n",
       "      <th>12</th>\n",
       "      <td>Action|Adventure</td>\n",
       "      <td>2.229481e+08</td>\n",
       "      <td>1.876871e+08</td>\n",
       "    </tr>\n",
       "    <tr>\n",
       "      <th>20</th>\n",
       "      <td>Adventure|Fantasy</td>\n",
       "      <td>2.534543e+08</td>\n",
       "      <td>2.586332e+08</td>\n",
       "    </tr>\n",
       "  </tbody>\n",
       "</table>\n",
       "</div>"
      ],
      "text/plain": [
       "                              genres   real_budget    real_gross\n",
       "2          Action|Adventure|Thriller  2.480907e+08  2.025981e+08\n",
       "4                        Documentary  0.000000e+00  0.000000e+00\n",
       "9   Adventure|Family|Fantasy|Mystery  2.796802e+08  3.378055e+08\n",
       "12                  Action|Adventure  2.229481e+08  1.876871e+08\n",
       "20                 Adventure|Fantasy  2.534543e+08  2.586332e+08"
      ]
     },
     "execution_count": 18,
     "metadata": {},
     "output_type": "execute_result"
    }
   ],
   "source": [
    "# берём строки, не содержащие США как страну\n",
    "df_world = df.loc[df.loc[:,'country'] != 'USA']\n",
    "# берём только столбцы с жанром, выручкой и бюджетом\n",
    "df_world = df_world[['genres','real_budget','real_gross']]\n",
    "df_world.head(5)"
   ]
  },
  {
   "cell_type": "markdown",
   "metadata": {},
   "source": [
    "### Считаем выручки фильмов не из США"
   ]
  },
  {
   "cell_type": "code",
   "execution_count": 19,
   "metadata": {},
   "outputs": [
    {
     "data": {
      "text/html": [
       "<div>\n",
       "<style scoped>\n",
       "    .dataframe tbody tr th:only-of-type {\n",
       "        vertical-align: middle;\n",
       "    }\n",
       "\n",
       "    .dataframe tbody tr th {\n",
       "        vertical-align: top;\n",
       "    }\n",
       "\n",
       "    .dataframe thead th {\n",
       "        text-align: right;\n",
       "    }\n",
       "</style>\n",
       "<table border=\"1\" class=\"dataframe\">\n",
       "  <thead>\n",
       "    <tr style=\"text-align: right;\">\n",
       "      <th></th>\n",
       "      <th>genres</th>\n",
       "      <th>real_budget</th>\n",
       "      <th>real_gross</th>\n",
       "      <th>profit (million $)</th>\n",
       "    </tr>\n",
       "  </thead>\n",
       "  <tbody>\n",
       "    <tr>\n",
       "      <th>9</th>\n",
       "      <td>Adventure|Family|Fantasy|Mystery</td>\n",
       "      <td>2.796802e+08</td>\n",
       "      <td>3.378055e+08</td>\n",
       "      <td>58.13</td>\n",
       "    </tr>\n",
       "    <tr>\n",
       "      <th>20</th>\n",
       "      <td>Adventure|Fantasy</td>\n",
       "      <td>2.534543e+08</td>\n",
       "      <td>2.586332e+08</td>\n",
       "      <td>5.18</td>\n",
       "    </tr>\n",
       "    <tr>\n",
       "      <th>25</th>\n",
       "      <td>Action|Adventure|Drama|Romance</td>\n",
       "      <td>2.543853e+08</td>\n",
       "      <td>2.679664e+08</td>\n",
       "      <td>13.58</td>\n",
       "    </tr>\n",
       "    <tr>\n",
       "      <th>30</th>\n",
       "      <td>Action|Adventure|Thriller</td>\n",
       "      <td>2.090708e+08</td>\n",
       "      <td>3.181642e+08</td>\n",
       "      <td>109.09</td>\n",
       "    </tr>\n",
       "    <tr>\n",
       "      <th>34</th>\n",
       "      <td>Action|Adventure|Fantasy|Sci-Fi|Thriller</td>\n",
       "      <td>2.500073e+08</td>\n",
       "      <td>2.790082e+08</td>\n",
       "      <td>29.00</td>\n",
       "    </tr>\n",
       "  </tbody>\n",
       "</table>\n",
       "</div>"
      ],
      "text/plain": [
       "                                      genres   real_budget    real_gross   \n",
       "9           Adventure|Family|Fantasy|Mystery  2.796802e+08  3.378055e+08  \\\n",
       "20                         Adventure|Fantasy  2.534543e+08  2.586332e+08   \n",
       "25            Action|Adventure|Drama|Romance  2.543853e+08  2.679664e+08   \n",
       "30                 Action|Adventure|Thriller  2.090708e+08  3.181642e+08   \n",
       "34  Action|Adventure|Fantasy|Sci-Fi|Thriller  2.500073e+08  2.790082e+08   \n",
       "\n",
       "    profit (million $)  \n",
       "9                58.13  \n",
       "20                5.18  \n",
       "25               13.58  \n",
       "30              109.09  \n",
       "34               29.00  "
      ]
     },
     "execution_count": 19,
     "metadata": {},
     "output_type": "execute_result"
    }
   ],
   "source": [
    "# считаем выручку\n",
    "df_world['profit'] = df_world['real_gross'] - df_world['real_budget']\n",
    "# берём только строки с положительной выручкой\n",
    "df_world = df_world.loc[df_world.loc[:,'profit'] > 0]\n",
    "# переводим в млн долларов\n",
    "df_world['profit'] = round(df_world['profit'] / 10**6,ndigits=2)\n",
    "#переименовываем столбец profit\n",
    "df_world = df_world.rename(columns={'profit': 'profit (million $)'})\n",
    "df_world.head(5)"
   ]
  },
  {
   "cell_type": "markdown",
   "metadata": {},
   "source": [
    "### Разделяем жанры по разным столбцам"
   ]
  },
  {
   "cell_type": "code",
   "execution_count": 20,
   "metadata": {},
   "outputs": [
    {
     "data": {
      "text/html": [
       "<div>\n",
       "<style scoped>\n",
       "    .dataframe tbody tr th:only-of-type {\n",
       "        vertical-align: middle;\n",
       "    }\n",
       "\n",
       "    .dataframe tbody tr th {\n",
       "        vertical-align: top;\n",
       "    }\n",
       "\n",
       "    .dataframe thead th {\n",
       "        text-align: right;\n",
       "    }\n",
       "</style>\n",
       "<table border=\"1\" class=\"dataframe\">\n",
       "  <thead>\n",
       "    <tr style=\"text-align: right;\">\n",
       "      <th></th>\n",
       "      <th>profit (million $)</th>\n",
       "      <th>genres_0</th>\n",
       "      <th>genres_1</th>\n",
       "      <th>genres_2</th>\n",
       "      <th>genres_3</th>\n",
       "      <th>genres_4</th>\n",
       "      <th>genres_5</th>\n",
       "      <th>genres_6</th>\n",
       "    </tr>\n",
       "  </thead>\n",
       "  <tbody>\n",
       "    <tr>\n",
       "      <th>9</th>\n",
       "      <td>58.13</td>\n",
       "      <td>Adventure</td>\n",
       "      <td>Family</td>\n",
       "      <td>Fantasy</td>\n",
       "      <td>Mystery</td>\n",
       "      <td>None</td>\n",
       "      <td>None</td>\n",
       "      <td>None</td>\n",
       "    </tr>\n",
       "    <tr>\n",
       "      <th>20</th>\n",
       "      <td>5.18</td>\n",
       "      <td>Adventure</td>\n",
       "      <td>Fantasy</td>\n",
       "      <td>None</td>\n",
       "      <td>None</td>\n",
       "      <td>None</td>\n",
       "      <td>None</td>\n",
       "      <td>None</td>\n",
       "    </tr>\n",
       "    <tr>\n",
       "      <th>25</th>\n",
       "      <td>13.58</td>\n",
       "      <td>Action</td>\n",
       "      <td>Adventure</td>\n",
       "      <td>Drama</td>\n",
       "      <td>Romance</td>\n",
       "      <td>None</td>\n",
       "      <td>None</td>\n",
       "      <td>None</td>\n",
       "    </tr>\n",
       "    <tr>\n",
       "      <th>30</th>\n",
       "      <td>109.09</td>\n",
       "      <td>Action</td>\n",
       "      <td>Adventure</td>\n",
       "      <td>Thriller</td>\n",
       "      <td>None</td>\n",
       "      <td>None</td>\n",
       "      <td>None</td>\n",
       "      <td>None</td>\n",
       "    </tr>\n",
       "    <tr>\n",
       "      <th>34</th>\n",
       "      <td>29.00</td>\n",
       "      <td>Action</td>\n",
       "      <td>Adventure</td>\n",
       "      <td>Fantasy</td>\n",
       "      <td>Sci-Fi</td>\n",
       "      <td>Thriller</td>\n",
       "      <td>None</td>\n",
       "      <td>None</td>\n",
       "    </tr>\n",
       "  </tbody>\n",
       "</table>\n",
       "</div>"
      ],
      "text/plain": [
       "    profit (million $)   genres_0   genres_1  genres_2 genres_3  genres_4   \n",
       "9                58.13  Adventure     Family   Fantasy  Mystery      None  \\\n",
       "20                5.18  Adventure    Fantasy      None     None      None   \n",
       "25               13.58     Action  Adventure     Drama  Romance      None   \n",
       "30              109.09     Action  Adventure  Thriller     None      None   \n",
       "34               29.00     Action  Adventure   Fantasy   Sci-Fi  Thriller   \n",
       "\n",
       "   genres_5 genres_6  \n",
       "9      None     None  \n",
       "20     None     None  \n",
       "25     None     None  \n",
       "30     None     None  \n",
       "34     None     None  "
      ]
     },
     "execution_count": 20,
     "metadata": {},
     "output_type": "execute_result"
    }
   ],
   "source": [
    "# разделяем жанры о разным столбцам\n",
    "df_world = split_and_add_colums(df_world,'genres','|')\n",
    "# удаляем столбцы бюджета и выручки\n",
    "df_world = df_world.drop(['real_budget','real_gross'],axis=1)\n",
    "df_world.head(5)"
   ]
  },
  {
   "cell_type": "markdown",
   "metadata": {},
   "source": [
    "### Считаем для каждого жанра сумму вырочек фильмов этого жанра"
   ]
  },
  {
   "cell_type": "code",
   "execution_count": 21,
   "metadata": {},
   "outputs": [
    {
     "data": {
      "text/plain": [
       "Adventure    7076.13\n",
       "Drama        5368.60\n",
       "Action       5341.49\n",
       "Thriller     5023.29\n",
       "Comedy       3654.81\n",
       "Family       2795.64\n",
       "Fantasy      2601.45\n",
       "Romance      2387.63\n",
       "Sci-Fi       1968.79\n",
       "Mystery      1582.51\n",
       "dtype: float64"
      ]
     },
     "execution_count": 21,
     "metadata": {},
     "output_type": "execute_result"
    }
   ],
   "source": [
    "# функция, которая возвращает сумму бюджетов фильмов по определённому жанру\n",
    "def genre_and_profit(df):\n",
    "    # таблица, содержащая ключ - жанр, а значение - сумма выручки фильмов\n",
    "    genres_profit = pd.Series()\n",
    "    for genre in unique_genres:\n",
    "        # берём строки, содержащие определённый жанр\n",
    "        lines_containes_genre = df[(df == genre).any(axis=1)]\n",
    "        # считаем сумму выручки по этим жанрам\n",
    "        summ_profit_of_genre = lines_containes_genre['profit (million $)'].sum()\n",
    "        # добавляем в таблицу жанр и сумму выручки\n",
    "        genres_profit[genre] = summ_profit_of_genre\n",
    "    return genres_profit.sort_values(ascending=False)\n",
    "\n",
    "# выводим таблицу с жанрами и суммой выручки стран \n",
    "world_genres_profit = genre_and_profit(df_world)\n",
    "world_genres_profit[:10]"
   ]
  },
  {
   "cell_type": "markdown",
   "metadata": {},
   "source": [
    "### Получаем выручки фильмов США"
   ]
  },
  {
   "cell_type": "code",
   "execution_count": 22,
   "metadata": {},
   "outputs": [
    {
     "data": {
      "text/html": [
       "<div>\n",
       "<style scoped>\n",
       "    .dataframe tbody tr th:only-of-type {\n",
       "        vertical-align: middle;\n",
       "    }\n",
       "\n",
       "    .dataframe tbody tr th {\n",
       "        vertical-align: top;\n",
       "    }\n",
       "\n",
       "    .dataframe thead th {\n",
       "        text-align: right;\n",
       "    }\n",
       "</style>\n",
       "<table border=\"1\" class=\"dataframe\">\n",
       "  <thead>\n",
       "    <tr style=\"text-align: right;\">\n",
       "      <th></th>\n",
       "      <th>Actor_1_Facebook_likes</th>\n",
       "      <th>actor_2_facebook_likes</th>\n",
       "      <th>actor_3_Facebook_likes</th>\n",
       "      <th>genres_0</th>\n",
       "      <th>genres_1</th>\n",
       "      <th>genres_2</th>\n",
       "      <th>genres_3</th>\n",
       "      <th>genres_4</th>\n",
       "      <th>genres_5</th>\n",
       "      <th>genres_6</th>\n",
       "      <th>genres_7</th>\n",
       "    </tr>\n",
       "  </thead>\n",
       "  <tbody>\n",
       "    <tr>\n",
       "      <th>0</th>\n",
       "      <td>1000</td>\n",
       "      <td>936</td>\n",
       "      <td>855</td>\n",
       "      <td>Action</td>\n",
       "      <td>Adventure</td>\n",
       "      <td>Fantasy</td>\n",
       "      <td>Sci-Fi</td>\n",
       "      <td>None</td>\n",
       "      <td>None</td>\n",
       "      <td>None</td>\n",
       "      <td>None</td>\n",
       "    </tr>\n",
       "    <tr>\n",
       "      <th>1</th>\n",
       "      <td>40000</td>\n",
       "      <td>5000</td>\n",
       "      <td>1000</td>\n",
       "      <td>Action</td>\n",
       "      <td>Adventure</td>\n",
       "      <td>Fantasy</td>\n",
       "      <td>None</td>\n",
       "      <td>None</td>\n",
       "      <td>None</td>\n",
       "      <td>None</td>\n",
       "      <td>None</td>\n",
       "    </tr>\n",
       "    <tr>\n",
       "      <th>3</th>\n",
       "      <td>27000</td>\n",
       "      <td>23000</td>\n",
       "      <td>23000</td>\n",
       "      <td>Action</td>\n",
       "      <td>Thriller</td>\n",
       "      <td>None</td>\n",
       "      <td>None</td>\n",
       "      <td>None</td>\n",
       "      <td>None</td>\n",
       "      <td>None</td>\n",
       "      <td>None</td>\n",
       "    </tr>\n",
       "    <tr>\n",
       "      <th>5</th>\n",
       "      <td>640</td>\n",
       "      <td>632</td>\n",
       "      <td>530</td>\n",
       "      <td>Action</td>\n",
       "      <td>Adventure</td>\n",
       "      <td>Sci-Fi</td>\n",
       "      <td>None</td>\n",
       "      <td>None</td>\n",
       "      <td>None</td>\n",
       "      <td>None</td>\n",
       "      <td>None</td>\n",
       "    </tr>\n",
       "    <tr>\n",
       "      <th>6</th>\n",
       "      <td>24000</td>\n",
       "      <td>11000</td>\n",
       "      <td>4000</td>\n",
       "      <td>Action</td>\n",
       "      <td>Adventure</td>\n",
       "      <td>Romance</td>\n",
       "      <td>None</td>\n",
       "      <td>None</td>\n",
       "      <td>None</td>\n",
       "      <td>None</td>\n",
       "      <td>None</td>\n",
       "    </tr>\n",
       "  </tbody>\n",
       "</table>\n",
       "</div>"
      ],
      "text/plain": [
       "   Actor_1_Facebook_likes  actor_2_facebook_likes  actor_3_Facebook_likes   \n",
       "0                    1000                     936                     855  \\\n",
       "1                   40000                    5000                    1000   \n",
       "3                   27000                   23000                   23000   \n",
       "5                     640                     632                     530   \n",
       "6                   24000                   11000                    4000   \n",
       "\n",
       "  genres_0   genres_1 genres_2 genres_3 genres_4 genres_5 genres_6 genres_7  \n",
       "0   Action  Adventure  Fantasy   Sci-Fi     None     None     None     None  \n",
       "1   Action  Adventure  Fantasy     None     None     None     None     None  \n",
       "3   Action   Thriller     None     None     None     None     None     None  \n",
       "5   Action  Adventure   Sci-Fi     None     None     None     None     None  \n",
       "6   Action  Adventure  Romance     None     None     None     None     None  "
      ]
     },
     "execution_count": 22,
     "metadata": {},
     "output_type": "execute_result"
    }
   ],
   "source": [
    "# позаимствуем таблицу df_USA из гипотезы 2\n",
    "df_USA.head(5)"
   ]
  },
  {
   "cell_type": "code",
   "execution_count": 23,
   "metadata": {},
   "outputs": [
    {
     "data": {
      "text/html": [
       "<div>\n",
       "<style scoped>\n",
       "    .dataframe tbody tr th:only-of-type {\n",
       "        vertical-align: middle;\n",
       "    }\n",
       "\n",
       "    .dataframe tbody tr th {\n",
       "        vertical-align: top;\n",
       "    }\n",
       "\n",
       "    .dataframe thead th {\n",
       "        text-align: right;\n",
       "    }\n",
       "</style>\n",
       "<table border=\"1\" class=\"dataframe\">\n",
       "  <thead>\n",
       "    <tr style=\"text-align: right;\">\n",
       "      <th></th>\n",
       "      <th>real_budget</th>\n",
       "      <th>real_gross</th>\n",
       "    </tr>\n",
       "  </thead>\n",
       "  <tbody>\n",
       "    <tr>\n",
       "      <th>0</th>\n",
       "      <td>265.136825</td>\n",
       "      <td>850.793694</td>\n",
       "    </tr>\n",
       "    <tr>\n",
       "      <th>1</th>\n",
       "      <td>347.332851</td>\n",
       "      <td>358.220754</td>\n",
       "    </tr>\n",
       "    <tr>\n",
       "      <th>3</th>\n",
       "      <td>261.338493</td>\n",
       "      <td>468.455147</td>\n",
       "    </tr>\n",
       "    <tr>\n",
       "      <th>5</th>\n",
       "      <td>275.659843</td>\n",
       "      <td>76.372180</td>\n",
       "    </tr>\n",
       "    <tr>\n",
       "      <th>6</th>\n",
       "      <td>298.706252</td>\n",
       "      <td>389.626765</td>\n",
       "    </tr>\n",
       "  </tbody>\n",
       "</table>\n",
       "</div>"
      ],
      "text/plain": [
       "   real_budget  real_gross\n",
       "0   265.136825  850.793694\n",
       "1   347.332851  358.220754\n",
       "3   261.338493  468.455147\n",
       "5   275.659843   76.372180\n",
       "6   298.706252  389.626765"
      ]
     },
     "execution_count": 23,
     "metadata": {},
     "output_type": "execute_result"
    }
   ],
   "source": [
    "# удаляем колонки с лайками актёров\n",
    "df_USA = df_USA.drop(df_USA.iloc[:,0:3], axis=1)\n",
    "# получаем столбец выручки и бюджета фильмов США\n",
    "gross_and_budget_USA = df.loc[df.loc[:,'country'] == 'USA'][['real_budget','real_gross']]\n",
    "# переводим в миллионы долларов\n",
    "gross_and_budget_USA = gross_and_budget_USA / 10**6\n",
    "gross_and_budget_USA.head(5)"
   ]
  },
  {
   "cell_type": "code",
   "execution_count": 24,
   "metadata": {},
   "outputs": [
    {
     "data": {
      "text/plain": [
       "0    585.656870\n",
       "1     10.887903\n",
       "3    207.116654\n",
       "5   -199.287662\n",
       "6     90.920513\n",
       "dtype: float64"
      ]
     },
     "execution_count": 24,
     "metadata": {},
     "output_type": "execute_result"
    }
   ],
   "source": [
    "# получаем выручку фильмов США\n",
    "profit_USA = gross_and_budget_USA['real_gross'] - gross_and_budget_USA['real_budget']\n",
    "profit_USA.head(5)"
   ]
  },
  {
   "cell_type": "markdown",
   "metadata": {},
   "source": [
    "### Считаем выручки фильмов США по жанрам"
   ]
  },
  {
   "cell_type": "code",
   "execution_count": 25,
   "metadata": {},
   "outputs": [
    {
     "data": {
      "text/html": [
       "<div>\n",
       "<style scoped>\n",
       "    .dataframe tbody tr th:only-of-type {\n",
       "        vertical-align: middle;\n",
       "    }\n",
       "\n",
       "    .dataframe tbody tr th {\n",
       "        vertical-align: top;\n",
       "    }\n",
       "\n",
       "    .dataframe thead th {\n",
       "        text-align: right;\n",
       "    }\n",
       "</style>\n",
       "<table border=\"1\" class=\"dataframe\">\n",
       "  <thead>\n",
       "    <tr style=\"text-align: right;\">\n",
       "      <th></th>\n",
       "      <th>genres_0</th>\n",
       "      <th>genres_1</th>\n",
       "      <th>genres_2</th>\n",
       "      <th>genres_3</th>\n",
       "      <th>genres_4</th>\n",
       "      <th>genres_5</th>\n",
       "      <th>genres_6</th>\n",
       "      <th>genres_7</th>\n",
       "      <th>profit (million $)</th>\n",
       "    </tr>\n",
       "  </thead>\n",
       "  <tbody>\n",
       "    <tr>\n",
       "      <th>0</th>\n",
       "      <td>Action</td>\n",
       "      <td>Adventure</td>\n",
       "      <td>Fantasy</td>\n",
       "      <td>Sci-Fi</td>\n",
       "      <td>None</td>\n",
       "      <td>None</td>\n",
       "      <td>None</td>\n",
       "      <td>None</td>\n",
       "      <td>585.66</td>\n",
       "    </tr>\n",
       "    <tr>\n",
       "      <th>1</th>\n",
       "      <td>Action</td>\n",
       "      <td>Adventure</td>\n",
       "      <td>Fantasy</td>\n",
       "      <td>None</td>\n",
       "      <td>None</td>\n",
       "      <td>None</td>\n",
       "      <td>None</td>\n",
       "      <td>None</td>\n",
       "      <td>10.89</td>\n",
       "    </tr>\n",
       "    <tr>\n",
       "      <th>3</th>\n",
       "      <td>Action</td>\n",
       "      <td>Thriller</td>\n",
       "      <td>None</td>\n",
       "      <td>None</td>\n",
       "      <td>None</td>\n",
       "      <td>None</td>\n",
       "      <td>None</td>\n",
       "      <td>None</td>\n",
       "      <td>207.12</td>\n",
       "    </tr>\n",
       "    <tr>\n",
       "      <th>6</th>\n",
       "      <td>Action</td>\n",
       "      <td>Adventure</td>\n",
       "      <td>Romance</td>\n",
       "      <td>None</td>\n",
       "      <td>None</td>\n",
       "      <td>None</td>\n",
       "      <td>None</td>\n",
       "      <td>None</td>\n",
       "      <td>90.92</td>\n",
       "    </tr>\n",
       "    <tr>\n",
       "      <th>8</th>\n",
       "      <td>Action</td>\n",
       "      <td>Adventure</td>\n",
       "      <td>Sci-Fi</td>\n",
       "      <td>None</td>\n",
       "      <td>None</td>\n",
       "      <td>None</td>\n",
       "      <td>None</td>\n",
       "      <td>None</td>\n",
       "      <td>211.63</td>\n",
       "    </tr>\n",
       "  </tbody>\n",
       "</table>\n",
       "</div>"
      ],
      "text/plain": [
       "  genres_0   genres_1 genres_2 genres_3 genres_4 genres_5 genres_6 genres_7   \n",
       "0   Action  Adventure  Fantasy   Sci-Fi     None     None     None     None  \\\n",
       "1   Action  Adventure  Fantasy     None     None     None     None     None   \n",
       "3   Action   Thriller     None     None     None     None     None     None   \n",
       "6   Action  Adventure  Romance     None     None     None     None     None   \n",
       "8   Action  Adventure   Sci-Fi     None     None     None     None     None   \n",
       "\n",
       "   profit (million $)  \n",
       "0              585.66  \n",
       "1               10.89  \n",
       "3              207.12  \n",
       "6               90.92  \n",
       "8              211.63  "
      ]
     },
     "execution_count": 25,
     "metadata": {},
     "output_type": "execute_result"
    }
   ],
   "source": [
    "# соединяем с жанрами фильмов США\n",
    "df_USA['profit (million $)'] = profit_USA\n",
    "# берём только положительную выручку\n",
    "df_USA = df_USA.loc[df_USA.loc[:,'profit (million $)'] > 0]\n",
    "# округляем до 2х знаков после запятой\n",
    "df_USA['profit (million $)'] = round(df_USA['profit (million $)'],2)\n",
    "df_USA.head(5)"
   ]
  },
  {
   "cell_type": "code",
   "execution_count": 26,
   "metadata": {},
   "outputs": [],
   "source": [
    "# получаем выручки фильмов жанров США\n",
    "USA_genres_profit = genre_and_profit(df_USA)"
   ]
  },
  {
   "cell_type": "code",
   "execution_count": 27,
   "metadata": {},
   "outputs": [
    {
     "name": "stdout",
     "output_type": "stream",
     "text": [
      "Adventure    7076.13\n",
      "Drama        5368.60\n",
      "Action       5341.49\n",
      "Thriller     5023.29\n",
      "Comedy       3654.81\n",
      "Family       2795.64\n",
      "Fantasy      2601.45\n",
      "Romance      2387.63\n",
      "Sci-Fi       1968.79\n",
      "Mystery      1582.51\n",
      "dtype: float64\n",
      "\n",
      "Drama        53515.13\n",
      "Comedy       49040.97\n",
      "Adventure    38482.23\n",
      "Action       33509.89\n",
      "Romance      30682.30\n",
      "Family       30342.04\n",
      "Fantasy      29609.28\n",
      "Thriller     24941.24\n",
      "Sci-Fi       21748.10\n",
      "Crime        16891.92\n",
      "dtype: float64\n"
     ]
    }
   ],
   "source": [
    "# Выводим первую десятку жанров мира и США\n",
    "print(world_genres_profit[:10])\n",
    "print()\n",
    "print(USA_genres_profit[:10])"
   ]
  },
  {
   "cell_type": "markdown",
   "metadata": {},
   "source": [
    "### **Вывод**\n",
    "Как можно заметить, 9 из 10 выручек жанров мира и США совпадают, то есть находятся в топ-10. Следовательно, можно сделать предположение, что в США и мире одинаковые популярные жанры. Поэтому третья гипотеза подтвердилась"
   ]
  },
  {
   "cell_type": "markdown",
   "metadata": {},
   "source": [
    "# Заключение"
   ]
  },
  {
   "cell_type": "markdown",
   "metadata": {},
   "source": [
    "### Было проверено 3 гипотезы\n",
    "\n",
    "1. Период нулевых годов 21-го века является самым прибыльным для фильмов\n",
    "2. Не существует таких жанров в США, где сумма лайков в фейсбуке 1ых актёров меньше суммы лайков 2ых или 3их актёров \n",
    "3. Самые прибыльные жанры в США и в остальном мире совпадают"
   ]
  },
  {
   "cell_type": "markdown",
   "metadata": {},
   "source": [
    "### Первая гипотеза опроверглась\n",
    "Нулевые года 21 века занимают последнюю строчку по прибыльности фильмов, а не первую, как предполагалось"
   ]
  },
  {
   "cell_type": "markdown",
   "metadata": {},
   "source": [
    "### Вторая Гипотеза подтвердилась\n",
    "В действительности нет таких жанров, где сумма лайков 2ых или 3их актёров больше, чем у первых. Но есть жанры новости и спорт, где сумма лайков 1ых актёров не смогла превзойти сумму 2ых и 3их актёров вместе взятых"
   ]
  },
  {
   "cell_type": "markdown",
   "metadata": {},
   "source": [
    "### Третья гипотеза подтвердилась\n",
    "Самые прибыльные жанры в США и мире совпадают, только занимают разные места в топе 10 самых прибыльных жанров, а также есть различие в последних местах: 'Mystery' в мире и 'Crime' в США"
   ]
  }
 ],
 "metadata": {
  "kernelspec": {
   "display_name": "Python 3",
   "language": "python",
   "name": "python3"
  },
  "language_info": {
   "codemirror_mode": {
    "name": "ipython",
    "version": 3
   },
   "file_extension": ".py",
   "mimetype": "text/x-python",
   "name": "python",
   "nbconvert_exporter": "python",
   "pygments_lexer": "ipython3",
   "version": "3.11.3"
  },
  "orig_nbformat": 4
 },
 "nbformat": 4,
 "nbformat_minor": 2
}
