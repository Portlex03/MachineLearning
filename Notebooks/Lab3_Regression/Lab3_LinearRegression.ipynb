{
 "cells": [
  {
   "cell_type": "markdown",
   "metadata": {},
   "source": [
    "# Лабораторная работа №3"
   ]
  },
  {
   "cell_type": "markdown",
   "metadata": {},
   "source": [
    "# Задание"
   ]
  },
  {
   "cell_type": "markdown",
   "metadata": {},
   "source": [
    "Изучить примеры в тетрадках: Lab3_Ex1 MR_PolR.ipynb, Lab3_Ex2 SR-MR-PolR.ipynb\n",
    "Реализовать настройку окружения (см. Как подготовить окружение.pdf).\n",
    "\n",
    "Изучить примеры в тетрадках:\n",
    "Lab3_Ex3 SR_PolR_1Hot-Code.ipynb — еще пример на полиномиальную регрессии + горячее кодирование (Pandas) и демонстрация как существенно это влияет на качество модели ML\n",
    "Lab3_Ex4 LR ElasticNet-GridSearch.ipynb — пример на ElasticNet\n",
    "\n",
    "1. В соответствии с индивидуальным вариантом загрузить датасет (см. ML 3 semestr datasets) для решения задачи регрессии, выполнить предварительную обработку и разведочный анализ данных (EDA).\n",
    "2. Выделить целевой признак и предикторы, разбить данные на обучающую и тестовую выборку.\n",
    "3. Решить задачу регрессии на ваших данных с использованием моделей sklearn (простая линейная регрессия + L1, L2; множественная линейная регрессия + L1, L2), для моделей с регуляризациями подберите гиперпараметр.\n",
    "4. Решить задачу регрессии на ваших данных с использованием моделей sklearn (Полиномиальная регрессия + L1, L2), для моделей с регуляризациями подберите гиперпараметр.\n",
    "5. Вычислить значения метрик R2, MAE, MSE, RMSE, MAPE для всех обученных моделей. Выбрать лучшую модель.\n",
    "6. Реализовать пайплайн при построении модели регрессии.\n",
    "7. Самостоятельно реализовать вычисление всех используемых метрик (в виде функций, принимающих два аргумента). Привести в таблице метрики, вычисленные с использование библиотеки Scikit-learn и соответствующими пользовательскими функциями.\n",
    "8. Решить задачу регрессии на ваших данных с использованием моделей sklearn (простая линейная регрессия + L1, L2, ElasticNet; множественная линейная регрессия + L1, L2, ElasticNet), для моделей с регуляризациями подберите гиперпараметр. Применить горячее кодирование (Pandas).\n",
    "9. Вычислить значения метрик R2, MAE, MSE, RMSE, MAPE для всех обученных моделей. Выбрать лучшую модель.\n",
    "10. *самостоятельно реализовать (желательно в виде класса) модель линейной регрессии с регуляризацией (L1 и L2)"
   ]
  },
  {
   "cell_type": "code",
   "execution_count": 1,
   "metadata": {},
   "outputs": [],
   "source": [
    "import warnings\n",
    "warnings.filterwarnings('ignore')\n",
    "\n",
    "import matplotlib.pyplot as plt"
   ]
  },
  {
   "cell_type": "markdown",
   "metadata": {},
   "source": [
    "# Пункт 1"
   ]
  },
  {
   "cell_type": "markdown",
   "metadata": {},
   "source": [
    "В соответствии с индивидуальным вариантом загрузить датасет (см. ML 3 semestr datasets) для решения задачи регрессии, выполнить предварительную обработку и разведочный анализ данных (EDA)."
   ]
  },
  {
   "cell_type": "markdown",
   "metadata": {},
   "source": [
    "## Предварительная обработка данных"
   ]
  },
  {
   "cell_type": "code",
   "execution_count": 2,
   "metadata": {},
   "outputs": [],
   "source": [
    "import pandas as pd\n",
    "df = pd.read_csv('../../Datasets/Lab3_DataSet3.csv')"
   ]
  },
  {
   "cell_type": "code",
   "execution_count": 3,
   "metadata": {},
   "outputs": [
    {
     "data": {
      "text/html": [
       "<div>\n",
       "<style scoped>\n",
       "    .dataframe tbody tr th:only-of-type {\n",
       "        vertical-align: middle;\n",
       "    }\n",
       "\n",
       "    .dataframe tbody tr th {\n",
       "        vertical-align: top;\n",
       "    }\n",
       "\n",
       "    .dataframe thead th {\n",
       "        text-align: right;\n",
       "    }\n",
       "</style>\n",
       "<table border=\"1\" class=\"dataframe\">\n",
       "  <thead>\n",
       "    <tr style=\"text-align: right;\">\n",
       "      <th></th>\n",
       "      <th>Make</th>\n",
       "      <th>Model</th>\n",
       "      <th>Year</th>\n",
       "      <th>Style</th>\n",
       "      <th>Distance</th>\n",
       "      <th>Engine_capacity(cm3)</th>\n",
       "      <th>Fuel_type</th>\n",
       "      <th>Transmission</th>\n",
       "      <th>Price(euro)</th>\n",
       "    </tr>\n",
       "  </thead>\n",
       "  <tbody>\n",
       "    <tr>\n",
       "      <th>0</th>\n",
       "      <td>Toyota</td>\n",
       "      <td>Prius</td>\n",
       "      <td>2011.0</td>\n",
       "      <td>Hatchback</td>\n",
       "      <td>195000.0</td>\n",
       "      <td>1800.0</td>\n",
       "      <td>Hybrid</td>\n",
       "      <td>Automatic</td>\n",
       "      <td>7750.0</td>\n",
       "    </tr>\n",
       "    <tr>\n",
       "      <th>1</th>\n",
       "      <td>Renault</td>\n",
       "      <td>Grand Scenic</td>\n",
       "      <td>2014.0</td>\n",
       "      <td>Universal</td>\n",
       "      <td>135000.0</td>\n",
       "      <td>1500.0</td>\n",
       "      <td>Diesel</td>\n",
       "      <td>Manual</td>\n",
       "      <td>8550.0</td>\n",
       "    </tr>\n",
       "    <tr>\n",
       "      <th>2</th>\n",
       "      <td>Volkswagen</td>\n",
       "      <td>Golf</td>\n",
       "      <td>1998.0</td>\n",
       "      <td>Hatchback</td>\n",
       "      <td>1.0</td>\n",
       "      <td>1400.0</td>\n",
       "      <td>Petrol</td>\n",
       "      <td>Manual</td>\n",
       "      <td>2200.0</td>\n",
       "    </tr>\n",
       "    <tr>\n",
       "      <th>3</th>\n",
       "      <td>Renault</td>\n",
       "      <td>Laguna</td>\n",
       "      <td>2012.0</td>\n",
       "      <td>Universal</td>\n",
       "      <td>110000.0</td>\n",
       "      <td>1500.0</td>\n",
       "      <td>Diesel</td>\n",
       "      <td>Manual</td>\n",
       "      <td>6550.0</td>\n",
       "    </tr>\n",
       "    <tr>\n",
       "      <th>4</th>\n",
       "      <td>Opel</td>\n",
       "      <td>Astra</td>\n",
       "      <td>2006.0</td>\n",
       "      <td>Universal</td>\n",
       "      <td>200000.0</td>\n",
       "      <td>1600.0</td>\n",
       "      <td>Metan/Propan</td>\n",
       "      <td>Manual</td>\n",
       "      <td>4100.0</td>\n",
       "    </tr>\n",
       "  </tbody>\n",
       "</table>\n",
       "</div>"
      ],
      "text/plain": [
       "         Make         Model    Year      Style  Distance  \\\n",
       "0      Toyota         Prius  2011.0  Hatchback  195000.0   \n",
       "1     Renault  Grand Scenic  2014.0  Universal  135000.0   \n",
       "2  Volkswagen          Golf  1998.0  Hatchback       1.0   \n",
       "3     Renault        Laguna  2012.0  Universal  110000.0   \n",
       "4        Opel         Astra  2006.0  Universal  200000.0   \n",
       "\n",
       "   Engine_capacity(cm3)     Fuel_type Transmission  Price(euro)  \n",
       "0                1800.0        Hybrid    Automatic       7750.0  \n",
       "1                1500.0        Diesel       Manual       8550.0  \n",
       "2                1400.0        Petrol       Manual       2200.0  \n",
       "3                1500.0        Diesel       Manual       6550.0  \n",
       "4                1600.0  Metan/Propan       Manual       4100.0  "
      ]
     },
     "execution_count": 3,
     "metadata": {},
     "output_type": "execute_result"
    }
   ],
   "source": [
    "df.head()"
   ]
  },
  {
   "cell_type": "code",
   "execution_count": 4,
   "metadata": {},
   "outputs": [],
   "source": [
    "# переименовываем некоторые столбцы\n",
    "renamer = {'Make': 'Mark', \n",
    "           'Style': 'Type',\n",
    "           'Engine_capacity(cm3)': 'Engine_capacity_cm3'}\n",
    "df = df.rename(renamer, axis='columns')"
   ]
  },
  {
   "cell_type": "code",
   "execution_count": 5,
   "metadata": {},
   "outputs": [
    {
     "name": "stdout",
     "output_type": "stream",
     "text": [
      "<class 'pandas.core.frame.DataFrame'>\n",
      "RangeIndex: 41007 entries, 0 to 41006\n",
      "Data columns (total 9 columns):\n",
      " #   Column               Non-Null Count  Dtype  \n",
      "---  ------               --------------  -----  \n",
      " 0   Mark                 41007 non-null  object \n",
      " 1   Model                40671 non-null  object \n",
      " 2   Year                 40771 non-null  float64\n",
      " 3   Type                 40938 non-null  object \n",
      " 4   Distance             40889 non-null  float64\n",
      " 5   Engine_capacity_cm3  41007 non-null  float64\n",
      " 6   Fuel_type            41007 non-null  object \n",
      " 7   Transmission         40779 non-null  object \n",
      " 8   Price(euro)          41007 non-null  float64\n",
      "dtypes: float64(4), object(5)\n",
      "memory usage: 2.8+ MB\n"
     ]
    }
   ],
   "source": [
    "# узнаём информацию о столбцах\n",
    "df.info()"
   ]
  },
  {
   "cell_type": "markdown",
   "metadata": {},
   "source": [
    "**Вывод:** \n",
    "- В столбцах model, year, type, distance, transmission присутствуют пропущенные значения\n",
    "- столбцы year, distance, engine_capacity, price имеют тип float, а не тип int"
   ]
  },
  {
   "cell_type": "markdown",
   "metadata": {},
   "source": [
    "### Избавление от дубликатов"
   ]
  },
  {
   "cell_type": "code",
   "execution_count": 6,
   "metadata": {},
   "outputs": [
    {
     "data": {
      "text/plain": [
       "3589"
      ]
     },
     "execution_count": 6,
     "metadata": {},
     "output_type": "execute_result"
    }
   ],
   "source": [
    "df.duplicated().sum()\n"
   ]
  },
  {
   "cell_type": "code",
   "execution_count": 7,
   "metadata": {},
   "outputs": [
    {
     "data": {
      "text/plain": [
       "0"
      ]
     },
     "execution_count": 7,
     "metadata": {},
     "output_type": "execute_result"
    }
   ],
   "source": [
    "df = df.drop_duplicates().reset_index(drop=True)\n",
    "df.duplicated().sum()"
   ]
  },
  {
   "cell_type": "markdown",
   "metadata": {},
   "source": [
    "### Заполнение пропущенных значений"
   ]
  },
  {
   "cell_type": "code",
   "execution_count": 8,
   "metadata": {},
   "outputs": [],
   "source": [
    "def fill_na(df: pd.DataFrame, need_column: str, *parameters):\n",
    "    na_indexes = df[df[need_column].isna()].index\n",
    "\n",
    "    for auto in na_indexes:\n",
    "        param1 = df[parameters[0]][auto]\n",
    "        param2 = df[parameters[1]][auto]\n",
    "        query = df.query(f'{parameters[0]} == \"{param1}\" & {parameters[1]} == \"{param2}\"')\n",
    "        try: df[need_column][auto] = query[need_column].mode().iat[0]\n",
    "        except IndexError: continue"
   ]
  },
  {
   "cell_type": "code",
   "execution_count": 9,
   "metadata": {},
   "outputs": [],
   "source": [
    "# заполняем столбец Модели\n",
    "fill_na(df,'Model','Mark','Type')\n",
    "\n",
    "# заполняем столбец года\n",
    "fill_na(df, 'Year', 'Mark', 'Model')\n",
    "\n",
    "# заполняем тип\n",
    "fill_na(df,'Type','Mark','Model')\n",
    "\n",
    "# заполняем пробег\n",
    "fill_na(df,'Distance','Mark','Model')\n",
    "\n",
    "#заполняем коробку передач\n",
    "fill_na(df,'Transmission','Mark','Model')"
   ]
  },
  {
   "cell_type": "code",
   "execution_count": 10,
   "metadata": {},
   "outputs": [
    {
     "name": "stdout",
     "output_type": "stream",
     "text": [
      "<class 'pandas.core.frame.DataFrame'>\n",
      "RangeIndex: 37418 entries, 0 to 37417\n",
      "Data columns (total 9 columns):\n",
      " #   Column               Non-Null Count  Dtype  \n",
      "---  ------               --------------  -----  \n",
      " 0   Mark                 37418 non-null  object \n",
      " 1   Model                37418 non-null  object \n",
      " 2   Year                 37418 non-null  float64\n",
      " 3   Type                 37418 non-null  object \n",
      " 4   Distance             37418 non-null  float64\n",
      " 5   Engine_capacity_cm3  37418 non-null  float64\n",
      " 6   Fuel_type            37418 non-null  object \n",
      " 7   Transmission         37413 non-null  object \n",
      " 8   Price(euro)          37418 non-null  float64\n",
      "dtypes: float64(4), object(5)\n",
      "memory usage: 2.6+ MB\n"
     ]
    }
   ],
   "source": [
    "df.info()"
   ]
  },
  {
   "cell_type": "markdown",
   "metadata": {},
   "source": [
    "Заменяем столбцы с типами float на тип int"
   ]
  },
  {
   "cell_type": "code",
   "execution_count": 11,
   "metadata": {},
   "outputs": [],
   "source": [
    "columns = ['Year','Distance','Engine_capacity_cm3','Price(euro)']\n",
    "\n",
    "for column in columns:\n",
    "    df[column] = df[column].astype(int)"
   ]
  },
  {
   "cell_type": "markdown",
   "metadata": {},
   "source": [
    "Убираем строчки с неизвестным столбцом Transmission и заменяем значения в нём на числа"
   ]
  },
  {
   "cell_type": "code",
   "execution_count": 12,
   "metadata": {},
   "outputs": [],
   "source": [
    "df = df.dropna()\n",
    "\n",
    "to_replace = {\n",
    "    'Manual': 1,\n",
    "    'Automatic': 2\n",
    "}\n",
    "df['Transmission'] = df['Transmission'].replace(to_replace)"
   ]
  },
  {
   "cell_type": "markdown",
   "metadata": {},
   "source": [
    "## EDA"
   ]
  },
  {
   "cell_type": "code",
   "execution_count": 13,
   "metadata": {},
   "outputs": [
    {
     "data": {
      "text/html": [
       "<div>\n",
       "<style scoped>\n",
       "    .dataframe tbody tr th:only-of-type {\n",
       "        vertical-align: middle;\n",
       "    }\n",
       "\n",
       "    .dataframe tbody tr th {\n",
       "        vertical-align: top;\n",
       "    }\n",
       "\n",
       "    .dataframe thead th {\n",
       "        text-align: right;\n",
       "    }\n",
       "</style>\n",
       "<table border=\"1\" class=\"dataframe\">\n",
       "  <thead>\n",
       "    <tr style=\"text-align: right;\">\n",
       "      <th></th>\n",
       "      <th>Year</th>\n",
       "      <th>Distance</th>\n",
       "      <th>Engine_capacity_cm3</th>\n",
       "      <th>Transmission</th>\n",
       "      <th>Price(euro)</th>\n",
       "    </tr>\n",
       "  </thead>\n",
       "  <tbody>\n",
       "    <tr>\n",
       "      <th>count</th>\n",
       "      <td>37413.000000</td>\n",
       "      <td>3.741300e+04</td>\n",
       "      <td>37413.000000</td>\n",
       "      <td>37413.000000</td>\n",
       "      <td>3.741300e+04</td>\n",
       "    </tr>\n",
       "    <tr>\n",
       "      <th>mean</th>\n",
       "      <td>2007.722503</td>\n",
       "      <td>4.742012e+05</td>\n",
       "      <td>1858.713602</td>\n",
       "      <td>1.443910</td>\n",
       "      <td>9.573405e+03</td>\n",
       "    </tr>\n",
       "    <tr>\n",
       "      <th>std</th>\n",
       "      <td>8.285509</td>\n",
       "      <td>4.582109e+06</td>\n",
       "      <td>707.027355</td>\n",
       "      <td>0.496851</td>\n",
       "      <td>5.273025e+04</td>\n",
       "    </tr>\n",
       "    <tr>\n",
       "      <th>min</th>\n",
       "      <td>1900.000000</td>\n",
       "      <td>0.000000e+00</td>\n",
       "      <td>0.000000</td>\n",
       "      <td>1.000000</td>\n",
       "      <td>1.000000e+00</td>\n",
       "    </tr>\n",
       "    <tr>\n",
       "      <th>25%</th>\n",
       "      <td>2004.000000</td>\n",
       "      <td>9.000000e+04</td>\n",
       "      <td>1499.000000</td>\n",
       "      <td>1.000000</td>\n",
       "      <td>3.333000e+03</td>\n",
       "    </tr>\n",
       "    <tr>\n",
       "      <th>50%</th>\n",
       "      <td>2009.000000</td>\n",
       "      <td>1.700000e+05</td>\n",
       "      <td>1800.000000</td>\n",
       "      <td>1.000000</td>\n",
       "      <td>6.499000e+03</td>\n",
       "    </tr>\n",
       "    <tr>\n",
       "      <th>75%</th>\n",
       "      <td>2014.000000</td>\n",
       "      <td>2.300000e+05</td>\n",
       "      <td>2000.000000</td>\n",
       "      <td>2.000000</td>\n",
       "      <td>1.180000e+04</td>\n",
       "    </tr>\n",
       "    <tr>\n",
       "      <th>max</th>\n",
       "      <td>2021.000000</td>\n",
       "      <td>1.000000e+08</td>\n",
       "      <td>9999.000000</td>\n",
       "      <td>2.000000</td>\n",
       "      <td>1.000000e+07</td>\n",
       "    </tr>\n",
       "  </tbody>\n",
       "</table>\n",
       "</div>"
      ],
      "text/plain": [
       "               Year      Distance  Engine_capacity_cm3  Transmission  \\\n",
       "count  37413.000000  3.741300e+04         37413.000000  37413.000000   \n",
       "mean    2007.722503  4.742012e+05          1858.713602      1.443910   \n",
       "std        8.285509  4.582109e+06           707.027355      0.496851   \n",
       "min     1900.000000  0.000000e+00             0.000000      1.000000   \n",
       "25%     2004.000000  9.000000e+04          1499.000000      1.000000   \n",
       "50%     2009.000000  1.700000e+05          1800.000000      1.000000   \n",
       "75%     2014.000000  2.300000e+05          2000.000000      2.000000   \n",
       "max     2021.000000  1.000000e+08          9999.000000      2.000000   \n",
       "\n",
       "        Price(euro)  \n",
       "count  3.741300e+04  \n",
       "mean   9.573405e+03  \n",
       "std    5.273025e+04  \n",
       "min    1.000000e+00  \n",
       "25%    3.333000e+03  \n",
       "50%    6.499000e+03  \n",
       "75%    1.180000e+04  \n",
       "max    1.000000e+07  "
      ]
     },
     "execution_count": 13,
     "metadata": {},
     "output_type": "execute_result"
    }
   ],
   "source": [
    "df.describe()"
   ]
  },
  {
   "cell_type": "code",
   "execution_count": 14,
   "metadata": {},
   "outputs": [
    {
     "data": {
      "text/html": [
       "<div>\n",
       "<style scoped>\n",
       "    .dataframe tbody tr th:only-of-type {\n",
       "        vertical-align: middle;\n",
       "    }\n",
       "\n",
       "    .dataframe tbody tr th {\n",
       "        vertical-align: top;\n",
       "    }\n",
       "\n",
       "    .dataframe thead th {\n",
       "        text-align: right;\n",
       "    }\n",
       "</style>\n",
       "<table border=\"1\" class=\"dataframe\">\n",
       "  <thead>\n",
       "    <tr style=\"text-align: right;\">\n",
       "      <th></th>\n",
       "      <th>Year</th>\n",
       "      <th>Distance</th>\n",
       "      <th>Engine_capacity_cm3</th>\n",
       "      <th>Transmission</th>\n",
       "      <th>Price(euro)</th>\n",
       "    </tr>\n",
       "  </thead>\n",
       "  <tbody>\n",
       "    <tr>\n",
       "      <th>0</th>\n",
       "      <td>2011</td>\n",
       "      <td>195000</td>\n",
       "      <td>1800</td>\n",
       "      <td>2</td>\n",
       "      <td>7750</td>\n",
       "    </tr>\n",
       "    <tr>\n",
       "      <th>1</th>\n",
       "      <td>2014</td>\n",
       "      <td>135000</td>\n",
       "      <td>1500</td>\n",
       "      <td>1</td>\n",
       "      <td>8550</td>\n",
       "    </tr>\n",
       "    <tr>\n",
       "      <th>2</th>\n",
       "      <td>1998</td>\n",
       "      <td>1</td>\n",
       "      <td>1400</td>\n",
       "      <td>1</td>\n",
       "      <td>2200</td>\n",
       "    </tr>\n",
       "    <tr>\n",
       "      <th>3</th>\n",
       "      <td>2012</td>\n",
       "      <td>110000</td>\n",
       "      <td>1500</td>\n",
       "      <td>1</td>\n",
       "      <td>6550</td>\n",
       "    </tr>\n",
       "    <tr>\n",
       "      <th>4</th>\n",
       "      <td>2006</td>\n",
       "      <td>200000</td>\n",
       "      <td>1600</td>\n",
       "      <td>1</td>\n",
       "      <td>4100</td>\n",
       "    </tr>\n",
       "  </tbody>\n",
       "</table>\n",
       "</div>"
      ],
      "text/plain": [
       "   Year  Distance  Engine_capacity_cm3  Transmission  Price(euro)\n",
       "0  2011    195000                 1800             2         7750\n",
       "1  2014    135000                 1500             1         8550\n",
       "2  1998         1                 1400             1         2200\n",
       "3  2012    110000                 1500             1         6550\n",
       "4  2006    200000                 1600             1         4100"
      ]
     },
     "execution_count": 14,
     "metadata": {},
     "output_type": "execute_result"
    }
   ],
   "source": [
    "columns = df.describe().columns\n",
    "outlier = df[columns]\n",
    "\n",
    "Q1 = outlier.quantile(0.25)\n",
    "Q3 = outlier.quantile(0.75)\n",
    "IQR = Q3 - Q1\n",
    "\n",
    "data = outlier[~( (outlier < (Q1 - 1.5*IQR)) | (outlier > (Q3 + 1.5*IQR)) ).any(axis=1)]\n",
    "data.head()"
   ]
  },
  {
   "cell_type": "code",
   "execution_count": 15,
   "metadata": {},
   "outputs": [
    {
     "data": {
      "text/html": [
       "<div>\n",
       "<style scoped>\n",
       "    .dataframe tbody tr th:only-of-type {\n",
       "        vertical-align: middle;\n",
       "    }\n",
       "\n",
       "    .dataframe tbody tr th {\n",
       "        vertical-align: top;\n",
       "    }\n",
       "\n",
       "    .dataframe thead th {\n",
       "        text-align: right;\n",
       "    }\n",
       "</style>\n",
       "<table border=\"1\" class=\"dataframe\">\n",
       "  <thead>\n",
       "    <tr style=\"text-align: right;\">\n",
       "      <th></th>\n",
       "      <th>Mark</th>\n",
       "      <th>Model</th>\n",
       "      <th>Year</th>\n",
       "      <th>Type</th>\n",
       "      <th>Distance</th>\n",
       "      <th>Engine_capacity_cm3</th>\n",
       "      <th>Fuel_type</th>\n",
       "      <th>Transmission</th>\n",
       "      <th>Price(euro)</th>\n",
       "    </tr>\n",
       "  </thead>\n",
       "  <tbody>\n",
       "    <tr>\n",
       "      <th>0</th>\n",
       "      <td>Toyota</td>\n",
       "      <td>Prius</td>\n",
       "      <td>2011</td>\n",
       "      <td>Hatchback</td>\n",
       "      <td>195000</td>\n",
       "      <td>1800</td>\n",
       "      <td>Hybrid</td>\n",
       "      <td>2</td>\n",
       "      <td>7750</td>\n",
       "    </tr>\n",
       "    <tr>\n",
       "      <th>1</th>\n",
       "      <td>Renault</td>\n",
       "      <td>Grand Scenic</td>\n",
       "      <td>2014</td>\n",
       "      <td>Universal</td>\n",
       "      <td>135000</td>\n",
       "      <td>1500</td>\n",
       "      <td>Diesel</td>\n",
       "      <td>1</td>\n",
       "      <td>8550</td>\n",
       "    </tr>\n",
       "    <tr>\n",
       "      <th>2</th>\n",
       "      <td>Volkswagen</td>\n",
       "      <td>Golf</td>\n",
       "      <td>1998</td>\n",
       "      <td>Hatchback</td>\n",
       "      <td>1</td>\n",
       "      <td>1400</td>\n",
       "      <td>Petrol</td>\n",
       "      <td>1</td>\n",
       "      <td>2200</td>\n",
       "    </tr>\n",
       "    <tr>\n",
       "      <th>3</th>\n",
       "      <td>Renault</td>\n",
       "      <td>Laguna</td>\n",
       "      <td>2012</td>\n",
       "      <td>Universal</td>\n",
       "      <td>110000</td>\n",
       "      <td>1500</td>\n",
       "      <td>Diesel</td>\n",
       "      <td>1</td>\n",
       "      <td>6550</td>\n",
       "    </tr>\n",
       "    <tr>\n",
       "      <th>4</th>\n",
       "      <td>Opel</td>\n",
       "      <td>Astra</td>\n",
       "      <td>2006</td>\n",
       "      <td>Universal</td>\n",
       "      <td>200000</td>\n",
       "      <td>1600</td>\n",
       "      <td>Metan/Propan</td>\n",
       "      <td>1</td>\n",
       "      <td>4100</td>\n",
       "    </tr>\n",
       "  </tbody>\n",
       "</table>\n",
       "</div>"
      ],
      "text/plain": [
       "         Mark         Model  Year       Type  Distance  Engine_capacity_cm3  \\\n",
       "0      Toyota         Prius  2011  Hatchback    195000                 1800   \n",
       "1     Renault  Grand Scenic  2014  Universal    135000                 1500   \n",
       "2  Volkswagen          Golf  1998  Hatchback         1                 1400   \n",
       "3     Renault        Laguna  2012  Universal    110000                 1500   \n",
       "4        Opel         Astra  2006  Universal    200000                 1600   \n",
       "\n",
       "      Fuel_type  Transmission  Price(euro)  \n",
       "0        Hybrid             2         7750  \n",
       "1        Diesel             1         8550  \n",
       "2        Petrol             1         2200  \n",
       "3        Diesel             1         6550  \n",
       "4  Metan/Propan             1         4100  "
      ]
     },
     "execution_count": 15,
     "metadata": {},
     "output_type": "execute_result"
    }
   ],
   "source": [
    "indexes = list(data.index.values)\n",
    "\n",
    "data = df[df.index.isin(indexes)]\n",
    "data.head()"
   ]
  },
  {
   "cell_type": "code",
   "execution_count": 16,
   "metadata": {},
   "outputs": [],
   "source": [
    "data.to_csv('../../Datasets/Lab3_DataSet3_Preprocesed.csv')"
   ]
  },
  {
   "cell_type": "code",
   "execution_count": 17,
   "metadata": {},
   "outputs": [],
   "source": [
    "def compare_data(old_df: pd.DataFrame, new_df: pd.DataFrame, column: str, figsize: tuple[float,float] = (10,4)):\n",
    "    columns_to_view = {\n",
    "        f'{column} (before)': old_df[column],\n",
    "        f'{column} (after)': new_df[column]\n",
    "    }\n",
    "    view_data = pd.DataFrame(columns_to_view)\n",
    "    view_data.hist(figsize=figsize)"
   ]
  },
  {
   "cell_type": "code",
   "execution_count": 18,
   "metadata": {},
   "outputs": [
    {
     "data": {
      "image/png": "[encoded data removed]",
      "text/plain": [
       "<Figure size 1000x400 with 2 Axes>"
      ]
     },
     "metadata": {},
     "output_type": "display_data"
    }
   ],
   "source": [
    "compare_data(df,data,'Year')"
   ]
  },
  {
   "cell_type": "code",
   "execution_count": 19,
   "metadata": {},
   "outputs": [
    {
     "data": {
      "image/png": "[encoded data removed]",
      "text/plain": [
       "<Figure size 1000x400 with 2 Axes>"
      ]
     },
     "metadata": {},
     "output_type": "display_data"
    }
   ],
   "source": [
    "compare_data(df,data,'Distance')"
   ]
  },
  {
   "cell_type": "code",
   "execution_count": 20,
   "metadata": {},
   "outputs": [
    {
     "data": {
      "image/png": "[encoded data removed]",
      "text/plain": [
       "<Figure size 1000x400 with 2 Axes>"
      ]
     },
     "metadata": {},
     "output_type": "display_data"
    }
   ],
   "source": [
    "compare_data(df,data,'Engine_capacity_cm3')"
   ]
  },
  {
   "cell_type": "code",
   "execution_count": 21,
   "metadata": {},
   "outputs": [
    {
     "data": {
      "image/png": "[encoded data removed]",
      "text/plain": [
       "<Figure size 1000x400 with 2 Axes>"
      ]
     },
     "metadata": {},
     "output_type": "display_data"
    }
   ],
   "source": [
    "compare_data(df,data,'Price(euro)')"
   ]
  },
  {
   "cell_type": "markdown",
   "metadata": {},
   "source": [
    "Посмотрим, как коррелирует цена от других данных"
   ]
  },
  {
   "cell_type": "code",
   "execution_count": 22,
   "metadata": {},
   "outputs": [
    {
     "data": {
      "text/html": [
       "<div>\n",
       "<style scoped>\n",
       "    .dataframe tbody tr th:only-of-type {\n",
       "        vertical-align: middle;\n",
       "    }\n",
       "\n",
       "    .dataframe tbody tr th {\n",
       "        vertical-align: top;\n",
       "    }\n",
       "\n",
       "    .dataframe thead th {\n",
       "        text-align: right;\n",
       "    }\n",
       "</style>\n",
       "<table border=\"1\" class=\"dataframe\">\n",
       "  <thead>\n",
       "    <tr style=\"text-align: right;\">\n",
       "      <th></th>\n",
       "      <th>Year</th>\n",
       "      <th>Distance</th>\n",
       "      <th>Engine_capacity_cm3</th>\n",
       "      <th>Transmission</th>\n",
       "      <th>Price(euro)</th>\n",
       "    </tr>\n",
       "  </thead>\n",
       "  <tbody>\n",
       "    <tr>\n",
       "      <th>Year</th>\n",
       "      <td>1.000000</td>\n",
       "      <td>-0.247004</td>\n",
       "      <td>-0.136392</td>\n",
       "      <td>0.384729</td>\n",
       "      <td>0.695346</td>\n",
       "    </tr>\n",
       "    <tr>\n",
       "      <th>Distance</th>\n",
       "      <td>-0.247004</td>\n",
       "      <td>1.000000</td>\n",
       "      <td>0.125226</td>\n",
       "      <td>-0.108576</td>\n",
       "      <td>-0.191288</td>\n",
       "    </tr>\n",
       "    <tr>\n",
       "      <th>Engine_capacity_cm3</th>\n",
       "      <td>-0.136392</td>\n",
       "      <td>0.125226</td>\n",
       "      <td>1.000000</td>\n",
       "      <td>0.332244</td>\n",
       "      <td>0.265545</td>\n",
       "    </tr>\n",
       "    <tr>\n",
       "      <th>Transmission</th>\n",
       "      <td>0.384729</td>\n",
       "      <td>-0.108576</td>\n",
       "      <td>0.332244</td>\n",
       "      <td>1.000000</td>\n",
       "      <td>0.560690</td>\n",
       "    </tr>\n",
       "    <tr>\n",
       "      <th>Price(euro)</th>\n",
       "      <td>0.695346</td>\n",
       "      <td>-0.191288</td>\n",
       "      <td>0.265545</td>\n",
       "      <td>0.560690</td>\n",
       "      <td>1.000000</td>\n",
       "    </tr>\n",
       "  </tbody>\n",
       "</table>\n",
       "</div>"
      ],
      "text/plain": [
       "                         Year  Distance  Engine_capacity_cm3  Transmission  \\\n",
       "Year                 1.000000 -0.247004            -0.136392      0.384729   \n",
       "Distance            -0.247004  1.000000             0.125226     -0.108576   \n",
       "Engine_capacity_cm3 -0.136392  0.125226             1.000000      0.332244   \n",
       "Transmission         0.384729 -0.108576             0.332244      1.000000   \n",
       "Price(euro)          0.695346 -0.191288             0.265545      0.560690   \n",
       "\n",
       "                     Price(euro)  \n",
       "Year                    0.695346  \n",
       "Distance               -0.191288  \n",
       "Engine_capacity_cm3     0.265545  \n",
       "Transmission            0.560690  \n",
       "Price(euro)             1.000000  "
      ]
     },
     "execution_count": 22,
     "metadata": {},
     "output_type": "execute_result"
    }
   ],
   "source": [
    "data[columns].corr()"
   ]
  },
  {
   "cell_type": "markdown",
   "metadata": {},
   "source": [
    "# Пункт 2"
   ]
  },
  {
   "cell_type": "markdown",
   "metadata": {},
   "source": [
    "### Выбираем целевой признак и предикторы"
   ]
  },
  {
   "cell_type": "code",
   "execution_count": null,
   "metadata": {},
   "outputs": [],
   "source": [
    "# целевой признак - цена\n",
    "Y = data['Price(euro)']\n",
    "# предикторы\n",
    "X = data[columns].drop('Price(euro)',axis=1)"
   ]
  },
  {
   "cell_type": "code",
   "execution_count": null,
   "metadata": {},
   "outputs": [
    {
     "data": {
      "text/plain": [
       "0        7750\n",
       "1        8550\n",
       "2        2200\n",
       "3        6550\n",
       "4        4100\n",
       "         ... \n",
       "37413    4400\n",
       "37414    7000\n",
       "37415    4500\n",
       "37416    4000\n",
       "37417    4000\n",
       "Name: Price(euro), Length: 30174, dtype: int32"
      ]
     },
     "execution_count": 24,
     "metadata": {},
     "output_type": "execute_result"
    }
   ],
   "source": [
    "Y"
   ]
  },
  {
   "cell_type": "code",
   "execution_count": null,
   "metadata": {},
   "outputs": [
    {
     "data": {
      "text/html": [
       "<div>\n",
       "<style scoped>\n",
       "    .dataframe tbody tr th:only-of-type {\n",
       "        vertical-align: middle;\n",
       "    }\n",
       "\n",
       "    .dataframe tbody tr th {\n",
       "        vertical-align: top;\n",
       "    }\n",
       "\n",
       "    .dataframe thead th {\n",
       "        text-align: right;\n",
       "    }\n",
       "</style>\n",
       "<table border=\"1\" class=\"dataframe\">\n",
       "  <thead>\n",
       "    <tr style=\"text-align: right;\">\n",
       "      <th></th>\n",
       "      <th>Year</th>\n",
       "      <th>Distance</th>\n",
       "      <th>Engine_capacity_cm3</th>\n",
       "      <th>Transmission</th>\n",
       "    </tr>\n",
       "  </thead>\n",
       "  <tbody>\n",
       "    <tr>\n",
       "      <th>0</th>\n",
       "      <td>2011</td>\n",
       "      <td>195000</td>\n",
       "      <td>1800</td>\n",
       "      <td>2</td>\n",
       "    </tr>\n",
       "    <tr>\n",
       "      <th>1</th>\n",
       "      <td>2014</td>\n",
       "      <td>135000</td>\n",
       "      <td>1500</td>\n",
       "      <td>1</td>\n",
       "    </tr>\n",
       "    <tr>\n",
       "      <th>2</th>\n",
       "      <td>1998</td>\n",
       "      <td>1</td>\n",
       "      <td>1400</td>\n",
       "      <td>1</td>\n",
       "    </tr>\n",
       "    <tr>\n",
       "      <th>3</th>\n",
       "      <td>2012</td>\n",
       "      <td>110000</td>\n",
       "      <td>1500</td>\n",
       "      <td>1</td>\n",
       "    </tr>\n",
       "    <tr>\n",
       "      <th>4</th>\n",
       "      <td>2006</td>\n",
       "      <td>200000</td>\n",
       "      <td>1600</td>\n",
       "      <td>1</td>\n",
       "    </tr>\n",
       "    <tr>\n",
       "      <th>...</th>\n",
       "      <td>...</td>\n",
       "      <td>...</td>\n",
       "      <td>...</td>\n",
       "      <td>...</td>\n",
       "    </tr>\n",
       "    <tr>\n",
       "      <th>37413</th>\n",
       "      <td>2002</td>\n",
       "      <td>225000</td>\n",
       "      <td>1800</td>\n",
       "      <td>1</td>\n",
       "    </tr>\n",
       "    <tr>\n",
       "      <th>37414</th>\n",
       "      <td>2015</td>\n",
       "      <td>89000</td>\n",
       "      <td>1500</td>\n",
       "      <td>1</td>\n",
       "    </tr>\n",
       "    <tr>\n",
       "      <th>37415</th>\n",
       "      <td>2009</td>\n",
       "      <td>225</td>\n",
       "      <td>1500</td>\n",
       "      <td>1</td>\n",
       "    </tr>\n",
       "    <tr>\n",
       "      <th>37416</th>\n",
       "      <td>2006</td>\n",
       "      <td>370000</td>\n",
       "      <td>2000</td>\n",
       "      <td>1</td>\n",
       "    </tr>\n",
       "    <tr>\n",
       "      <th>37417</th>\n",
       "      <td>2006</td>\n",
       "      <td>300000</td>\n",
       "      <td>1500</td>\n",
       "      <td>1</td>\n",
       "    </tr>\n",
       "  </tbody>\n",
       "</table>\n",
       "<p>30174 rows × 4 columns</p>\n",
       "</div>"
      ],
      "text/plain": [
       "       Year  Distance  Engine_capacity_cm3  Transmission\n",
       "0      2011    195000                 1800             2\n",
       "1      2014    135000                 1500             1\n",
       "2      1998         1                 1400             1\n",
       "3      2012    110000                 1500             1\n",
       "4      2006    200000                 1600             1\n",
       "...     ...       ...                  ...           ...\n",
       "37413  2002    225000                 1800             1\n",
       "37414  2015     89000                 1500             1\n",
       "37415  2009       225                 1500             1\n",
       "37416  2006    370000                 2000             1\n",
       "37417  2006    300000                 1500             1\n",
       "\n",
       "[30174 rows x 4 columns]"
      ]
     },
     "execution_count": 25,
     "metadata": {},
     "output_type": "execute_result"
    }
   ],
   "source": [
    "X"
   ]
  },
  {
   "cell_type": "code",
   "execution_count": null,
   "metadata": {},
   "outputs": [],
   "source": [
    "data.to_csv('../../Datasets/Lab3_DataSet3_Preprocessed_NotDummies.csv')"
   ]
  },
  {
   "cell_type": "markdown",
   "metadata": {},
   "source": [
    "### Разделяем данные на обучающие и тестовые выборки"
   ]
  },
  {
   "cell_type": "code",
   "execution_count": null,
   "metadata": {},
   "outputs": [
    {
     "data": {
      "text/plain": [
       "((24139, 4), (24139,), (6035, 4), (6035,))"
      ]
     },
     "execution_count": 27,
     "metadata": {},
     "output_type": "execute_result"
    }
   ],
   "source": [
    "from sklearn.model_selection import train_test_split\n",
    "\n",
    "X_train, X_test, Y_train, Y_test = train_test_split(X,Y,test_size=0.2) # stratify - сохранение соотн призн\n",
    "\n",
    "X_train.shape, Y_train.shape, X_test.shape, Y_test.shape"
   ]
  },
  {
   "cell_type": "markdown",
   "metadata": {},
   "source": [
    "# Пункт 3"
   ]
  },
  {
   "cell_type": "markdown",
   "metadata": {},
   "source": [
    "Решить задачу регрессии на данных с использованием моделей sklearn (простая линейная регрессия + L1, L2; множественная линейная регрессия + L1, L2), для моделей с регуляризациями подберите гиперпараметр"
   ]
  },
  {
   "cell_type": "markdown",
   "metadata": {},
   "source": [
    "## Простая линейная регрессия"
   ]
  },
  {
   "cell_type": "code",
   "execution_count": null,
   "metadata": {},
   "outputs": [],
   "source": [
    "from sklearn.linear_model import LinearRegression, Lasso, Ridge\n",
    "import numpy as np\n",
    "from sklearn.model_selection import GridSearchCV,RandomizedSearchCV\n",
    "\n",
    "from sklearn.metrics import mean_squared_error, mean_absolute_error, mean_absolute_percentage_error, r2_score\n",
    "from math import sqrt"
   ]
  },
  {
   "cell_type": "code",
   "execution_count": null,
   "metadata": {},
   "outputs": [],
   "source": [
    "metrics_data = pd.DataFrame(columns=['Name','MSE','MAE','RMSE','MAPE','R^2'])\n",
    "def metrics(\n",
    "        title,y_test,y_pred,\n",
    "        write_in_metrics: bool = True\n",
    "        ):\n",
    "    global metrics_data \n",
    "    MSE = mean_squared_error(y_test, y_pred)\n",
    "    MAE = mean_absolute_error(y_test, y_pred)\n",
    "    RMSE = sqrt(MSE)\n",
    "    MAPE = mean_absolute_percentage_error(y_test, y_pred)\n",
    "    R2 = r2_score(y_test,y_pred)\n",
    "\n",
    "    print(title)\n",
    "    print(f'MSE = {MSE}')\n",
    "    print(f'MAE = {MAE}')\n",
    "    print(f'RMSE = {RMSE}')\n",
    "    print(f'MAPE = {MAPE}')\n",
    "    print(f'R^2 = {R2}')\n",
    "    print('')\n",
    "    \n",
    "    if write_in_metrics:\n",
    "        metrics_data.loc[len(metrics_data.index)] = [title,MSE,MAE,RMSE,MAPE,R2]"
   ]
  },
  {
   "cell_type": "code",
   "execution_count": null,
   "metadata": {},
   "outputs": [
    {
     "name": "stdout",
     "output_type": "stream",
     "text": [
      "Year\n",
      "MSE = 13943323.912095802\n",
      "MAE = 2876.6011320646794\n",
      "RMSE = 3734.0760453016755\n",
      "MAPE = 1.5131043995700264\n",
      "R^2 = 0.488512695983749\n",
      "\n"
     ]
    },
    {
     "name": "stdout",
     "output_type": "stream",
     "text": [
      "Year + L1\n",
      "MSE = 13943328.46930823\n",
      "MAE = 2876.5905003582607\n",
      "RMSE = 3734.0766555211785\n",
      "MAPE = 1.5131062903138817\n",
      "R^2 = 0.4885125288101029\n",
      "\n",
      "Year + L2\n",
      "MSE = 13943324.013385015\n",
      "MAE = 2876.600894652216\n",
      "RMSE = 3734.076058864497\n",
      "MAPE = 1.5131044417914556\n",
      "R^2 = 0.4885126922681252\n",
      "\n",
      "Distance\n",
      "MSE = 26196689.792699415\n",
      "MAE = 4059.0981048251947\n",
      "RMSE = 5118.270195358918\n",
      "MAPE = 2.666668210122828\n",
      "R^2 = 0.039018650022608625\n",
      "\n",
      "Distance + L1\n",
      "MSE = 26196689.79374953\n",
      "MAE = 4059.0981054548306\n",
      "RMSE = 5118.270195461503\n",
      "MAPE = 2.6666682074302055\n",
      "R^2 = 0.039018649984086995\n",
      "\n",
      "Distance + L2\n",
      "MSE = 26196689.792699415\n",
      "MAE = 4059.0981048251942\n",
      "RMSE = 5118.270195358918\n",
      "MAPE = 2.6666682101228294\n",
      "R^2 = 0.039018650022608625\n",
      "\n",
      "Engine_capacity_cm3\n",
      "MSE = 25134341.76074329\n",
      "MAE = 4013.3630710194634\n",
      "RMSE = 5013.416176694619\n",
      "MAPE = 2.8267866041055663\n",
      "R^2 = 0.07798909453195768\n",
      "\n",
      "Engine_capacity_cm3 + L1\n",
      "MSE = 25134342.1672714\n",
      "MAE = 4013.363062103662\n",
      "RMSE = 5013.4162172386405\n",
      "MAPE = 2.8267857359954407\n",
      "R^2 = 0.07798907961916013\n",
      "\n",
      "Engine_capacity_cm3 + L2\n",
      "MSE = 25134341.76080646\n",
      "MAE = 4013.363071018078\n",
      "RMSE = 5013.416176700919\n",
      "MAPE = 2.8267866039706786\n",
      "R^2 = 0.07798909452964042\n",
      "\n",
      "Transmission\n",
      "MSE = 18275153.694948073\n",
      "MAE = 3336.2567419674015\n",
      "RMSE = 4274.944876246719\n",
      "MAPE = 1.7202255272698677\n",
      "R^2 = 0.3296068317108609\n",
      "\n",
      "Transmission + L1\n",
      "MSE = 18275255.462772954\n",
      "MAE = 3336.294236551595\n",
      "RMSE = 4274.9567790532055\n",
      "MAPE = 1.7203938690428964\n",
      "R^2 = 0.32960309852997005\n",
      "\n",
      "Transmission + L2\n",
      "MSE = 18275217.01224313\n",
      "MAE = 3336.2801294624905\n",
      "RMSE = 4274.952281867381\n",
      "MAPE = 1.7203305315651445\n",
      "R^2 = 0.3296045090227595\n",
      "\n"
     ]
    }
   ],
   "source": [
    "parameters = {'alpha': np.arange(0, 1.1, 0.1)}\n",
    "\n",
    "for column in X.columns:\n",
    "    x_one_sign_train = X_train[column].values.reshape(-1,1)\n",
    "    x_one_sign_test = X_test[column].values.reshape(-1,1)\n",
    "\n",
    "    lr = LinearRegression().fit(x_one_sign_train,Y_train)\n",
    "    Y_pred = lr.predict(x_one_sign_test)\n",
    "    metrics(column,Y_test,Y_pred)\n",
    "\n",
    "    lasso_optimal = GridSearchCV(Lasso(),parameters).fit(x_one_sign_train,Y_train)\n",
    "    y_pred = lasso_optimal.predict(x_one_sign_test)\n",
    "    metrics(column + ' + L1',Y_test,y_pred)\n",
    "\n",
    "    ridge_optimal = GridSearchCV(Ridge(),parameters).fit(x_one_sign_train,Y_train)\n",
    "    y_pred = ridge_optimal.predict(x_one_sign_test)\n",
    "    metrics(column + ' + L2',Y_test,y_pred)"
   ]
  },
  {
   "cell_type": "markdown",
   "metadata": {},
   "source": [
    "## Множественная линейная регрессия"
   ]
  },
  {
   "cell_type": "code",
   "execution_count": null,
   "metadata": {},
   "outputs": [
    {
     "name": "stdout",
     "output_type": "stream",
     "text": [
      "Множественная линейная регрессия\n",
      "MSE = 9175720.88416019\n",
      "MAE = 2246.213235182986\n",
      "RMSE = 3029.145239858959\n",
      "MAPE = 1.8721609285677554\n",
      "R^2 = 0.6634041662495331\n",
      "\n"
     ]
    },
    {
     "name": "stdout",
     "output_type": "stream",
     "text": [
      "Множественная линейная регрессия + L1\n",
      "MSE = 9175720.884160224\n",
      "MAE = 2246.2132351829787\n",
      "RMSE = 3029.1452398589645\n",
      "MAPE = 1.8721609285675842\n",
      "R^2 = 0.663404166249532\n",
      "\n",
      "Множественная линейная регрессия + L2\n",
      "MSE = 9175722.28570069\n",
      "MAE = 2246.212583200361\n",
      "RMSE = 3029.145471201522\n",
      "MAPE = 1.8721902399845496\n",
      "R^2 = 0.6634041148363855\n",
      "\n"
     ]
    }
   ],
   "source": [
    "parameters = {'alpha': np.arange(0, 1.1, 0.1)}\n",
    "\n",
    "lr = LinearRegression().fit(X_train,Y_train)\n",
    "Y_pred = lr.predict(X_test)\n",
    "metrics('Множественная линейная регрессия',Y_test,Y_pred)\n",
    "\n",
    "lasso_optimal = GridSearchCV(Lasso(),parameters).fit(X_train,Y_train)\n",
    "y_pred = lasso_optimal.predict(X_test)\n",
    "metrics('Множественная линейная регрессия + L1',Y_test,y_pred)\n",
    "\n",
    "ridge_optimal = GridSearchCV(Ridge(),parameters).fit(X_train,Y_train)\n",
    "y_pred = ridge_optimal.predict(X_test)\n",
    "metrics('Множественная линейная регрессия + L2',Y_test,y_pred)"
   ]
  },
  {
   "cell_type": "markdown",
   "metadata": {},
   "source": [
    "# Пункт 4"
   ]
  },
  {
   "cell_type": "markdown",
   "metadata": {},
   "source": [
    "Решить задачу регрессии на ваших данных с использованием моделей sklearn (Полиномиальная регрессия + L1, L2), для моделей с регуляризациями подберите гиперпараметр."
   ]
  },
  {
   "cell_type": "code",
   "execution_count": null,
   "metadata": {},
   "outputs": [],
   "source": [
    "from sklearn.preprocessing import PolynomialFeatures"
   ]
  },
  {
   "cell_type": "code",
   "execution_count": null,
   "metadata": {},
   "outputs": [],
   "source": [
    "p = PolynomialFeatures()\n",
    "X_train_p = p.fit_transform(X_train)\n",
    "X_test_p = p.fit_transform(X_test)"
   ]
  },
  {
   "cell_type": "code",
   "execution_count": null,
   "metadata": {},
   "outputs": [
    {
     "name": "stdout",
     "output_type": "stream",
     "text": [
      "Полиномиальная регрессия\n",
      "MSE = 6080419.64765626\n",
      "MAE = 1773.3007870828305\n",
      "RMSE = 2465.8506945182753\n",
      "MAPE = 1.1731809750533904\n",
      "R^2 = 0.7769500678264258\n",
      "\n"
     ]
    },
    {
     "name": "stdout",
     "output_type": "stream",
     "text": [
      "Полиномиальная регрессия + L1\n",
      "MSE = 9175720.884160224\n",
      "MAE = 2246.2132351829787\n",
      "RMSE = 3029.1452398589645\n",
      "MAPE = 1.8721609285675842\n",
      "R^2 = 0.663404166249532\n",
      "\n",
      "Полиномиальная регрессия + L2\n",
      "MSE = 9175722.28570069\n",
      "MAE = 2246.212583200361\n",
      "RMSE = 3029.145471201522\n",
      "MAPE = 1.8721902399845496\n",
      "R^2 = 0.6634041148363855\n",
      "\n"
     ]
    }
   ],
   "source": [
    "parameters = {'alpha': np.arange(0, 1.1, 0.1)}\n",
    "\n",
    "lr = LinearRegression().fit(X_train_p, Y_train)\n",
    "y_pred = lr.predict(X_test_p)\n",
    "metrics('Полиномиальная регрессия',Y_test,y_pred)\n",
    "\n",
    "lasso_optimal = GridSearchCV(Lasso(),parameters).fit(X_train,Y_train)\n",
    "y_pred = lasso_optimal.predict(X_test)\n",
    "metrics('Полиномиальная регрессия + L1',Y_test,y_pred)\n",
    "\n",
    "ridge_optimal = GridSearchCV(Ridge(),parameters).fit(X_train,Y_train)\n",
    "y_pred = ridge_optimal.predict(X_test)\n",
    "metrics('Полиномиальная регрессия + L2',Y_test,y_pred)"
   ]
  },
  {
   "cell_type": "markdown",
   "metadata": {},
   "source": [
    "# Пункт 6"
   ]
  },
  {
   "cell_type": "markdown",
   "metadata": {},
   "source": [
    "Реализовать пайплайн при построении модели регрессии."
   ]
  },
  {
   "cell_type": "code",
   "execution_count": null,
   "metadata": {},
   "outputs": [],
   "source": [
    "from sklearn.preprocessing import StandardScaler\n",
    "from sklearn.pipeline import Pipeline\n",
    "from sklearn.linear_model import ElasticNet"
   ]
  },
  {
   "cell_type": "code",
   "execution_count": null,
   "metadata": {},
   "outputs": [
    {
     "data": {
      "text/html": [
       "<style>#sk-container-id-1 {color: black;}#sk-container-id-1 pre{padding: 0;}#sk-container-id-1 div.sk-toggleable {background-color: white;}#sk-container-id-1 label.sk-toggleable__label {cursor: pointer;display: block;width: 100%;margin-bottom: 0;padding: 0.3em;box-sizing: border-box;text-align: center;}#sk-container-id-1 label.sk-toggleable__label-arrow:before {content: \"▸\";float: left;margin-right: 0.25em;color: #696969;}#sk-container-id-1 label.sk-toggleable__label-arrow:hover:before {color: black;}#sk-container-id-1 div.sk-estimator:hover label.sk-toggleable__label-arrow:before {color: black;}#sk-container-id-1 div.sk-toggleable__content {max-height: 0;max-width: 0;overflow: hidden;text-align: left;background-color: #f0f8ff;}#sk-container-id-1 div.sk-toggleable__content pre {margin: 0.2em;color: black;border-radius: 0.25em;background-color: #f0f8ff;}#sk-container-id-1 input.sk-toggleable__control:checked~div.sk-toggleable__content {max-height: 200px;max-width: 100%;overflow: auto;}#sk-container-id-1 input.sk-toggleable__control:checked~label.sk-toggleable__label-arrow:before {content: \"▾\";}#sk-container-id-1 div.sk-estimator input.sk-toggleable__control:checked~label.sk-toggleable__label {background-color: #d4ebff;}#sk-container-id-1 div.sk-label input.sk-toggleable__control:checked~label.sk-toggleable__label {background-color: #d4ebff;}#sk-container-id-1 input.sk-hidden--visually {border: 0;clip: rect(1px 1px 1px 1px);clip: rect(1px, 1px, 1px, 1px);height: 1px;margin: -1px;overflow: hidden;padding: 0;position: absolute;width: 1px;}#sk-container-id-1 div.sk-estimator {font-family: monospace;background-color: #f0f8ff;border: 1px dotted black;border-radius: 0.25em;box-sizing: border-box;margin-bottom: 0.5em;}#sk-container-id-1 div.sk-estimator:hover {background-color: #d4ebff;}#sk-container-id-1 div.sk-parallel-item::after {content: \"\";width: 100%;border-bottom: 1px solid gray;flex-grow: 1;}#sk-container-id-1 div.sk-label:hover label.sk-toggleable__label {background-color: #d4ebff;}#sk-container-id-1 div.sk-serial::before {content: \"\";position: absolute;border-left: 1px solid gray;box-sizing: border-box;top: 0;bottom: 0;left: 50%;z-index: 0;}#sk-container-id-1 div.sk-serial {display: flex;flex-direction: column;align-items: center;background-color: white;padding-right: 0.2em;padding-left: 0.2em;position: relative;}#sk-container-id-1 div.sk-item {position: relative;z-index: 1;}#sk-container-id-1 div.sk-parallel {display: flex;align-items: stretch;justify-content: center;background-color: white;position: relative;}#sk-container-id-1 div.sk-item::before, #sk-container-id-1 div.sk-parallel-item::before {content: \"\";position: absolute;border-left: 1px solid gray;box-sizing: border-box;top: 0;bottom: 0;left: 50%;z-index: -1;}#sk-container-id-1 div.sk-parallel-item {display: flex;flex-direction: column;z-index: 1;position: relative;background-color: white;}#sk-container-id-1 div.sk-parallel-item:first-child::after {align-self: flex-end;width: 50%;}#sk-container-id-1 div.sk-parallel-item:last-child::after {align-self: flex-start;width: 50%;}#sk-container-id-1 div.sk-parallel-item:only-child::after {width: 0;}#sk-container-id-1 div.sk-dashed-wrapped {border: 1px dashed gray;margin: 0 0.4em 0.5em 0.4em;box-sizing: border-box;padding-bottom: 0.4em;background-color: white;}#sk-container-id-1 div.sk-label label {font-family: monospace;font-weight: bold;display: inline-block;line-height: 1.2em;}#sk-container-id-1 div.sk-label-container {text-align: center;}#sk-container-id-1 div.sk-container {/* jupyter's `normalize.less` sets `[hidden] { display: none; }` but bootstrap.min.css set `[hidden] { display: none !important; }` so we also need the `!important` here to be able to override the default hidden behavior on the sphinx rendered scikit-learn.org. See: https://github.com/scikit-learn/scikit-learn/issues/21755 */display: inline-block !important;position: relative;}#sk-container-id-1 div.sk-text-repr-fallback {display: none;}</style><div id=\"sk-container-id-1\" class=\"sk-top-container\"><div class=\"sk-text-repr-fallback\"><pre>Pipeline(steps=[(&#x27;StandardScaler&#x27;, StandardScaler()),\n",
       "                (&#x27;Polynomial&#x27;, PolynomialFeatures()),\n",
       "                (&#x27;model&#x27;, LinearRegression())])</pre><b>In a Jupyter environment, please rerun this cell to show the HTML representation or trust the notebook. <br />On GitHub, the HTML representation is unable to render, please try loading this page with nbviewer.org.</b></div><div class=\"sk-container\" hidden><div class=\"sk-item sk-dashed-wrapped\"><div class=\"sk-label-container\"><div class=\"sk-label sk-toggleable\"><input class=\"sk-toggleable__control sk-hidden--visually\" id=\"sk-estimator-id-1\" type=\"checkbox\" ><label for=\"sk-estimator-id-1\" class=\"sk-toggleable__label sk-toggleable__label-arrow\">Pipeline</label><div class=\"sk-toggleable__content\"><pre>Pipeline(steps=[(&#x27;StandardScaler&#x27;, StandardScaler()),\n",
       "                (&#x27;Polynomial&#x27;, PolynomialFeatures()),\n",
       "                (&#x27;model&#x27;, LinearRegression())])</pre></div></div></div><div class=\"sk-serial\"><div class=\"sk-item\"><div class=\"sk-estimator sk-toggleable\"><input class=\"sk-toggleable__control sk-hidden--visually\" id=\"sk-estimator-id-2\" type=\"checkbox\" ><label for=\"sk-estimator-id-2\" class=\"sk-toggleable__label sk-toggleable__label-arrow\">StandardScaler</label><div class=\"sk-toggleable__content\"><pre>StandardScaler()</pre></div></div></div><div class=\"sk-item\"><div class=\"sk-estimator sk-toggleable\"><input class=\"sk-toggleable__control sk-hidden--visually\" id=\"sk-estimator-id-3\" type=\"checkbox\" ><label for=\"sk-estimator-id-3\" class=\"sk-toggleable__label sk-toggleable__label-arrow\">PolynomialFeatures</label><div class=\"sk-toggleable__content\"><pre>PolynomialFeatures()</pre></div></div></div><div class=\"sk-item\"><div class=\"sk-estimator sk-toggleable\"><input class=\"sk-toggleable__control sk-hidden--visually\" id=\"sk-estimator-id-4\" type=\"checkbox\" ><label for=\"sk-estimator-id-4\" class=\"sk-toggleable__label sk-toggleable__label-arrow\">LinearRegression</label><div class=\"sk-toggleable__content\"><pre>LinearRegression()</pre></div></div></div></div></div></div></div>"
      ],
      "text/plain": [
       "Pipeline(steps=[('StandardScaler', StandardScaler()),\n",
       "                ('Polynomial', PolynomialFeatures()),\n",
       "                ('model', LinearRegression())])"
      ]
     },
     "execution_count": 36,
     "metadata": {},
     "output_type": "execute_result"
    }
   ],
   "source": [
    "Input = [\n",
    "    ('StandardScaler',StandardScaler()),\n",
    "    ('Polynomial',PolynomialFeatures()),\n",
    "    ('model',LinearRegression())\n",
    "]\n",
    "\n",
    "pipeline = Pipeline(Input)\n",
    "pipeline"
   ]
  },
  {
   "cell_type": "code",
   "execution_count": null,
   "metadata": {},
   "outputs": [
    {
     "data": {
      "text/html": [
       "<style>#sk-container-id-2 {color: black;}#sk-container-id-2 pre{padding: 0;}#sk-container-id-2 div.sk-toggleable {background-color: white;}#sk-container-id-2 label.sk-toggleable__label {cursor: pointer;display: block;width: 100%;margin-bottom: 0;padding: 0.3em;box-sizing: border-box;text-align: center;}#sk-container-id-2 label.sk-toggleable__label-arrow:before {content: \"▸\";float: left;margin-right: 0.25em;color: #696969;}#sk-container-id-2 label.sk-toggleable__label-arrow:hover:before {color: black;}#sk-container-id-2 div.sk-estimator:hover label.sk-toggleable__label-arrow:before {color: black;}#sk-container-id-2 div.sk-toggleable__content {max-height: 0;max-width: 0;overflow: hidden;text-align: left;background-color: #f0f8ff;}#sk-container-id-2 div.sk-toggleable__content pre {margin: 0.2em;color: black;border-radius: 0.25em;background-color: #f0f8ff;}#sk-container-id-2 input.sk-toggleable__control:checked~div.sk-toggleable__content {max-height: 200px;max-width: 100%;overflow: auto;}#sk-container-id-2 input.sk-toggleable__control:checked~label.sk-toggleable__label-arrow:before {content: \"▾\";}#sk-container-id-2 div.sk-estimator input.sk-toggleable__control:checked~label.sk-toggleable__label {background-color: #d4ebff;}#sk-container-id-2 div.sk-label input.sk-toggleable__control:checked~label.sk-toggleable__label {background-color: #d4ebff;}#sk-container-id-2 input.sk-hidden--visually {border: 0;clip: rect(1px 1px 1px 1px);clip: rect(1px, 1px, 1px, 1px);height: 1px;margin: -1px;overflow: hidden;padding: 0;position: absolute;width: 1px;}#sk-container-id-2 div.sk-estimator {font-family: monospace;background-color: #f0f8ff;border: 1px dotted black;border-radius: 0.25em;box-sizing: border-box;margin-bottom: 0.5em;}#sk-container-id-2 div.sk-estimator:hover {background-color: #d4ebff;}#sk-container-id-2 div.sk-parallel-item::after {content: \"\";width: 100%;border-bottom: 1px solid gray;flex-grow: 1;}#sk-container-id-2 div.sk-label:hover label.sk-toggleable__label {background-color: #d4ebff;}#sk-container-id-2 div.sk-serial::before {content: \"\";position: absolute;border-left: 1px solid gray;box-sizing: border-box;top: 0;bottom: 0;left: 50%;z-index: 0;}#sk-container-id-2 div.sk-serial {display: flex;flex-direction: column;align-items: center;background-color: white;padding-right: 0.2em;padding-left: 0.2em;position: relative;}#sk-container-id-2 div.sk-item {position: relative;z-index: 1;}#sk-container-id-2 div.sk-parallel {display: flex;align-items: stretch;justify-content: center;background-color: white;position: relative;}#sk-container-id-2 div.sk-item::before, #sk-container-id-2 div.sk-parallel-item::before {content: \"\";position: absolute;border-left: 1px solid gray;box-sizing: border-box;top: 0;bottom: 0;left: 50%;z-index: -1;}#sk-container-id-2 div.sk-parallel-item {display: flex;flex-direction: column;z-index: 1;position: relative;background-color: white;}#sk-container-id-2 div.sk-parallel-item:first-child::after {align-self: flex-end;width: 50%;}#sk-container-id-2 div.sk-parallel-item:last-child::after {align-self: flex-start;width: 50%;}#sk-container-id-2 div.sk-parallel-item:only-child::after {width: 0;}#sk-container-id-2 div.sk-dashed-wrapped {border: 1px dashed gray;margin: 0 0.4em 0.5em 0.4em;box-sizing: border-box;padding-bottom: 0.4em;background-color: white;}#sk-container-id-2 div.sk-label label {font-family: monospace;font-weight: bold;display: inline-block;line-height: 1.2em;}#sk-container-id-2 div.sk-label-container {text-align: center;}#sk-container-id-2 div.sk-container {/* jupyter's `normalize.less` sets `[hidden] { display: none; }` but bootstrap.min.css set `[hidden] { display: none !important; }` so we also need the `!important` here to be able to override the default hidden behavior on the sphinx rendered scikit-learn.org. See: https://github.com/scikit-learn/scikit-learn/issues/21755 */display: inline-block !important;position: relative;}#sk-container-id-2 div.sk-text-repr-fallback {display: none;}</style><div id=\"sk-container-id-2\" class=\"sk-top-container\"><div class=\"sk-text-repr-fallback\"><pre>Pipeline(steps=[(&#x27;StandardScaler&#x27;, StandardScaler()),\n",
       "                (&#x27;Polynomial&#x27;, PolynomialFeatures()),\n",
       "                (&#x27;model&#x27;, LinearRegression())])</pre><b>In a Jupyter environment, please rerun this cell to show the HTML representation or trust the notebook. <br />On GitHub, the HTML representation is unable to render, please try loading this page with nbviewer.org.</b></div><div class=\"sk-container\" hidden><div class=\"sk-item sk-dashed-wrapped\"><div class=\"sk-label-container\"><div class=\"sk-label sk-toggleable\"><input class=\"sk-toggleable__control sk-hidden--visually\" id=\"sk-estimator-id-5\" type=\"checkbox\" ><label for=\"sk-estimator-id-5\" class=\"sk-toggleable__label sk-toggleable__label-arrow\">Pipeline</label><div class=\"sk-toggleable__content\"><pre>Pipeline(steps=[(&#x27;StandardScaler&#x27;, StandardScaler()),\n",
       "                (&#x27;Polynomial&#x27;, PolynomialFeatures()),\n",
       "                (&#x27;model&#x27;, LinearRegression())])</pre></div></div></div><div class=\"sk-serial\"><div class=\"sk-item\"><div class=\"sk-estimator sk-toggleable\"><input class=\"sk-toggleable__control sk-hidden--visually\" id=\"sk-estimator-id-6\" type=\"checkbox\" ><label for=\"sk-estimator-id-6\" class=\"sk-toggleable__label sk-toggleable__label-arrow\">StandardScaler</label><div class=\"sk-toggleable__content\"><pre>StandardScaler()</pre></div></div></div><div class=\"sk-item\"><div class=\"sk-estimator sk-toggleable\"><input class=\"sk-toggleable__control sk-hidden--visually\" id=\"sk-estimator-id-7\" type=\"checkbox\" ><label for=\"sk-estimator-id-7\" class=\"sk-toggleable__label sk-toggleable__label-arrow\">PolynomialFeatures</label><div class=\"sk-toggleable__content\"><pre>PolynomialFeatures()</pre></div></div></div><div class=\"sk-item\"><div class=\"sk-estimator sk-toggleable\"><input class=\"sk-toggleable__control sk-hidden--visually\" id=\"sk-estimator-id-8\" type=\"checkbox\" ><label for=\"sk-estimator-id-8\" class=\"sk-toggleable__label sk-toggleable__label-arrow\">LinearRegression</label><div class=\"sk-toggleable__content\"><pre>LinearRegression()</pre></div></div></div></div></div></div></div>"
      ],
      "text/plain": [
       "Pipeline(steps=[('StandardScaler', StandardScaler()),\n",
       "                ('Polynomial', PolynomialFeatures()),\n",
       "                ('model', LinearRegression())])"
      ]
     },
     "execution_count": 37,
     "metadata": {},
     "output_type": "execute_result"
    }
   ],
   "source": [
    "pipeline.fit(X_train, Y_train)"
   ]
  },
  {
   "cell_type": "code",
   "execution_count": null,
   "metadata": {},
   "outputs": [
    {
     "name": "stdout",
     "output_type": "stream",
     "text": [
      "Пайплайн\n",
      "MSE = 6080389.294181527\n",
      "MAE = 1773.3115754412736\n",
      "RMSE = 2465.844539743235\n",
      "MAPE = 1.1731952635187146\n",
      "R^2 = 0.7769511812924155\n",
      "\n"
     ]
    }
   ],
   "source": [
    "y_pipeline_pred = pipeline.predict(X_test)\n",
    "metrics('Пайплайн',Y_test,y_pipeline_pred)"
   ]
  },
  {
   "cell_type": "markdown",
   "metadata": {},
   "source": [
    "# Пункт 7"
   ]
  },
  {
   "cell_type": "markdown",
   "metadata": {},
   "source": [
    "Самостоятельно реализовать вычисление всех используемых метрик (в виде функций, принимающих два аргумента). Привести в таблице метрики, вычисленные с использование библиотеки Scikit-learn и соответствующими пользовательскими функциями."
   ]
  },
  {
   "cell_type": "code",
   "execution_count": null,
   "metadata": {},
   "outputs": [],
   "source": [
    "def MSE(y_true: np.ndarray, y_pred: np.ndarray): \n",
    "    return np.sum((y_true - y_pred)**2) / y_true.shape[0]\n",
    "\n",
    "def MAE(y_true: np.ndarray, y_pred: np.ndarray):\n",
    "    return np.sum(np.absolute(y_true - y_pred)) / y_true.shape[0]\n",
    "\n",
    "def RMSE(y_true: np.ndarray, y_pred: np.ndarray): \n",
    "    return sqrt(MSE(y_true,y_pred))\n",
    "\n",
    "def MAPE(y_true: np.ndarray, y_pred: np.ndarray): \n",
    "    return np.sum(np.absolute((y_true - y_pred) / y_true)) / y_true.shape[0]\n",
    "\n",
    "def R2(y_true: np.ndarray, y_pred: np.ndarray):\n",
    "    return 1 - np.sum((y_true - y_pred)**2) / np.sum((y_true - np.mean(y_true))**2)"
   ]
  },
  {
   "cell_type": "code",
   "execution_count": null,
   "metadata": {},
   "outputs": [
    {
     "name": "stdout",
     "output_type": "stream",
     "text": [
      "Sklearn metrics\n",
      "MSE = 1138.9\n",
      "MAE = 21.5\n",
      "RMSE = 33.747592506725574\n",
      "MAPE = 0.3667271779462214\n",
      "R^2 = -1.0395408391683527\n",
      "\n",
      "My metrics\n",
      "MSE = 1138.9\n",
      "MAE = 21.5\n",
      "RMSE = 33.747592506725574\n",
      "MAPE = 0.3667271779462214\n",
      "R^2 = -1.0395408391683527\n",
      "\n"
     ]
    }
   ],
   "source": [
    "# test\n",
    "A = np.array([73, 25, 29, 57, 37, 76, 92, 74, 32, 28])\n",
    "B = np.array([50, 42, 31, 64, 41, 79,  4, 26, 53, 30])\n",
    "metrics('Sklearn metrics',A,B,write_in_metrics=False)\n",
    "\n",
    "print('My metrics')\n",
    "print(f'MSE = {MSE(A,B)}')\n",
    "print(f'MAE = {MAE(A,B)}')\n",
    "print(f'RMSE = {RMSE(A,B)}')\n",
    "print(f'MAPE = {MAPE(A,B)}')\n",
    "print(f'R^2 = {R2(A,B)}')\n",
    "print('')"
   ]
  },
  {
   "cell_type": "markdown",
   "metadata": {},
   "source": [
    "# Пункт 8"
   ]
  },
  {
   "cell_type": "markdown",
   "metadata": {},
   "source": [
    "Решить задачу регрессии на ваших данных с использованием моделей sklearn (простая линейная регрессия + L1, L2, ElasticNet; множественная линейная регрессия + L1, L2, ElasticNet), для моделей с регуляризациями подберите гиперпараметр. Применить горячее кодирование (Pandas)"
   ]
  },
  {
   "cell_type": "markdown",
   "metadata": {},
   "source": [
    "## Горячее кодирование"
   ]
  },
  {
   "cell_type": "code",
   "execution_count": null,
   "metadata": {},
   "outputs": [
    {
     "data": {
      "text/plain": [
       "((24139, 99), (24139,), (6035, 99), (6035,))"
      ]
     },
     "execution_count": 41,
     "metadata": {},
     "output_type": "execute_result"
    }
   ],
   "source": [
    "data_hot = pd.get_dummies(data.drop('Model',axis=1),dtype=int)\n",
    "Y_hot = data_hot['Price(euro)']\n",
    "X_hot = data_hot[data_hot.describe().columns].drop('Price(euro)',axis=1)\n",
    "\n",
    "X_train_hot, X_test_hot, Y_train_hot, Y_test_hot = train_test_split(X_hot,Y_hot,test_size=0.2)\n",
    "\n",
    "X_train_hot.shape, Y_train_hot.shape, X_test_hot.shape, Y_test_hot.shape"
   ]
  },
  {
   "cell_type": "code",
   "execution_count": null,
   "metadata": {},
   "outputs": [
    {
     "data": {
      "text/html": [
       "<style>#sk-container-id-3 {color: black;}#sk-container-id-3 pre{padding: 0;}#sk-container-id-3 div.sk-toggleable {background-color: white;}#sk-container-id-3 label.sk-toggleable__label {cursor: pointer;display: block;width: 100%;margin-bottom: 0;padding: 0.3em;box-sizing: border-box;text-align: center;}#sk-container-id-3 label.sk-toggleable__label-arrow:before {content: \"▸\";float: left;margin-right: 0.25em;color: #696969;}#sk-container-id-3 label.sk-toggleable__label-arrow:hover:before {color: black;}#sk-container-id-3 div.sk-estimator:hover label.sk-toggleable__label-arrow:before {color: black;}#sk-container-id-3 div.sk-toggleable__content {max-height: 0;max-width: 0;overflow: hidden;text-align: left;background-color: #f0f8ff;}#sk-container-id-3 div.sk-toggleable__content pre {margin: 0.2em;color: black;border-radius: 0.25em;background-color: #f0f8ff;}#sk-container-id-3 input.sk-toggleable__control:checked~div.sk-toggleable__content {max-height: 200px;max-width: 100%;overflow: auto;}#sk-container-id-3 input.sk-toggleable__control:checked~label.sk-toggleable__label-arrow:before {content: \"▾\";}#sk-container-id-3 div.sk-estimator input.sk-toggleable__control:checked~label.sk-toggleable__label {background-color: #d4ebff;}#sk-container-id-3 div.sk-label input.sk-toggleable__control:checked~label.sk-toggleable__label {background-color: #d4ebff;}#sk-container-id-3 input.sk-hidden--visually {border: 0;clip: rect(1px 1px 1px 1px);clip: rect(1px, 1px, 1px, 1px);height: 1px;margin: -1px;overflow: hidden;padding: 0;position: absolute;width: 1px;}#sk-container-id-3 div.sk-estimator {font-family: monospace;background-color: #f0f8ff;border: 1px dotted black;border-radius: 0.25em;box-sizing: border-box;margin-bottom: 0.5em;}#sk-container-id-3 div.sk-estimator:hover {background-color: #d4ebff;}#sk-container-id-3 div.sk-parallel-item::after {content: \"\";width: 100%;border-bottom: 1px solid gray;flex-grow: 1;}#sk-container-id-3 div.sk-label:hover label.sk-toggleable__label {background-color: #d4ebff;}#sk-container-id-3 div.sk-serial::before {content: \"\";position: absolute;border-left: 1px solid gray;box-sizing: border-box;top: 0;bottom: 0;left: 50%;z-index: 0;}#sk-container-id-3 div.sk-serial {display: flex;flex-direction: column;align-items: center;background-color: white;padding-right: 0.2em;padding-left: 0.2em;position: relative;}#sk-container-id-3 div.sk-item {position: relative;z-index: 1;}#sk-container-id-3 div.sk-parallel {display: flex;align-items: stretch;justify-content: center;background-color: white;position: relative;}#sk-container-id-3 div.sk-item::before, #sk-container-id-3 div.sk-parallel-item::before {content: \"\";position: absolute;border-left: 1px solid gray;box-sizing: border-box;top: 0;bottom: 0;left: 50%;z-index: -1;}#sk-container-id-3 div.sk-parallel-item {display: flex;flex-direction: column;z-index: 1;position: relative;background-color: white;}#sk-container-id-3 div.sk-parallel-item:first-child::after {align-self: flex-end;width: 50%;}#sk-container-id-3 div.sk-parallel-item:last-child::after {align-self: flex-start;width: 50%;}#sk-container-id-3 div.sk-parallel-item:only-child::after {width: 0;}#sk-container-id-3 div.sk-dashed-wrapped {border: 1px dashed gray;margin: 0 0.4em 0.5em 0.4em;box-sizing: border-box;padding-bottom: 0.4em;background-color: white;}#sk-container-id-3 div.sk-label label {font-family: monospace;font-weight: bold;display: inline-block;line-height: 1.2em;}#sk-container-id-3 div.sk-label-container {text-align: center;}#sk-container-id-3 div.sk-container {/* jupyter's `normalize.less` sets `[hidden] { display: none; }` but bootstrap.min.css set `[hidden] { display: none !important; }` so we also need the `!important` here to be able to override the default hidden behavior on the sphinx rendered scikit-learn.org. See: https://github.com/scikit-learn/scikit-learn/issues/21755 */display: inline-block !important;position: relative;}#sk-container-id-3 div.sk-text-repr-fallback {display: none;}</style><div id=\"sk-container-id-3\" class=\"sk-top-container\"><div class=\"sk-text-repr-fallback\"><pre>StandardScaler()</pre><b>In a Jupyter environment, please rerun this cell to show the HTML representation or trust the notebook. <br />On GitHub, the HTML representation is unable to render, please try loading this page with nbviewer.org.</b></div><div class=\"sk-container\" hidden><div class=\"sk-item\"><div class=\"sk-estimator sk-toggleable\"><input class=\"sk-toggleable__control sk-hidden--visually\" id=\"sk-estimator-id-9\" type=\"checkbox\" checked><label for=\"sk-estimator-id-9\" class=\"sk-toggleable__label sk-toggleable__label-arrow\">StandardScaler</label><div class=\"sk-toggleable__content\"><pre>StandardScaler()</pre></div></div></div></div></div>"
      ],
      "text/plain": [
       "StandardScaler()"
      ]
     },
     "execution_count": 42,
     "metadata": {},
     "output_type": "execute_result"
    }
   ],
   "source": [
    "scaler = StandardScaler()\n",
    "scaler.fit(X_train_hot)"
   ]
  },
  {
   "cell_type": "code",
   "execution_count": null,
   "metadata": {},
   "outputs": [
    {
     "name": "stdout",
     "output_type": "stream",
     "text": [
      "ElasticNet\n",
      "MSE = 8399804.501871325\n",
      "MAE = 2077.6111257915927\n",
      "RMSE = 2898.2416224102717\n",
      "MAPE = 1.5639283044247807\n",
      "R^2 = 0.6951366722566401\n",
      "\n"
     ]
    }
   ],
   "source": [
    "parameters = {'alpha': np.arange(0.1, 1.1, 0.4)}\n",
    "\n",
    "elastic_model = RandomizedSearchCV(ElasticNet(),parameters).fit(X_train_hot,Y_train_hot)\n",
    "y_pred = elastic_model.predict(X_test_hot)\n",
    "metrics('ElasticNet',Y_test_hot,y_pred)"
   ]
  },
  {
   "cell_type": "code",
   "execution_count": null,
   "metadata": {},
   "outputs": [
    {
     "name": "stdout",
     "output_type": "stream",
     "text": [
      "Горячее кодирование + L1\n",
      "MSE = 7688921.461102164\n",
      "MAE = 1972.7475966880877\n",
      "RMSE = 2772.8904524164245\n",
      "MAPE = 1.631490253821843\n",
      "R^2 = 0.7209375310024506\n",
      "\n"
     ]
    }
   ],
   "source": [
    "lasso_optimal = RandomizedSearchCV(Lasso(),parameters).fit(X_train_hot,Y_train_hot)\n",
    "y_pred = lasso_optimal.predict(X_test_hot)\n",
    "metrics('Горячее кодирование + L1',Y_test_hot,y_pred)"
   ]
  },
  {
   "cell_type": "code",
   "execution_count": null,
   "metadata": {},
   "outputs": [
    {
     "name": "stdout",
     "output_type": "stream",
     "text": [
      "Горячее кодирование + L2\n",
      "MSE = 7688617.26424581\n",
      "MAE = 1972.4500690446212\n",
      "RMSE = 2772.8355999311984\n",
      "MAPE = 1.6318423764047438\n",
      "R^2 = 0.7209485715529653\n",
      "\n"
     ]
    }
   ],
   "source": [
    "ridge_optimal = RandomizedSearchCV(Ridge(),parameters).fit(X_train_hot,Y_train_hot)\n",
    "y_pred = ridge_optimal.predict(X_test_hot)\n",
    "metrics('Горячее кодирование + L2',Y_test_hot,y_pred)"
   ]
  },
  {
   "cell_type": "markdown",
   "metadata": {},
   "source": [
    "# Пункт 9"
   ]
  },
  {
   "cell_type": "markdown",
   "metadata": {},
   "source": [
    "Вычислить значения метрик R2, MAE, MSE, RMSE, MAPE для всех обученных моделей. Выбрать лучшую модель."
   ]
  },
  {
   "cell_type": "code",
   "execution_count": null,
   "metadata": {},
   "outputs": [
    {
     "data": {
      "text/html": [
       "<div>\n",
       "<style scoped>\n",
       "    .dataframe tbody tr th:only-of-type {\n",
       "        vertical-align: middle;\n",
       "    }\n",
       "\n",
       "    .dataframe tbody tr th {\n",
       "        vertical-align: top;\n",
       "    }\n",
       "\n",
       "    .dataframe thead th {\n",
       "        text-align: right;\n",
       "    }\n",
       "</style>\n",
       "<table border=\"1\" class=\"dataframe\">\n",
       "  <thead>\n",
       "    <tr style=\"text-align: right;\">\n",
       "      <th></th>\n",
       "      <th>Name</th>\n",
       "      <th>MSE</th>\n",
       "      <th>MAE</th>\n",
       "      <th>RMSE</th>\n",
       "      <th>MAPE</th>\n",
       "      <th>R^2</th>\n",
       "    </tr>\n",
       "  </thead>\n",
       "  <tbody>\n",
       "    <tr>\n",
       "      <th>18</th>\n",
       "      <td>Пайплайн</td>\n",
       "      <td>6.080389e+06</td>\n",
       "      <td>1773.311575</td>\n",
       "      <td>2465.844540</td>\n",
       "      <td>1.173195</td>\n",
       "      <td>0.776951</td>\n",
       "    </tr>\n",
       "    <tr>\n",
       "      <th>15</th>\n",
       "      <td>Полиномиальная регрессия</td>\n",
       "      <td>6.080420e+06</td>\n",
       "      <td>1773.300787</td>\n",
       "      <td>2465.850695</td>\n",
       "      <td>1.173181</td>\n",
       "      <td>0.776950</td>\n",
       "    </tr>\n",
       "    <tr>\n",
       "      <th>21</th>\n",
       "      <td>Горячее кодирование + L2</td>\n",
       "      <td>7.688617e+06</td>\n",
       "      <td>1972.450069</td>\n",
       "      <td>2772.835600</td>\n",
       "      <td>1.631842</td>\n",
       "      <td>0.720949</td>\n",
       "    </tr>\n",
       "    <tr>\n",
       "      <th>20</th>\n",
       "      <td>Горячее кодирование + L1</td>\n",
       "      <td>7.688921e+06</td>\n",
       "      <td>1972.747597</td>\n",
       "      <td>2772.890452</td>\n",
       "      <td>1.631490</td>\n",
       "      <td>0.720938</td>\n",
       "    </tr>\n",
       "    <tr>\n",
       "      <th>19</th>\n",
       "      <td>ElasticNet</td>\n",
       "      <td>8.399805e+06</td>\n",
       "      <td>2077.611126</td>\n",
       "      <td>2898.241622</td>\n",
       "      <td>1.563928</td>\n",
       "      <td>0.695137</td>\n",
       "    </tr>\n",
       "    <tr>\n",
       "      <th>12</th>\n",
       "      <td>Множественная линейная регрессия</td>\n",
       "      <td>9.175721e+06</td>\n",
       "      <td>2246.213235</td>\n",
       "      <td>3029.145240</td>\n",
       "      <td>1.872161</td>\n",
       "      <td>0.663404</td>\n",
       "    </tr>\n",
       "    <tr>\n",
       "      <th>13</th>\n",
       "      <td>Множественная линейная регрессия + L1</td>\n",
       "      <td>9.175721e+06</td>\n",
       "      <td>2246.213235</td>\n",
       "      <td>3029.145240</td>\n",
       "      <td>1.872161</td>\n",
       "      <td>0.663404</td>\n",
       "    </tr>\n",
       "    <tr>\n",
       "      <th>16</th>\n",
       "      <td>Полиномиальная регрессия + L1</td>\n",
       "      <td>9.175721e+06</td>\n",
       "      <td>2246.213235</td>\n",
       "      <td>3029.145240</td>\n",
       "      <td>1.872161</td>\n",
       "      <td>0.663404</td>\n",
       "    </tr>\n",
       "    <tr>\n",
       "      <th>14</th>\n",
       "      <td>Множественная линейная регрессия + L2</td>\n",
       "      <td>9.175722e+06</td>\n",
       "      <td>2246.212583</td>\n",
       "      <td>3029.145471</td>\n",
       "      <td>1.872190</td>\n",
       "      <td>0.663404</td>\n",
       "    </tr>\n",
       "    <tr>\n",
       "      <th>17</th>\n",
       "      <td>Полиномиальная регрессия + L2</td>\n",
       "      <td>9.175722e+06</td>\n",
       "      <td>2246.212583</td>\n",
       "      <td>3029.145471</td>\n",
       "      <td>1.872190</td>\n",
       "      <td>0.663404</td>\n",
       "    </tr>\n",
       "    <tr>\n",
       "      <th>0</th>\n",
       "      <td>Year</td>\n",
       "      <td>1.394332e+07</td>\n",
       "      <td>2876.601132</td>\n",
       "      <td>3734.076045</td>\n",
       "      <td>1.513104</td>\n",
       "      <td>0.488513</td>\n",
       "    </tr>\n",
       "    <tr>\n",
       "      <th>2</th>\n",
       "      <td>Year + L2</td>\n",
       "      <td>1.394332e+07</td>\n",
       "      <td>2876.600895</td>\n",
       "      <td>3734.076059</td>\n",
       "      <td>1.513104</td>\n",
       "      <td>0.488513</td>\n",
       "    </tr>\n",
       "    <tr>\n",
       "      <th>1</th>\n",
       "      <td>Year + L1</td>\n",
       "      <td>1.394333e+07</td>\n",
       "      <td>2876.590500</td>\n",
       "      <td>3734.076656</td>\n",
       "      <td>1.513106</td>\n",
       "      <td>0.488513</td>\n",
       "    </tr>\n",
       "    <tr>\n",
       "      <th>9</th>\n",
       "      <td>Transmission</td>\n",
       "      <td>1.827515e+07</td>\n",
       "      <td>3336.256742</td>\n",
       "      <td>4274.944876</td>\n",
       "      <td>1.720226</td>\n",
       "      <td>0.329607</td>\n",
       "    </tr>\n",
       "    <tr>\n",
       "      <th>11</th>\n",
       "      <td>Transmission + L2</td>\n",
       "      <td>1.827522e+07</td>\n",
       "      <td>3336.280129</td>\n",
       "      <td>4274.952282</td>\n",
       "      <td>1.720331</td>\n",
       "      <td>0.329605</td>\n",
       "    </tr>\n",
       "    <tr>\n",
       "      <th>10</th>\n",
       "      <td>Transmission + L1</td>\n",
       "      <td>1.827526e+07</td>\n",
       "      <td>3336.294237</td>\n",
       "      <td>4274.956779</td>\n",
       "      <td>1.720394</td>\n",
       "      <td>0.329603</td>\n",
       "    </tr>\n",
       "    <tr>\n",
       "      <th>6</th>\n",
       "      <td>Engine_capacity_cm3</td>\n",
       "      <td>2.513434e+07</td>\n",
       "      <td>4013.363071</td>\n",
       "      <td>5013.416177</td>\n",
       "      <td>2.826787</td>\n",
       "      <td>0.077989</td>\n",
       "    </tr>\n",
       "    <tr>\n",
       "      <th>8</th>\n",
       "      <td>Engine_capacity_cm3 + L2</td>\n",
       "      <td>2.513434e+07</td>\n",
       "      <td>4013.363071</td>\n",
       "      <td>5013.416177</td>\n",
       "      <td>2.826787</td>\n",
       "      <td>0.077989</td>\n",
       "    </tr>\n",
       "    <tr>\n",
       "      <th>7</th>\n",
       "      <td>Engine_capacity_cm3 + L1</td>\n",
       "      <td>2.513434e+07</td>\n",
       "      <td>4013.363062</td>\n",
       "      <td>5013.416217</td>\n",
       "      <td>2.826786</td>\n",
       "      <td>0.077989</td>\n",
       "    </tr>\n",
       "    <tr>\n",
       "      <th>3</th>\n",
       "      <td>Distance</td>\n",
       "      <td>2.619669e+07</td>\n",
       "      <td>4059.098105</td>\n",
       "      <td>5118.270195</td>\n",
       "      <td>2.666668</td>\n",
       "      <td>0.039019</td>\n",
       "    </tr>\n",
       "    <tr>\n",
       "      <th>5</th>\n",
       "      <td>Distance + L2</td>\n",
       "      <td>2.619669e+07</td>\n",
       "      <td>4059.098105</td>\n",
       "      <td>5118.270195</td>\n",
       "      <td>2.666668</td>\n",
       "      <td>0.039019</td>\n",
       "    </tr>\n",
       "    <tr>\n",
       "      <th>4</th>\n",
       "      <td>Distance + L1</td>\n",
       "      <td>2.619669e+07</td>\n",
       "      <td>4059.098105</td>\n",
       "      <td>5118.270195</td>\n",
       "      <td>2.666668</td>\n",
       "      <td>0.039019</td>\n",
       "    </tr>\n",
       "  </tbody>\n",
       "</table>\n",
       "</div>"
      ],
      "text/plain": [
       "                                     Name           MSE          MAE  \\\n",
       "18                               Пайплайн  6.080389e+06  1773.311575   \n",
       "15               Полиномиальная регрессия  6.080420e+06  1773.300787   \n",
       "21               Горячее кодирование + L2  7.688617e+06  1972.450069   \n",
       "20               Горячее кодирование + L1  7.688921e+06  1972.747597   \n",
       "19                             ElasticNet  8.399805e+06  2077.611126   \n",
       "12       Множественная линейная регрессия  9.175721e+06  2246.213235   \n",
       "13  Множественная линейная регрессия + L1  9.175721e+06  2246.213235   \n",
       "16          Полиномиальная регрессия + L1  9.175721e+06  2246.213235   \n",
       "14  Множественная линейная регрессия + L2  9.175722e+06  2246.212583   \n",
       "17          Полиномиальная регрессия + L2  9.175722e+06  2246.212583   \n",
       "0                                    Year  1.394332e+07  2876.601132   \n",
       "2                               Year + L2  1.394332e+07  2876.600895   \n",
       "1                               Year + L1  1.394333e+07  2876.590500   \n",
       "9                            Transmission  1.827515e+07  3336.256742   \n",
       "11                      Transmission + L2  1.827522e+07  3336.280129   \n",
       "10                      Transmission + L1  1.827526e+07  3336.294237   \n",
       "6                     Engine_capacity_cm3  2.513434e+07  4013.363071   \n",
       "8                Engine_capacity_cm3 + L2  2.513434e+07  4013.363071   \n",
       "7                Engine_capacity_cm3 + L1  2.513434e+07  4013.363062   \n",
       "3                                Distance  2.619669e+07  4059.098105   \n",
       "5                           Distance + L2  2.619669e+07  4059.098105   \n",
       "4                           Distance + L1  2.619669e+07  4059.098105   \n",
       "\n",
       "           RMSE      MAPE       R^2  \n",
       "18  2465.844540  1.173195  0.776951  \n",
       "15  2465.850695  1.173181  0.776950  \n",
       "21  2772.835600  1.631842  0.720949  \n",
       "20  2772.890452  1.631490  0.720938  \n",
       "19  2898.241622  1.563928  0.695137  \n",
       "12  3029.145240  1.872161  0.663404  \n",
       "13  3029.145240  1.872161  0.663404  \n",
       "16  3029.145240  1.872161  0.663404  \n",
       "14  3029.145471  1.872190  0.663404  \n",
       "17  3029.145471  1.872190  0.663404  \n",
       "0   3734.076045  1.513104  0.488513  \n",
       "2   3734.076059  1.513104  0.488513  \n",
       "1   3734.076656  1.513106  0.488513  \n",
       "9   4274.944876  1.720226  0.329607  \n",
       "11  4274.952282  1.720331  0.329605  \n",
       "10  4274.956779  1.720394  0.329603  \n",
       "6   5013.416177  2.826787  0.077989  \n",
       "8   5013.416177  2.826787  0.077989  \n",
       "7   5013.416217  2.826786  0.077989  \n",
       "3   5118.270195  2.666668  0.039019  \n",
       "5   5118.270195  2.666668  0.039019  \n",
       "4   5118.270195  2.666668  0.039019  "
      ]
     },
     "execution_count": 46,
     "metadata": {},
     "output_type": "execute_result"
    }
   ],
   "source": [
    "metrics_data.sort_values(by=['R^2','MSE','MAE','MAPE'], ascending=False)"
   ]
  },
  {
   "cell_type": "markdown",
   "metadata": {},
   "source": [
    "Полиномиальная регрессия и пайплайн являются лучшими моделями из 22х, которые применялись на данных, за ней идёт горячее кодирование с регуляризацией, ну а замыкает топ-5 ElasticNet\n",
    "\n",
    "Худшими моделями являются простые регрессии из параметров distance и engine_capacity_cm3"
   ]
  },
  {
   "cell_type": "markdown",
   "metadata": {},
   "source": [
    "# Пункт 10"
   ]
  },
  {
   "cell_type": "markdown",
   "metadata": {},
   "source": [
    "Самостоятельно реализовать (желательно в виде класса) модель линейной регрессии с регуляризацией (L1 и L2)"
   ]
  },
  {
   "cell_type": "code",
   "execution_count": null,
   "metadata": {},
   "outputs": [],
   "source": [
    "class MyLinearRegression:\n",
    "    def fit(self,x: pd.DataFrame, y: pd.Series):\n",
    "        x_t = x.transpose()\n",
    "        x_t_on_x = np.dot(x_t, x) # x_t * x\n",
    "        x_t_on_x_inverse = np.linalg.inv(x_t_on_x) # (x_t * x)^-1\n",
    "        w = np.dot(x_t_on_x_inverse,x_t) # (x_t * x)^-1 * x^t\n",
    "        self.w = np.dot(w,y)  # (x_t * x)^-1 * x^t * y\n",
    "        return self\n",
    "\n",
    "    def predict(self,x):\n",
    "        return np.dot(x,self.w)"
   ]
  },
  {
   "cell_type": "code",
   "execution_count": null,
   "metadata": {},
   "outputs": [
    {
     "name": "stdout",
     "output_type": "stream",
     "text": [
      "моя регрессия\n",
      "MSE = 17465285.836358294\n",
      "MAE = 3278.4324246881474\n",
      "RMSE = 4179.1489368480625\n",
      "MAPE = 2.172938112472845\n",
      "R^2 = 0.359315467199143\n",
      "\n",
      "настоящая регрессия\n",
      "MSE = 9175720.88416019\n",
      "MAE = 2246.213235182986\n",
      "RMSE = 3029.145239858959\n",
      "MAPE = 1.8721609285677554\n",
      "R^2 = 0.6634041662495331\n",
      "\n"
     ]
    }
   ],
   "source": [
    "lr1 = MyLinearRegression().fit(X_train,Y_train)\n",
    "y_pred1 = lr1.predict(X_test)\n",
    "metrics('моя регрессия',Y_test,y_pred1,False)\n",
    "\n",
    "lr2 = LinearRegression().fit(X_train,Y_train)\n",
    "y_pred2 = lr2.predict(X_test)\n",
    "metrics('настоящая регрессия',Y_test,y_pred2,False)"
   ]
  }
 ],
 "metadata": {
  "kernelspec": {
   "display_name": "Python 3",
   "language": "python",
   "name": "python3"
  },
  "language_info": {
   "codemirror_mode": {
    "name": "ipython",
    "version": 3
   },
   "file_extension": ".py",
   "mimetype": "text/x-python",
   "name": "python",
   "nbconvert_exporter": "python",
   "pygments_lexer": "ipython3",
   "version": "3.11.7"
  }
 },
 "nbformat": 4,
 "nbformat_minor": 2
}
