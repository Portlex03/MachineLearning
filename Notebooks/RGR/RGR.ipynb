{
 "cells": [
  {
   "cell_type": "markdown",
   "metadata": {},
   "source": [
    "# Расчётно-графическая работа"
   ]
  },
  {
   "cell_type": "code",
   "execution_count": 16,
   "metadata": {},
   "outputs": [],
   "source": [
    "import pandas as pd\n",
    "\n",
    "df = pd.read_csv('../../../Datasets/Lab3_DataSet3_Preprocesed.csv').drop('Unnamed: 0',axis=1)"
   ]
  },
  {
   "cell_type": "code",
   "execution_count": 17,
   "metadata": {},
   "outputs": [],
   "source": [
    "from sklearn.model_selection import train_test_split\n",
    "from sklearn.preprocessing import PolynomialFeatures\n",
    "from sklearn.linear_model import LinearRegression\n",
    "from sklearn.metrics import r2_score"
   ]
  },
  {
   "cell_type": "code",
   "execution_count": 18,
   "metadata": {},
   "outputs": [],
   "source": [
    "X,Y = df.drop('Price(euro)',axis=1)[['Year','Distance','Transmission','Engine_capacity_cm3']], df['Price(euro)']\n",
    "\n",
    "x_tr, x_test, y_tr, y_test = train_test_split(X,Y,test_size=0.15,random_state=42)"
   ]
  },
  {
   "cell_type": "markdown",
   "metadata": {},
   "source": [
    "## Полиномиальная"
   ]
  },
  {
   "cell_type": "code",
   "execution_count": 24,
   "metadata": {},
   "outputs": [
    {
     "data": {
      "text/plain": [
       "0.7751969138838721"
      ]
     },
     "execution_count": 24,
     "metadata": {},
     "output_type": "execute_result"
    }
   ],
   "source": [
    "p = PolynomialFeatures()\n",
    "\n",
    "x_tr_p = p.fit_transform(x_tr)\n",
    "x_test_p = p.fit_transform(x_test)\n",
    "\n",
    "lr = LinearRegression(n_jobs=-1).fit(x_tr_p,y_tr)\n",
    "y_pred = lr.predict(x_test_p)\n",
    "\n",
    "r2_score(y_test,y_pred)"
   ]
  },
  {
   "cell_type": "markdown",
   "metadata": {},
   "source": [
    "## ГрадиентБустинг"
   ]
  },
  {
   "cell_type": "code",
   "execution_count": 20,
   "metadata": {},
   "outputs": [
    {
     "data": {
      "text/plain": [
       "0.797"
      ]
     },
     "execution_count": 20,
     "metadata": {},
     "output_type": "execute_result"
    }
   ],
   "source": [
    "from sklearn.ensemble import GradientBoostingRegressor\n",
    "\n",
    "gradient_boosting = GradientBoostingRegressor().fit(x_tr,y_tr)\n",
    "y_pred = gradient_boosting.predict(x_test)\n",
    "\n",
    "round(r2_score(y_test,y_pred),3)"
   ]
  },
  {
   "cell_type": "markdown",
   "metadata": {},
   "source": [
    "## Бэггинг"
   ]
  },
  {
   "cell_type": "code",
   "execution_count": 23,
   "metadata": {},
   "outputs": [
    {
     "name": "stdout",
     "output_type": "stream",
     "text": [
      "0.6693268785515543\n",
      "0.7909267525365983\n",
      "0.7751663916704211\n"
     ]
    }
   ],
   "source": [
    "from sklearn.ensemble import BaggingRegressor\n",
    "from sklearn.tree import DecisionTreeRegressor\n",
    "\n",
    "estimator1 = LinearRegression()\n",
    "estimator2 = DecisionTreeRegressor(max_depth=13)\n",
    "\n",
    "bagging1 = BaggingRegressor(estimator1).fit(x_tr,y_tr)\n",
    "bagging2 = BaggingRegressor(estimator2).fit(x_tr,y_tr)\n",
    "bagging3 = BaggingRegressor(estimator1).fit(x_tr_p,y_tr)\n",
    "\n",
    "y_pred1 = bagging1.predict(x_test)\n",
    "y_pred2 = bagging2.predict(x_test)\n",
    "y_pred3 = bagging3.predict(x_test_p)\n",
    "\n",
    "print(r2_score(y_test,y_pred1))\n",
    "print(r2_score(y_test,y_pred2))\n",
    "print(r2_score(y_test,y_pred3))"
   ]
  }
 ],
 "metadata": {
  "kernelspec": {
   "display_name": "Python 3",
   "language": "python",
   "name": "python3"
  },
  "language_info": {
   "codemirror_mode": {
    "name": "ipython",
    "version": 3
   },
   "file_extension": ".py",
   "mimetype": "text/x-python",
   "name": "python",
   "nbconvert_exporter": "python",
   "pygments_lexer": "ipython3",
   "version": "3.11.3"
  }
 },
 "nbformat": 4,
 "nbformat_minor": 2
}
