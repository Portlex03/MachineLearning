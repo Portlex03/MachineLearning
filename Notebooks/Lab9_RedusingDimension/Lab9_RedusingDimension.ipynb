{
 "cells": [
  {
   "cell_type": "markdown",
   "metadata": {},
   "source": [
    "# ЛАБОРАТОРНАЯ РАБОТА №9. ПОНИЖЕНИЕ РАЗМЕРНОСТИ. ОТ-БОР ПРИЗНАКОВ. ИЗВЛЕЧЕНИЕ ПРИЗНАКОВ"
   ]
  },
  {
   "cell_type": "markdown",
   "metadata": {},
   "source": [
    "# ЗАДАНИЕ №1.\n",
    "3. Выберите две модели (одна - для регрессии и другая - для классификации). Обучите выбранные модели с использованием данных в пространстве низкой размерности - используйте результаты выполнения пункта 3 (не забудьте, что понижать нужно и X_train и X_test, но проще всего понижать X).\n",
    "4. Сформулируйте вывод о том, какие методы понижения размерности лучше всего подходят для Ваших данных.\n"
   ]
  },
  {
   "cell_type": "markdown",
   "metadata": {},
   "source": [
    "#### 1. Для выполнения задания №1 используйте датасеты для задачи классификации и регрессии."
   ]
  },
  {
   "cell_type": "markdown",
   "metadata": {},
   "source": [
    "## Импортирование датасетов"
   ]
  },
  {
   "cell_type": "code",
   "execution_count": 1,
   "metadata": {},
   "outputs": [
    {
     "data": {
      "text/html": [
       "<div>\n",
       "<style scoped>\n",
       "    .dataframe tbody tr th:only-of-type {\n",
       "        vertical-align: middle;\n",
       "    }\n",
       "\n",
       "    .dataframe tbody tr th {\n",
       "        vertical-align: top;\n",
       "    }\n",
       "\n",
       "    .dataframe thead th {\n",
       "        text-align: right;\n",
       "    }\n",
       "</style>\n",
       "<table border=\"1\" class=\"dataframe\">\n",
       "  <thead>\n",
       "    <tr style=\"text-align: right;\">\n",
       "      <th></th>\n",
       "      <th>Mark_0</th>\n",
       "      <th>Mark_1</th>\n",
       "      <th>Mark_2</th>\n",
       "      <th>Mark_3</th>\n",
       "      <th>Mark_4</th>\n",
       "      <th>Mark_5</th>\n",
       "      <th>Mark_6</th>\n",
       "      <th>Model_0</th>\n",
       "      <th>Model_1</th>\n",
       "      <th>Model_2</th>\n",
       "      <th>...</th>\n",
       "      <th>Type_1</th>\n",
       "      <th>Type_2</th>\n",
       "      <th>Type_3</th>\n",
       "      <th>Distance</th>\n",
       "      <th>Engine_capacity_cm3</th>\n",
       "      <th>Fuel_type_0</th>\n",
       "      <th>Fuel_type_1</th>\n",
       "      <th>Fuel_type_2</th>\n",
       "      <th>Transmission</th>\n",
       "      <th>Price(euro)</th>\n",
       "    </tr>\n",
       "  </thead>\n",
       "  <tbody>\n",
       "    <tr>\n",
       "      <th>0</th>\n",
       "      <td>0.0</td>\n",
       "      <td>0.0</td>\n",
       "      <td>0.0</td>\n",
       "      <td>0.0</td>\n",
       "      <td>0.0</td>\n",
       "      <td>0.0</td>\n",
       "      <td>1.0</td>\n",
       "      <td>0.0</td>\n",
       "      <td>0.0</td>\n",
       "      <td>0.0</td>\n",
       "      <td>...</td>\n",
       "      <td>0.0</td>\n",
       "      <td>0.0</td>\n",
       "      <td>1.0</td>\n",
       "      <td>0.443182</td>\n",
       "      <td>0.532995</td>\n",
       "      <td>0.0</td>\n",
       "      <td>0.0</td>\n",
       "      <td>1.0</td>\n",
       "      <td>1.0</td>\n",
       "      <td>7750</td>\n",
       "    </tr>\n",
       "    <tr>\n",
       "      <th>1</th>\n",
       "      <td>0.0</td>\n",
       "      <td>0.0</td>\n",
       "      <td>0.0</td>\n",
       "      <td>0.0</td>\n",
       "      <td>0.0</td>\n",
       "      <td>1.0</td>\n",
       "      <td>0.0</td>\n",
       "      <td>0.0</td>\n",
       "      <td>0.0</td>\n",
       "      <td>0.0</td>\n",
       "      <td>...</td>\n",
       "      <td>0.0</td>\n",
       "      <td>1.0</td>\n",
       "      <td>0.0</td>\n",
       "      <td>0.306818</td>\n",
       "      <td>0.380711</td>\n",
       "      <td>0.0</td>\n",
       "      <td>1.0</td>\n",
       "      <td>0.0</td>\n",
       "      <td>0.0</td>\n",
       "      <td>8550</td>\n",
       "    </tr>\n",
       "    <tr>\n",
       "      <th>2</th>\n",
       "      <td>0.0</td>\n",
       "      <td>0.0</td>\n",
       "      <td>0.0</td>\n",
       "      <td>0.0</td>\n",
       "      <td>0.0</td>\n",
       "      <td>1.0</td>\n",
       "      <td>1.0</td>\n",
       "      <td>0.0</td>\n",
       "      <td>0.0</td>\n",
       "      <td>0.0</td>\n",
       "      <td>...</td>\n",
       "      <td>0.0</td>\n",
       "      <td>0.0</td>\n",
       "      <td>1.0</td>\n",
       "      <td>0.000002</td>\n",
       "      <td>0.329949</td>\n",
       "      <td>0.0</td>\n",
       "      <td>1.0</td>\n",
       "      <td>1.0</td>\n",
       "      <td>0.0</td>\n",
       "      <td>2200</td>\n",
       "    </tr>\n",
       "    <tr>\n",
       "      <th>3</th>\n",
       "      <td>0.0</td>\n",
       "      <td>0.0</td>\n",
       "      <td>0.0</td>\n",
       "      <td>0.0</td>\n",
       "      <td>0.0</td>\n",
       "      <td>1.0</td>\n",
       "      <td>0.0</td>\n",
       "      <td>0.0</td>\n",
       "      <td>0.0</td>\n",
       "      <td>0.0</td>\n",
       "      <td>...</td>\n",
       "      <td>0.0</td>\n",
       "      <td>1.0</td>\n",
       "      <td>0.0</td>\n",
       "      <td>0.250000</td>\n",
       "      <td>0.380711</td>\n",
       "      <td>0.0</td>\n",
       "      <td>1.0</td>\n",
       "      <td>0.0</td>\n",
       "      <td>0.0</td>\n",
       "      <td>6550</td>\n",
       "    </tr>\n",
       "    <tr>\n",
       "      <th>4</th>\n",
       "      <td>0.0</td>\n",
       "      <td>0.0</td>\n",
       "      <td>0.0</td>\n",
       "      <td>0.0</td>\n",
       "      <td>1.0</td>\n",
       "      <td>0.0</td>\n",
       "      <td>0.0</td>\n",
       "      <td>0.0</td>\n",
       "      <td>0.0</td>\n",
       "      <td>0.0</td>\n",
       "      <td>...</td>\n",
       "      <td>0.0</td>\n",
       "      <td>1.0</td>\n",
       "      <td>0.0</td>\n",
       "      <td>0.454545</td>\n",
       "      <td>0.431472</td>\n",
       "      <td>1.0</td>\n",
       "      <td>0.0</td>\n",
       "      <td>0.0</td>\n",
       "      <td>0.0</td>\n",
       "      <td>4100</td>\n",
       "    </tr>\n",
       "  </tbody>\n",
       "</table>\n",
       "<p>5 rows × 29 columns</p>\n",
       "</div>"
      ],
      "text/plain": [
       "   Mark_0  Mark_1  Mark_2  Mark_3  Mark_4  Mark_5  Mark_6  Model_0  Model_1  \\\n",
       "0     0.0     0.0     0.0     0.0     0.0     0.0     1.0      0.0      0.0   \n",
       "1     0.0     0.0     0.0     0.0     0.0     1.0     0.0      0.0      0.0   \n",
       "2     0.0     0.0     0.0     0.0     0.0     1.0     1.0      0.0      0.0   \n",
       "3     0.0     0.0     0.0     0.0     0.0     1.0     0.0      0.0      0.0   \n",
       "4     0.0     0.0     0.0     0.0     1.0     0.0     0.0      0.0      0.0   \n",
       "\n",
       "   Model_2  ...  Type_1  Type_2  Type_3  Distance  Engine_capacity_cm3  \\\n",
       "0      0.0  ...     0.0     0.0     1.0  0.443182             0.532995   \n",
       "1      0.0  ...     0.0     1.0     0.0  0.306818             0.380711   \n",
       "2      0.0  ...     0.0     0.0     1.0  0.000002             0.329949   \n",
       "3      0.0  ...     0.0     1.0     0.0  0.250000             0.380711   \n",
       "4      0.0  ...     0.0     1.0     0.0  0.454545             0.431472   \n",
       "\n",
       "   Fuel_type_0  Fuel_type_1  Fuel_type_2  Transmission  Price(euro)  \n",
       "0          0.0          0.0          1.0           1.0         7750  \n",
       "1          0.0          1.0          0.0           0.0         8550  \n",
       "2          0.0          1.0          1.0           0.0         2200  \n",
       "3          0.0          1.0          0.0           0.0         6550  \n",
       "4          1.0          0.0          0.0           0.0         4100  \n",
       "\n",
       "[5 rows x 29 columns]"
      ]
     },
     "execution_count": 1,
     "metadata": {},
     "output_type": "execute_result"
    }
   ],
   "source": [
    "import pandas as pd\n",
    "\n",
    "df_regr = pd.read_csv('../../Datasets/Lab3_DataSet3_Preprocessed.csv')\n",
    "df_regr.head()"
   ]
  },
  {
   "cell_type": "code",
   "execution_count": 2,
   "metadata": {},
   "outputs": [
    {
     "data": {
      "text/html": [
       "<div>\n",
       "<style scoped>\n",
       "    .dataframe tbody tr th:only-of-type {\n",
       "        vertical-align: middle;\n",
       "    }\n",
       "\n",
       "    .dataframe tbody tr th {\n",
       "        vertical-align: top;\n",
       "    }\n",
       "\n",
       "    .dataframe thead th {\n",
       "        text-align: right;\n",
       "    }\n",
       "</style>\n",
       "<table border=\"1\" class=\"dataframe\">\n",
       "  <thead>\n",
       "    <tr style=\"text-align: right;\">\n",
       "      <th></th>\n",
       "      <th>Airline_0</th>\n",
       "      <th>Airline_1</th>\n",
       "      <th>Airline_2</th>\n",
       "      <th>Airline_3</th>\n",
       "      <th>Airline_4</th>\n",
       "      <th>Flight</th>\n",
       "      <th>AirportFrom_0</th>\n",
       "      <th>AirportFrom_1</th>\n",
       "      <th>AirportFrom_2</th>\n",
       "      <th>AirportFrom_3</th>\n",
       "      <th>...</th>\n",
       "      <th>AirportTo_3</th>\n",
       "      <th>AirportTo_4</th>\n",
       "      <th>AirportTo_5</th>\n",
       "      <th>AirportTo_6</th>\n",
       "      <th>AirportTo_7</th>\n",
       "      <th>AirportTo_8</th>\n",
       "      <th>DayOfWeek</th>\n",
       "      <th>Time</th>\n",
       "      <th>Length</th>\n",
       "      <th>Delay</th>\n",
       "    </tr>\n",
       "  </thead>\n",
       "  <tbody>\n",
       "    <tr>\n",
       "      <th>146540</th>\n",
       "      <td>0.0</td>\n",
       "      <td>1.0</td>\n",
       "      <td>0.0</td>\n",
       "      <td>0.0</td>\n",
       "      <td>1.0</td>\n",
       "      <td>0.298259</td>\n",
       "      <td>0.0</td>\n",
       "      <td>0.0</td>\n",
       "      <td>0.0</td>\n",
       "      <td>1.0</td>\n",
       "      <td>...</td>\n",
       "      <td>0.0</td>\n",
       "      <td>0.0</td>\n",
       "      <td>1.0</td>\n",
       "      <td>0.0</td>\n",
       "      <td>1.0</td>\n",
       "      <td>1.0</td>\n",
       "      <td>0.333333</td>\n",
       "      <td>0.746676</td>\n",
       "      <td>0.198473</td>\n",
       "      <td>1</td>\n",
       "    </tr>\n",
       "    <tr>\n",
       "      <th>43505</th>\n",
       "      <td>0.0</td>\n",
       "      <td>0.0</td>\n",
       "      <td>1.0</td>\n",
       "      <td>1.0</td>\n",
       "      <td>0.0</td>\n",
       "      <td>0.112007</td>\n",
       "      <td>0.0</td>\n",
       "      <td>0.0</td>\n",
       "      <td>0.0</td>\n",
       "      <td>0.0</td>\n",
       "      <td>...</td>\n",
       "      <td>0.0</td>\n",
       "      <td>0.0</td>\n",
       "      <td>1.0</td>\n",
       "      <td>1.0</td>\n",
       "      <td>1.0</td>\n",
       "      <td>1.0</td>\n",
       "      <td>0.000000</td>\n",
       "      <td>0.676697</td>\n",
       "      <td>0.225954</td>\n",
       "      <td>0</td>\n",
       "    </tr>\n",
       "    <tr>\n",
       "      <th>89008</th>\n",
       "      <td>0.0</td>\n",
       "      <td>1.0</td>\n",
       "      <td>0.0</td>\n",
       "      <td>0.0</td>\n",
       "      <td>1.0</td>\n",
       "      <td>0.232719</td>\n",
       "      <td>0.0</td>\n",
       "      <td>0.0</td>\n",
       "      <td>0.0</td>\n",
       "      <td>1.0</td>\n",
       "      <td>...</td>\n",
       "      <td>1.0</td>\n",
       "      <td>0.0</td>\n",
       "      <td>1.0</td>\n",
       "      <td>0.0</td>\n",
       "      <td>0.0</td>\n",
       "      <td>1.0</td>\n",
       "      <td>0.000000</td>\n",
       "      <td>0.829251</td>\n",
       "      <td>0.479389</td>\n",
       "      <td>1</td>\n",
       "    </tr>\n",
       "    <tr>\n",
       "      <th>68133</th>\n",
       "      <td>0.0</td>\n",
       "      <td>0.0</td>\n",
       "      <td>0.0</td>\n",
       "      <td>1.0</td>\n",
       "      <td>1.0</td>\n",
       "      <td>0.899386</td>\n",
       "      <td>0.0</td>\n",
       "      <td>0.0</td>\n",
       "      <td>0.0</td>\n",
       "      <td>0.0</td>\n",
       "      <td>...</td>\n",
       "      <td>0.0</td>\n",
       "      <td>1.0</td>\n",
       "      <td>0.0</td>\n",
       "      <td>0.0</td>\n",
       "      <td>1.0</td>\n",
       "      <td>1.0</td>\n",
       "      <td>0.333333</td>\n",
       "      <td>0.637509</td>\n",
       "      <td>0.129771</td>\n",
       "      <td>0</td>\n",
       "    </tr>\n",
       "    <tr>\n",
       "      <th>27966</th>\n",
       "      <td>1.0</td>\n",
       "      <td>0.0</td>\n",
       "      <td>0.0</td>\n",
       "      <td>0.0</td>\n",
       "      <td>0.0</td>\n",
       "      <td>0.830901</td>\n",
       "      <td>0.0</td>\n",
       "      <td>0.0</td>\n",
       "      <td>0.0</td>\n",
       "      <td>1.0</td>\n",
       "      <td>...</td>\n",
       "      <td>0.0</td>\n",
       "      <td>0.0</td>\n",
       "      <td>0.0</td>\n",
       "      <td>0.0</td>\n",
       "      <td>0.0</td>\n",
       "      <td>1.0</td>\n",
       "      <td>0.166667</td>\n",
       "      <td>0.906228</td>\n",
       "      <td>0.140458</td>\n",
       "      <td>0</td>\n",
       "    </tr>\n",
       "  </tbody>\n",
       "</table>\n",
       "<p>5 rows × 28 columns</p>\n",
       "</div>"
      ],
      "text/plain": [
       "        Airline_0  Airline_1  Airline_2  Airline_3  Airline_4    Flight  \\\n",
       "146540        0.0        1.0        0.0        0.0        1.0  0.298259   \n",
       "43505         0.0        0.0        1.0        1.0        0.0  0.112007   \n",
       "89008         0.0        1.0        0.0        0.0        1.0  0.232719   \n",
       "68133         0.0        0.0        0.0        1.0        1.0  0.899386   \n",
       "27966         1.0        0.0        0.0        0.0        0.0  0.830901   \n",
       "\n",
       "        AirportFrom_0  AirportFrom_1  AirportFrom_2  AirportFrom_3  ...  \\\n",
       "146540            0.0            0.0            0.0            1.0  ...   \n",
       "43505             0.0            0.0            0.0            0.0  ...   \n",
       "89008             0.0            0.0            0.0            1.0  ...   \n",
       "68133             0.0            0.0            0.0            0.0  ...   \n",
       "27966             0.0            0.0            0.0            1.0  ...   \n",
       "\n",
       "        AirportTo_3  AirportTo_4  AirportTo_5  AirportTo_6  AirportTo_7  \\\n",
       "146540          0.0          0.0          1.0          0.0          1.0   \n",
       "43505           0.0          0.0          1.0          1.0          1.0   \n",
       "89008           1.0          0.0          1.0          0.0          0.0   \n",
       "68133           0.0          1.0          0.0          0.0          1.0   \n",
       "27966           0.0          0.0          0.0          0.0          0.0   \n",
       "\n",
       "        AirportTo_8  DayOfWeek      Time    Length  Delay  \n",
       "146540          1.0   0.333333  0.746676  0.198473      1  \n",
       "43505           1.0   0.000000  0.676697  0.225954      0  \n",
       "89008           1.0   0.000000  0.829251  0.479389      1  \n",
       "68133           1.0   0.333333  0.637509  0.129771      0  \n",
       "27966           1.0   0.166667  0.906228  0.140458      0  \n",
       "\n",
       "[5 rows x 28 columns]"
      ]
     },
     "execution_count": 2,
     "metadata": {},
     "output_type": "execute_result"
    }
   ],
   "source": [
    "df_clsf = pd.read_csv('../../Datasets/Lab4_DataSet4_Preprocessed_Resampled.csv').sample(frac=1)\n",
    "df_clsf.head()"
   ]
  },
  {
   "cell_type": "markdown",
   "metadata": {},
   "source": [
    "уменьшение потребления памяти"
   ]
  },
  {
   "cell_type": "code",
   "execution_count": 3,
   "metadata": {},
   "outputs": [],
   "source": [
    "def reduce_mem_usage(df:pd.DataFrame):\n",
    "  import numpy as np\n",
    "  start_mem = df.memory_usage().sum() / 1024**2\n",
    "  for col in df.columns:\n",
    "    col_type = df[col].dtypes\n",
    "    if str(col_type)[:5] == 'float':\n",
    "      c_min = df[col].min()\n",
    "      c_max = df[col].max()\n",
    "      if c_min>np.finfo('f2').min and c_max < np.finfo('f2').max:\n",
    "        df[col]=df[col].astype(np.float16)\n",
    "      elif c_min>np.finfo('f4').min and c_max < np.finfo('f4').max:\n",
    "        df[col]=df[col].astype(np.float32)\n",
    "      else:\n",
    "        df[col]=df[col].astype(np.float64)\n",
    "    elif str(col_type)[:3] == 'int':\n",
    "      c_min = df[col].min()\n",
    "      c_max = df[col].max()\n",
    "      if c_min>np.iinfo('i1').min and c_max < np.iinfo('i1').max:\n",
    "        df[col]=df[col].astype(np.int8)\n",
    "      elif c_min>np.iinfo('i2').min and c_max < np.iinfo('i2').max:\n",
    "        df[col]=df[col].astype(np.int16)\n",
    "      elif c_min>np.iinfo('i4').min and c_max < np.iinfo('i4').max:\n",
    "        df[col]=df[col].astype(np.int32)\n",
    "      elif c_min>np.iinfo('i8').min and c_max < np.iinfo('i8').max:\n",
    "        df[col]=df[col].astype(np.int64)\n",
    "    elif col == 'timestamp':\n",
    "      df[col]=pd.to_datetime(df[col])\n",
    "    elif str(col_type)[:8] != 'datetime':\n",
    "      df[col]=df[col].astype('category')\n",
    "  end_mem=df.memory_usage().sum() /1024**2\n",
    "  print('Потребление памяти на', round(start_mem - end_mem, 2), 'Мб (минус', round(100 * (start_mem - end_mem) / start_mem, 1), '%)')\n",
    "  return df"
   ]
  },
  {
   "cell_type": "code",
   "execution_count": 4,
   "metadata": {},
   "outputs": [
    {
     "name": "stdout",
     "output_type": "stream",
     "text": [
      "Потребление памяти на 5.01 Мб (минус 75.0 %)\n",
      "Потребление памяти на 28.01 Мб (минус 72.8 %)\n"
     ]
    }
   ],
   "source": [
    "df_regr = reduce_mem_usage(df_regr)\n",
    "df_clsf = reduce_mem_usage(df_clsf)"
   ]
  },
  {
   "cell_type": "markdown",
   "metadata": {},
   "source": [
    "## Методы для теста"
   ]
  },
  {
   "cell_type": "code",
   "execution_count": 5,
   "metadata": {},
   "outputs": [],
   "source": [
    "from sklearn.model_selection import train_test_split\n",
    "from sklearn.ensemble import GradientBoostingClassifier, GradientBoostingRegressor\n",
    "from sklearn.metrics import classification_report, r2_score as r2, mean_squared_error as mse\n",
    "\n",
    "# разделение на x,y\n",
    "x_regr, y_regr = df_regr.drop('Price(euro)',axis=1), df_regr['Price(euro)']\n",
    "x_clsf, y_clsf = df_clsf.drop('Delay', axis=1), df_clsf['Delay']\n",
    "\n",
    "# тест для регрессии\n",
    "def test_clsf(X, y):\n",
    "  X_train, X_test, y_train, y_test = train_test_split(X, y, test_size=0.15, random_state=42)\n",
    "  bag = GradientBoostingClassifier().fit(X_train, y_train)\n",
    "  print(classification_report(y_test, bag.predict(X_test)))\n",
    "\n",
    "# тест для классификации\n",
    "def test_regr(X, y):\n",
    "  X_train, X_test, y_train, y_test = train_test_split(X, y, test_size=0.2,random_state=42)\n",
    "  bag = GradientBoostingRegressor().fit(X_train, y_train)\n",
    "  y_pred = bag.predict(X_test)\n",
    "  print(\"mse:\",mse(y_test, y_pred).round(3))\n",
    "  print(\"r2:\",r2(y_test, y_pred).round(3))"
   ]
  },
  {
   "cell_type": "code",
   "execution_count": 29,
   "metadata": {},
   "outputs": [
    {
     "name": "stdout",
     "output_type": "stream",
     "text": [
      "mse: 4965899.627\n",
      "r2: 0.82\n"
     ]
    }
   ],
   "source": [
    "test_regr(x_regr, y_regr)"
   ]
  },
  {
   "cell_type": "code",
   "execution_count": 30,
   "metadata": {},
   "outputs": [
    {
     "name": "stdout",
     "output_type": "stream",
     "text": [
      "              precision    recall  f1-score   support\n",
      "\n",
      "           0       0.62      0.61      0.62     13071\n",
      "           1       0.62      0.63      0.62     12997\n",
      "\n",
      "    accuracy                           0.62     26068\n",
      "   macro avg       0.62      0.62      0.62     26068\n",
      "weighted avg       0.62      0.62      0.62     26068\n",
      "\n"
     ]
    }
   ],
   "source": [
    "test_clsf(x_clsf, y_clsf)"
   ]
  },
  {
   "cell_type": "markdown",
   "metadata": {},
   "source": [
    "#### 2. С помощью классов библиотеки sklearn выполните понижение размерности (размерность выберите сами, можно разные) с использованием всех описанных методов (VarianceThreshold, SelectKBest, RFE, PCA, tSNE, Isomap)."
   ]
  },
  {
   "cell_type": "markdown",
   "metadata": {},
   "source": [
    "## VarianceThreshold"
   ]
  },
  {
   "cell_type": "markdown",
   "metadata": {},
   "source": [
    "### Регрессия"
   ]
  },
  {
   "cell_type": "code",
   "execution_count": 47,
   "metadata": {},
   "outputs": [
    {
     "data": {
      "text/plain": [
       "((30174, 16), (30174, 28))"
      ]
     },
     "execution_count": 47,
     "metadata": {},
     "output_type": "execute_result"
    }
   ],
   "source": [
    "from sklearn.feature_selection import VarianceThreshold\n",
    "\n",
    "vt_regr = VarianceThreshold(0.2)\n",
    "vt_regr.fit(x_regr,y_regr)\n",
    "\n",
    "x_vt_regr = pd.DataFrame(vt_regr.fit_transform(x_regr), columns=vt_regr.get_feature_names_out())\n",
    "x_vt_regr.shape, x_regr.shape"
   ]
  },
  {
   "cell_type": "code",
   "execution_count": 48,
   "metadata": {},
   "outputs": [
    {
     "name": "stdout",
     "output_type": "stream",
     "text": [
      "mse: 14437918.018\n",
      "r2: 0.477\n"
     ]
    }
   ],
   "source": [
    "test_regr(x_vt_regr,y_regr)"
   ]
  },
  {
   "cell_type": "markdown",
   "metadata": {},
   "source": [
    "Вывод: размерность сократилась почти в 2 раза, но r2 уменьшился в 2 раза, а mse вырос в 3 раза"
   ]
  },
  {
   "cell_type": "markdown",
   "metadata": {},
   "source": [
    "### Классификация"
   ]
  },
  {
   "cell_type": "code",
   "execution_count": 49,
   "metadata": {},
   "outputs": [
    {
     "data": {
      "text/plain": [
       "((173782, 16), (173782, 27))"
      ]
     },
     "execution_count": 49,
     "metadata": {},
     "output_type": "execute_result"
    }
   ],
   "source": [
    "vt_clsf = VarianceThreshold(0.2)\n",
    "vt_clsf.fit(x_clsf,y_clsf)\n",
    "\n",
    "x_vt_clsf = pd.DataFrame(vt_clsf.fit_transform(x_clsf), columns=vt_clsf.get_feature_names_out())\n",
    "x_vt_clsf.head()\n",
    "x_vt_clsf.shape, x_clsf.shape"
   ]
  },
  {
   "cell_type": "code",
   "execution_count": 50,
   "metadata": {},
   "outputs": [
    {
     "name": "stdout",
     "output_type": "stream",
     "text": [
      "              precision    recall  f1-score   support\n",
      "\n",
      "           0       0.57      0.74      0.65     13071\n",
      "           1       0.63      0.45      0.52     12997\n",
      "\n",
      "    accuracy                           0.59     26068\n",
      "   macro avg       0.60      0.59      0.59     26068\n",
      "weighted avg       0.60      0.59      0.59     26068\n",
      "\n"
     ]
    }
   ],
   "source": [
    "test_clsf(x_vt_clsf, y_clsf)"
   ]
  },
  {
   "cell_type": "markdown",
   "metadata": {},
   "source": [
    "Вывод: размерность классификации уменьшилась почти 2 раза, но accuracy изменился не сильно "
   ]
  },
  {
   "cell_type": "markdown",
   "metadata": {},
   "source": [
    "## SelectKBest"
   ]
  },
  {
   "cell_type": "markdown",
   "metadata": {},
   "source": [
    "### Регрессия"
   ]
  },
  {
   "cell_type": "markdown",
   "metadata": {},
   "source": [
    "#### 10 признаков"
   ]
  },
  {
   "cell_type": "code",
   "execution_count": 51,
   "metadata": {},
   "outputs": [
    {
     "data": {
      "text/plain": [
       "((30174, 10), (30174, 28))"
      ]
     },
     "execution_count": 51,
     "metadata": {},
     "output_type": "execute_result"
    }
   ],
   "source": [
    "from sklearn.feature_selection import SelectKBest\n",
    "\n",
    "skb_regr = SelectKBest(k=10)\n",
    "x_skb_regr = skb_regr.fit_transform(x_regr, y_regr)\n",
    "x_skb_regr.shape, x_regr.shape"
   ]
  },
  {
   "cell_type": "code",
   "execution_count": 52,
   "metadata": {},
   "outputs": [
    {
     "name": "stdout",
     "output_type": "stream",
     "text": [
      "mse: 5299844.88\n",
      "r2: 0.808\n"
     ]
    }
   ],
   "source": [
    "test_regr(x_skb_regr,y_regr)"
   ]
  },
  {
   "cell_type": "markdown",
   "metadata": {},
   "source": [
    "#### 5 признаков"
   ]
  },
  {
   "cell_type": "code",
   "execution_count": 7,
   "metadata": {},
   "outputs": [
    {
     "data": {
      "text/plain": [
       "((30174, 5), (30174, 28))"
      ]
     },
     "execution_count": 7,
     "metadata": {},
     "output_type": "execute_result"
    }
   ],
   "source": [
    "skb_regr = SelectKBest(k=5)\n",
    "x_skb_regr = skb_regr.fit_transform(x_regr, y_regr)\n",
    "x_skb_regr.shape, x_regr.shape"
   ]
  },
  {
   "cell_type": "code",
   "execution_count": 8,
   "metadata": {},
   "outputs": [
    {
     "name": "stdout",
     "output_type": "stream",
     "text": [
      "mse: 5512247.209\n",
      "r2: 0.8\n"
     ]
    }
   ],
   "source": [
    "test_regr(x_skb_regr, y_regr)"
   ]
  },
  {
   "cell_type": "markdown",
   "metadata": {},
   "source": [
    "#### 3 признака"
   ]
  },
  {
   "cell_type": "code",
   "execution_count": 9,
   "metadata": {},
   "outputs": [
    {
     "data": {
      "text/plain": [
       "((30174, 3), (30174, 28))"
      ]
     },
     "execution_count": 9,
     "metadata": {},
     "output_type": "execute_result"
    }
   ],
   "source": [
    "skb_regr = SelectKBest(k=3)\n",
    "x_skb_regr = skb_regr.fit_transform(x_regr, y_regr)\n",
    "x_skb_regr.shape, x_regr.shape"
   ]
  },
  {
   "cell_type": "code",
   "execution_count": 10,
   "metadata": {},
   "outputs": [
    {
     "name": "stdout",
     "output_type": "stream",
     "text": [
      "mse: 5776706.998\n",
      "r2: 0.791\n"
     ]
    }
   ],
   "source": [
    "test_regr(x_skb_regr, y_regr)"
   ]
  },
  {
   "cell_type": "markdown",
   "metadata": {},
   "source": [
    "#### 2 признака"
   ]
  },
  {
   "cell_type": "code",
   "execution_count": 11,
   "metadata": {},
   "outputs": [
    {
     "data": {
      "text/plain": [
       "((30174, 2), (30174, 28))"
      ]
     },
     "execution_count": 11,
     "metadata": {},
     "output_type": "execute_result"
    }
   ],
   "source": [
    "skb_regr = SelectKBest(k=2)\n",
    "x_skb_regr = skb_regr.fit_transform(x_regr, y_regr)\n",
    "x_skb_regr.shape, x_regr.shape"
   ]
  },
  {
   "cell_type": "code",
   "execution_count": 12,
   "metadata": {},
   "outputs": [
    {
     "name": "stdout",
     "output_type": "stream",
     "text": [
      "mse: 8842547.775\n",
      "r2: 0.68\n"
     ]
    }
   ],
   "source": [
    "test_regr(x_skb_regr, y_regr)"
   ]
  },
  {
   "cell_type": "markdown",
   "metadata": {},
   "source": [
    "Вывод: \n",
    "* 28 -> 10: r2 0.82 -> 0.8 ; mse 4_960_000 -> 5_300_000 \n",
    "* -> 5: r2 -> 0.8 ; mse -> 5_500_000\n",
    "* -> 3: r2 -> 0.79 ; mse -> 5_700_000\n",
    "* -> 2: r2 -> 0.68 ; mse -> 8_840_000"
   ]
  },
  {
   "cell_type": "markdown",
   "metadata": {},
   "source": [
    "### Классификация"
   ]
  },
  {
   "cell_type": "markdown",
   "metadata": {},
   "source": [
    "#### 10 признаков"
   ]
  },
  {
   "cell_type": "code",
   "execution_count": 55,
   "metadata": {},
   "outputs": [
    {
     "data": {
      "text/plain": [
       "((173782, 10), (173782, 27))"
      ]
     },
     "execution_count": 55,
     "metadata": {},
     "output_type": "execute_result"
    }
   ],
   "source": [
    "skb_clsf = SelectKBest(k=10)\n",
    "x_skb_clsf = skb_clsf.fit_transform(x_clsf, y_clsf)\n",
    "x_skb_clsf.shape, x_clsf.shape"
   ]
  },
  {
   "cell_type": "code",
   "execution_count": 56,
   "metadata": {},
   "outputs": [
    {
     "name": "stdout",
     "output_type": "stream",
     "text": [
      "              precision    recall  f1-score   support\n",
      "\n",
      "           0       0.59      0.66      0.62     13071\n",
      "           1       0.61      0.53      0.57     12997\n",
      "\n",
      "    accuracy                           0.60     26068\n",
      "   macro avg       0.60      0.60      0.60     26068\n",
      "weighted avg       0.60      0.60      0.60     26068\n",
      "\n"
     ]
    }
   ],
   "source": [
    "test_clsf(x_skb_clsf, y_clsf)"
   ]
  },
  {
   "cell_type": "markdown",
   "metadata": {},
   "source": [
    "#### 3 признака"
   ]
  },
  {
   "cell_type": "code",
   "execution_count": 13,
   "metadata": {},
   "outputs": [
    {
     "data": {
      "text/plain": [
       "((173782, 3), (173782, 27))"
      ]
     },
     "execution_count": 13,
     "metadata": {},
     "output_type": "execute_result"
    }
   ],
   "source": [
    "skb_clsf = SelectKBest(k=3)\n",
    "x_skb_clsf = skb_clsf.fit_transform(x_clsf, y_clsf)\n",
    "x_skb_clsf.shape, x_clsf.shape"
   ]
  },
  {
   "cell_type": "code",
   "execution_count": 14,
   "metadata": {},
   "outputs": [
    {
     "name": "stdout",
     "output_type": "stream",
     "text": [
      "              precision    recall  f1-score   support\n",
      "\n",
      "           0       0.57      0.69      0.63     13073\n",
      "           1       0.61      0.47      0.53     12995\n",
      "\n",
      "    accuracy                           0.59     26068\n",
      "   macro avg       0.59      0.58      0.58     26068\n",
      "weighted avg       0.59      0.59      0.58     26068\n",
      "\n"
     ]
    }
   ],
   "source": [
    "test_clsf(x_skb_clsf, y_clsf)"
   ]
  },
  {
   "cell_type": "markdown",
   "metadata": {},
   "source": [
    "Вывод: \n",
    "\n",
    "* 27 -> 10: accuracy 0.62 -> 0.6\n",
    "* -> 3: accuracy -> 0.59"
   ]
  },
  {
   "cell_type": "markdown",
   "metadata": {},
   "source": [
    "## RFE (рекурсивный отбор)"
   ]
  },
  {
   "cell_type": "markdown",
   "metadata": {},
   "source": [
    "### Регрессия"
   ]
  },
  {
   "cell_type": "markdown",
   "metadata": {},
   "source": [
    "#### 10 признаков"
   ]
  },
  {
   "cell_type": "code",
   "execution_count": 15,
   "metadata": {},
   "outputs": [
    {
     "name": "stdout",
     "output_type": "stream",
     "text": [
      "(30174, 10) (30174, 28)\n"
     ]
    }
   ],
   "source": [
    "from sklearn.feature_selection import RFE\n",
    "from sklearn.tree import DecisionTreeRegressor\n",
    "\n",
    "dtr = DecisionTreeRegressor().fit(x_regr, y_regr)\n",
    "\n",
    "rfe_regr = RFE(dtr, n_features_to_select=10).fit(x_regr, y_regr)\n",
    "x_rfe_regr = pd.DataFrame(rfe_regr.transform(x_regr),columns=rfe_regr.get_feature_names_out())\n",
    "print(x_rfe_regr.shape, x_regr.shape)"
   ]
  },
  {
   "cell_type": "code",
   "execution_count": 58,
   "metadata": {},
   "outputs": [
    {
     "name": "stdout",
     "output_type": "stream",
     "text": [
      "mse: 5253578.401\n",
      "r2: 0.81\n"
     ]
    }
   ],
   "source": [
    "test_regr(x_rfe_regr, y_regr)"
   ]
  },
  {
   "cell_type": "markdown",
   "metadata": {},
   "source": [
    "#### 3 признака"
   ]
  },
  {
   "cell_type": "code",
   "execution_count": 17,
   "metadata": {},
   "outputs": [
    {
     "name": "stdout",
     "output_type": "stream",
     "text": [
      "(30174, 3) (30174, 28)\n"
     ]
    }
   ],
   "source": [
    "rfe_regr = RFE(dtr, n_features_to_select=3).fit(x_regr, y_regr)\n",
    "x_rfe_regr = pd.DataFrame(rfe_regr.transform(x_regr),columns=rfe_regr.get_feature_names_out())\n",
    "print(x_rfe_regr.shape, x_regr.shape)"
   ]
  },
  {
   "cell_type": "code",
   "execution_count": 18,
   "metadata": {},
   "outputs": [
    {
     "name": "stdout",
     "output_type": "stream",
     "text": [
      "mse: 6006731.77\n",
      "r2: 0.782\n"
     ]
    }
   ],
   "source": [
    "test_regr(x_rfe_regr, y_regr)"
   ]
  },
  {
   "cell_type": "markdown",
   "metadata": {},
   "source": [
    "Вывод: \n",
    "* 28 -> 10: r2 0.82 -> 0.81 ; mse 4_960_000 -> 5_235_000 \n",
    "* -> 3: r2 -> 0.78 ; mse -> 6_000_000"
   ]
  },
  {
   "cell_type": "markdown",
   "metadata": {},
   "source": [
    "### Классификация"
   ]
  },
  {
   "cell_type": "markdown",
   "metadata": {},
   "source": [
    "#### 10 признаков"
   ]
  },
  {
   "cell_type": "code",
   "execution_count": 19,
   "metadata": {},
   "outputs": [
    {
     "data": {
      "text/html": [
       "<div>\n",
       "<style scoped>\n",
       "    .dataframe tbody tr th:only-of-type {\n",
       "        vertical-align: middle;\n",
       "    }\n",
       "\n",
       "    .dataframe tbody tr th {\n",
       "        vertical-align: top;\n",
       "    }\n",
       "\n",
       "    .dataframe thead th {\n",
       "        text-align: right;\n",
       "    }\n",
       "</style>\n",
       "<table border=\"1\" class=\"dataframe\">\n",
       "  <thead>\n",
       "    <tr style=\"text-align: right;\">\n",
       "      <th></th>\n",
       "      <th>Flight</th>\n",
       "      <th>AirportFrom_4</th>\n",
       "      <th>AirportFrom_6</th>\n",
       "      <th>AirportFrom_7</th>\n",
       "      <th>AirportTo_4</th>\n",
       "      <th>AirportTo_6</th>\n",
       "      <th>AirportTo_8</th>\n",
       "      <th>DayOfWeek</th>\n",
       "      <th>Time</th>\n",
       "      <th>Length</th>\n",
       "    </tr>\n",
       "  </thead>\n",
       "  <tbody>\n",
       "    <tr>\n",
       "      <th>0</th>\n",
       "      <td>0.298340</td>\n",
       "      <td>0.0</td>\n",
       "      <td>0.0</td>\n",
       "      <td>0.0</td>\n",
       "      <td>0.0</td>\n",
       "      <td>0.0</td>\n",
       "      <td>1.0</td>\n",
       "      <td>0.333252</td>\n",
       "      <td>0.746582</td>\n",
       "      <td>0.198486</td>\n",
       "    </tr>\n",
       "    <tr>\n",
       "      <th>1</th>\n",
       "      <td>0.112000</td>\n",
       "      <td>1.0</td>\n",
       "      <td>1.0</td>\n",
       "      <td>0.0</td>\n",
       "      <td>0.0</td>\n",
       "      <td>1.0</td>\n",
       "      <td>1.0</td>\n",
       "      <td>0.000000</td>\n",
       "      <td>0.676758</td>\n",
       "      <td>0.225952</td>\n",
       "    </tr>\n",
       "    <tr>\n",
       "      <th>2</th>\n",
       "      <td>0.232666</td>\n",
       "      <td>0.0</td>\n",
       "      <td>1.0</td>\n",
       "      <td>0.0</td>\n",
       "      <td>0.0</td>\n",
       "      <td>0.0</td>\n",
       "      <td>1.0</td>\n",
       "      <td>0.000000</td>\n",
       "      <td>0.829102</td>\n",
       "      <td>0.479492</td>\n",
       "    </tr>\n",
       "    <tr>\n",
       "      <th>3</th>\n",
       "      <td>0.899414</td>\n",
       "      <td>0.0</td>\n",
       "      <td>0.0</td>\n",
       "      <td>1.0</td>\n",
       "      <td>1.0</td>\n",
       "      <td>0.0</td>\n",
       "      <td>1.0</td>\n",
       "      <td>0.333252</td>\n",
       "      <td>0.637695</td>\n",
       "      <td>0.129761</td>\n",
       "    </tr>\n",
       "    <tr>\n",
       "      <th>4</th>\n",
       "      <td>0.831055</td>\n",
       "      <td>0.0</td>\n",
       "      <td>0.0</td>\n",
       "      <td>1.0</td>\n",
       "      <td>0.0</td>\n",
       "      <td>0.0</td>\n",
       "      <td>1.0</td>\n",
       "      <td>0.166626</td>\n",
       "      <td>0.906250</td>\n",
       "      <td>0.140503</td>\n",
       "    </tr>\n",
       "  </tbody>\n",
       "</table>\n",
       "</div>"
      ],
      "text/plain": [
       "     Flight  AirportFrom_4  AirportFrom_6  AirportFrom_7  AirportTo_4  \\\n",
       "0  0.298340            0.0            0.0            0.0          0.0   \n",
       "1  0.112000            1.0            1.0            0.0          0.0   \n",
       "2  0.232666            0.0            1.0            0.0          0.0   \n",
       "3  0.899414            0.0            0.0            1.0          1.0   \n",
       "4  0.831055            0.0            0.0            1.0          0.0   \n",
       "\n",
       "   AirportTo_6  AirportTo_8  DayOfWeek      Time    Length  \n",
       "0          0.0          1.0   0.333252  0.746582  0.198486  \n",
       "1          1.0          1.0   0.000000  0.676758  0.225952  \n",
       "2          0.0          1.0   0.000000  0.829102  0.479492  \n",
       "3          0.0          1.0   0.333252  0.637695  0.129761  \n",
       "4          0.0          1.0   0.166626  0.906250  0.140503  "
      ]
     },
     "execution_count": 19,
     "metadata": {},
     "output_type": "execute_result"
    }
   ],
   "source": [
    "from sklearn.tree import DecisionTreeClassifier\n",
    "\n",
    "dtc = DecisionTreeClassifier().fit(x_clsf, y_clsf)\n",
    "\n",
    "rfe_clsf = RFE(dtc, n_features_to_select=10).fit(x_clsf, y_clsf)\n",
    "x_rfe_clsf = pd.DataFrame(rfe_clsf.transform(x_clsf),columns=rfe_clsf.get_feature_names_out())\n",
    "x_rfe_clsf.shape, x_clsf.shape"
   ]
  },
  {
   "cell_type": "code",
   "execution_count": 60,
   "metadata": {},
   "outputs": [
    {
     "name": "stdout",
     "output_type": "stream",
     "text": [
      "              precision    recall  f1-score   support\n",
      "\n",
      "           0       0.61      0.59      0.60     13071\n",
      "           1       0.60      0.62      0.61     12997\n",
      "\n",
      "    accuracy                           0.60     26068\n",
      "   macro avg       0.60      0.60      0.60     26068\n",
      "weighted avg       0.60      0.60      0.60     26068\n",
      "\n"
     ]
    }
   ],
   "source": [
    "test_clsf(x_rfe_clsf, y_clsf)"
   ]
  },
  {
   "cell_type": "markdown",
   "metadata": {},
   "source": [
    "#### 3 признака"
   ]
  },
  {
   "cell_type": "code",
   "execution_count": 20,
   "metadata": {},
   "outputs": [
    {
     "data": {
      "text/plain": [
       "((173782, 3), (173782, 27))"
      ]
     },
     "execution_count": 20,
     "metadata": {},
     "output_type": "execute_result"
    }
   ],
   "source": [
    "rfe_clsf = RFE(dtc, n_features_to_select=3).fit(x_clsf, y_clsf)\n",
    "x_rfe_clsf = pd.DataFrame(rfe_clsf.transform(x_clsf),columns=rfe_clsf.get_feature_names_out())\n",
    "x_rfe_clsf.shape, x_clsf.shape"
   ]
  },
  {
   "cell_type": "code",
   "execution_count": 21,
   "metadata": {},
   "outputs": [
    {
     "name": "stdout",
     "output_type": "stream",
     "text": [
      "              precision    recall  f1-score   support\n",
      "\n",
      "           0       0.58      0.55      0.57     13073\n",
      "           1       0.57      0.60      0.59     12995\n",
      "\n",
      "    accuracy                           0.58     26068\n",
      "   macro avg       0.58      0.58      0.58     26068\n",
      "weighted avg       0.58      0.58      0.58     26068\n",
      "\n"
     ]
    }
   ],
   "source": [
    "test_clsf(x_rfe_clsf, y_clsf)"
   ]
  },
  {
   "cell_type": "markdown",
   "metadata": {},
   "source": [
    "Вывод: \n",
    "\n",
    "* 27 -> 10: accuracy 0.62 -> 0.6\n",
    "* -> 3: accuracy -> 0.58"
   ]
  },
  {
   "cell_type": "markdown",
   "metadata": {},
   "source": [
    "### Вывод самых значимых столбцов"
   ]
  },
  {
   "cell_type": "code",
   "execution_count": 61,
   "metadata": {},
   "outputs": [
    {
     "data": {
      "text/plain": [
       "<BarContainer object of 28 artists>"
      ]
     },
     "execution_count": 61,
     "metadata": {},
     "output_type": "execute_result"
    },
    {
     "data": {
      "image/png": "[encoded data removed]",
      "text/plain": [
       "<Figure size 640x480 with 1 Axes>"
      ]
     },
     "metadata": {},
     "output_type": "display_data"
    }
   ],
   "source": [
    "import matplotlib.pyplot as plt\n",
    "plt.barh(width=dtr.feature_importances_, y=x_regr.columns)"
   ]
  },
  {
   "cell_type": "code",
   "execution_count": 62,
   "metadata": {},
   "outputs": [
    {
     "data": {
      "text/plain": [
       "<BarContainer object of 27 artists>"
      ]
     },
     "execution_count": 62,
     "metadata": {},
     "output_type": "execute_result"
    },
    {
     "data": {
      "image/png": "[encoded data removed]",
      "text/plain": [
       "<Figure size 640x480 with 1 Axes>"
      ]
     },
     "metadata": {},
     "output_type": "display_data"
    }
   ],
   "source": [
    "plt.barh(width=dtc.feature_importances_, y=x_clsf.columns)"
   ]
  },
  {
   "cell_type": "markdown",
   "metadata": {},
   "source": [
    "## PCA (метод главных компонент)"
   ]
  },
  {
   "cell_type": "markdown",
   "metadata": {},
   "source": [
    "### Регрессия"
   ]
  },
  {
   "cell_type": "markdown",
   "metadata": {},
   "source": [
    "#### 10 признаков"
   ]
  },
  {
   "cell_type": "code",
   "execution_count": 71,
   "metadata": {},
   "outputs": [
    {
     "name": "stdout",
     "output_type": "stream",
     "text": [
      "(30174, 10) (30174, 28)\n"
     ]
    },
    {
     "data": {
      "text/plain": [
       "0.6568423108817469"
      ]
     },
     "execution_count": 71,
     "metadata": {},
     "output_type": "execute_result"
    }
   ],
   "source": [
    "from sklearn.decomposition import PCA\n",
    "\n",
    "pca_regr = PCA(n_components=10)\n",
    "x_pca_regr = pca_regr.fit_transform(x_regr, y_regr)\n",
    "\n",
    "print(x_pca_regr.shape, x_regr.shape)\n",
    "sum(pca_regr.explained_variance_ratio_)"
   ]
  },
  {
   "cell_type": "code",
   "execution_count": 72,
   "metadata": {},
   "outputs": [
    {
     "name": "stdout",
     "output_type": "stream",
     "text": [
      "mse: 12216627.367\n",
      "r2: 0.557\n"
     ]
    }
   ],
   "source": [
    "test_regr(x_pca_regr, y_regr)"
   ]
  },
  {
   "cell_type": "markdown",
   "metadata": {},
   "source": [
    "#### 15 признаков"
   ]
  },
  {
   "cell_type": "code",
   "execution_count": 74,
   "metadata": {},
   "outputs": [
    {
     "name": "stdout",
     "output_type": "stream",
     "text": [
      "(30174, 15) (30174, 28)\n"
     ]
    },
    {
     "data": {
      "text/plain": [
       "0.8437878910109243"
      ]
     },
     "execution_count": 74,
     "metadata": {},
     "output_type": "execute_result"
    }
   ],
   "source": [
    "from sklearn.decomposition import PCA\n",
    "\n",
    "pca_regr = PCA(n_components=15)\n",
    "x_pca_regr = pca_regr.fit_transform(x_regr, y_regr)\n",
    "\n",
    "print(x_pca_regr.shape, x_regr.shape)\n",
    "sum(pca_regr.explained_variance_ratio_)"
   ]
  },
  {
   "cell_type": "code",
   "execution_count": 75,
   "metadata": {},
   "outputs": [
    {
     "name": "stdout",
     "output_type": "stream",
     "text": [
      "mse: 11891195.882\n",
      "r2: 0.569\n"
     ]
    }
   ],
   "source": [
    "test_regr(x_pca_regr, y_regr)"
   ]
  },
  {
   "cell_type": "markdown",
   "metadata": {},
   "source": [
    "Вывод: \n",
    "* 28 -> 10: r2 0.82 -> 0.55 ; mse 4_960_000 -> 12_200_000 \n",
    "* -> 15: r2 -> 0.57 ; mse -> 11_890_000"
   ]
  },
  {
   "cell_type": "markdown",
   "metadata": {},
   "source": [
    "### Классификация"
   ]
  },
  {
   "cell_type": "markdown",
   "metadata": {},
   "source": [
    "#### 10 признаков"
   ]
  },
  {
   "cell_type": "code",
   "execution_count": 26,
   "metadata": {},
   "outputs": [
    {
     "name": "stdout",
     "output_type": "stream",
     "text": [
      "(173782, 10) (173782, 27)\n"
     ]
    },
    {
     "data": {
      "text/plain": [
       "0.6301957200460884"
      ]
     },
     "execution_count": 26,
     "metadata": {},
     "output_type": "execute_result"
    }
   ],
   "source": [
    "pca_clsf = PCA(n_components=10)\n",
    "x_pca_clsf = pca_clsf.fit_transform(x_clsf, y_clsf)\n",
    "\n",
    "print(x_pca_clsf.shape, x_clsf.shape)\n",
    "sum(pca_clsf.explained_variance_ratio_)"
   ]
  },
  {
   "cell_type": "code",
   "execution_count": 27,
   "metadata": {},
   "outputs": [
    {
     "name": "stdout",
     "output_type": "stream",
     "text": [
      "              precision    recall  f1-score   support\n",
      "\n",
      "           0       0.56      0.80      0.66     13073\n",
      "           1       0.65      0.37      0.47     12995\n",
      "\n",
      "    accuracy                           0.59     26068\n",
      "   macro avg       0.61      0.59      0.57     26068\n",
      "weighted avg       0.61      0.59      0.57     26068\n",
      "\n"
     ]
    }
   ],
   "source": [
    "test_clsf(x_pca_clsf, y_clsf)"
   ]
  },
  {
   "cell_type": "markdown",
   "metadata": {},
   "source": [
    "Вывод: \n",
    "* 27 -> 10: accuracy 0.62 -> 0.59"
   ]
  },
  {
   "cell_type": "markdown",
   "metadata": {},
   "source": [
    "## TSNE (t-distributed Stochastic Neighbor Embedding)"
   ]
  },
  {
   "cell_type": "markdown",
   "metadata": {},
   "source": [
    "### Регрессия"
   ]
  },
  {
   "cell_type": "code",
   "execution_count": 17,
   "metadata": {},
   "outputs": [],
   "source": [
    "from sklearn.manifold import TSNE\n",
    "\n",
    "tsne_regr = TSNE(n_components=3)\n",
    "x_tsne_regr = tsne_regr.fit_transform(x_regr, y_regr)"
   ]
  },
  {
   "cell_type": "code",
   "execution_count": 18,
   "metadata": {},
   "outputs": [
    {
     "name": "stdout",
     "output_type": "stream",
     "text": [
      "(30174, 3) (30174, 28)\n"
     ]
    }
   ],
   "source": [
    "print(x_tsne_regr.shape, x_regr.shape)"
   ]
  },
  {
   "cell_type": "code",
   "execution_count": 19,
   "metadata": {},
   "outputs": [
    {
     "name": "stdout",
     "output_type": "stream",
     "text": [
      "mse: 19810341.715\n",
      "r2: 0.282\n"
     ]
    }
   ],
   "source": [
    "test_regr(x_tsne_regr, y_regr)"
   ]
  },
  {
   "cell_type": "markdown",
   "metadata": {},
   "source": [
    "Вывод: Размерность уменьшилась в 9 раз, r2 уменьшилась в 3 раза, mse увеличилась в 4 раза"
   ]
  },
  {
   "cell_type": "markdown",
   "metadata": {},
   "source": [
    "### Классификация"
   ]
  },
  {
   "cell_type": "code",
   "execution_count": 39,
   "metadata": {},
   "outputs": [],
   "source": [
    "tsne_clsf = TSNE(n_components=3, n_jobs=-1)\n",
    "x_tsne_clsf = tsne_clsf.fit_transform(x_clsf[:30000],y_clsf[:30000])"
   ]
  },
  {
   "cell_type": "code",
   "execution_count": 40,
   "metadata": {},
   "outputs": [
    {
     "name": "stdout",
     "output_type": "stream",
     "text": [
      "              precision    recall  f1-score   support\n",
      "\n",
      "           0       0.57      0.75      0.64      2277\n",
      "           1       0.61      0.41      0.49      2223\n",
      "\n",
      "    accuracy                           0.58      4500\n",
      "   macro avg       0.59      0.58      0.57      4500\n",
      "weighted avg       0.59      0.58      0.57      4500\n",
      "\n"
     ]
    }
   ],
   "source": [
    "test_clsf(x_tsne_clsf, y_clsf[:30000])"
   ]
  },
  {
   "cell_type": "markdown",
   "metadata": {},
   "source": [
    "Вывод: на датасете из 30_000 экземпляров удалось уменьшить размерность в 10 раз, при этом accuracy  уменьшилось только на 0.4"
   ]
  },
  {
   "cell_type": "markdown",
   "metadata": {},
   "source": [
    "## Isomap"
   ]
  },
  {
   "cell_type": "markdown",
   "metadata": {},
   "source": [
    "### Регрессия"
   ]
  },
  {
   "cell_type": "code",
   "execution_count": 7,
   "metadata": {},
   "outputs": [
    {
     "data": {
      "text/html": [
       "<div>\n",
       "<style scoped>\n",
       "    .dataframe tbody tr th:only-of-type {\n",
       "        vertical-align: middle;\n",
       "    }\n",
       "\n",
       "    .dataframe tbody tr th {\n",
       "        vertical-align: top;\n",
       "    }\n",
       "\n",
       "    .dataframe thead th {\n",
       "        text-align: right;\n",
       "    }\n",
       "</style>\n",
       "<table border=\"1\" class=\"dataframe\">\n",
       "  <thead>\n",
       "    <tr style=\"text-align: right;\">\n",
       "      <th></th>\n",
       "      <th>isomap0</th>\n",
       "      <th>isomap1</th>\n",
       "      <th>isomap2</th>\n",
       "      <th>isomap3</th>\n",
       "      <th>isomap4</th>\n",
       "      <th>isomap5</th>\n",
       "      <th>isomap6</th>\n",
       "      <th>isomap7</th>\n",
       "      <th>isomap8</th>\n",
       "      <th>isomap9</th>\n",
       "    </tr>\n",
       "  </thead>\n",
       "  <tbody>\n",
       "    <tr>\n",
       "      <th>0</th>\n",
       "      <td>2.025882</td>\n",
       "      <td>-3.501641</td>\n",
       "      <td>0.370149</td>\n",
       "      <td>0.008726</td>\n",
       "      <td>-0.735898</td>\n",
       "      <td>-1.066105</td>\n",
       "      <td>3.252320</td>\n",
       "      <td>0.827044</td>\n",
       "      <td>-0.403850</td>\n",
       "      <td>1.349892</td>\n",
       "    </tr>\n",
       "    <tr>\n",
       "      <th>1</th>\n",
       "      <td>-3.427346</td>\n",
       "      <td>-1.378681</td>\n",
       "      <td>-0.086455</td>\n",
       "      <td>2.837725</td>\n",
       "      <td>-2.211745</td>\n",
       "      <td>0.805921</td>\n",
       "      <td>-1.765865</td>\n",
       "      <td>1.160166</td>\n",
       "      <td>0.593395</td>\n",
       "      <td>-0.162737</td>\n",
       "    </tr>\n",
       "    <tr>\n",
       "      <th>2</th>\n",
       "      <td>-1.274603</td>\n",
       "      <td>-3.467501</td>\n",
       "      <td>1.152009</td>\n",
       "      <td>-1.786538</td>\n",
       "      <td>-1.169051</td>\n",
       "      <td>-1.387549</td>\n",
       "      <td>-1.461624</td>\n",
       "      <td>-0.270791</td>\n",
       "      <td>-0.470967</td>\n",
       "      <td>-1.289325</td>\n",
       "    </tr>\n",
       "    <tr>\n",
       "      <th>3</th>\n",
       "      <td>-2.758681</td>\n",
       "      <td>-1.367998</td>\n",
       "      <td>-0.262636</td>\n",
       "      <td>2.067745</td>\n",
       "      <td>-1.235307</td>\n",
       "      <td>1.428990</td>\n",
       "      <td>-2.081559</td>\n",
       "      <td>-0.726582</td>\n",
       "      <td>1.024688</td>\n",
       "      <td>0.313235</td>\n",
       "    </tr>\n",
       "    <tr>\n",
       "      <th>4</th>\n",
       "      <td>-1.937965</td>\n",
       "      <td>-0.231559</td>\n",
       "      <td>-2.710060</td>\n",
       "      <td>0.539107</td>\n",
       "      <td>-0.238936</td>\n",
       "      <td>-1.753491</td>\n",
       "      <td>1.537829</td>\n",
       "      <td>-1.754472</td>\n",
       "      <td>-0.317267</td>\n",
       "      <td>2.887490</td>\n",
       "    </tr>\n",
       "  </tbody>\n",
       "</table>\n",
       "</div>"
      ],
      "text/plain": [
       "    isomap0   isomap1   isomap2   isomap3   isomap4   isomap5   isomap6  \\\n",
       "0  2.025882 -3.501641  0.370149  0.008726 -0.735898 -1.066105  3.252320   \n",
       "1 -3.427346 -1.378681 -0.086455  2.837725 -2.211745  0.805921 -1.765865   \n",
       "2 -1.274603 -3.467501  1.152009 -1.786538 -1.169051 -1.387549 -1.461624   \n",
       "3 -2.758681 -1.367998 -0.262636  2.067745 -1.235307  1.428990 -2.081559   \n",
       "4 -1.937965 -0.231559 -2.710060  0.539107 -0.238936 -1.753491  1.537829   \n",
       "\n",
       "    isomap7   isomap8   isomap9  \n",
       "0  0.827044 -0.403850  1.349892  \n",
       "1  1.160166  0.593395 -0.162737  \n",
       "2 -0.270791 -0.470967 -1.289325  \n",
       "3 -0.726582  1.024688  0.313235  \n",
       "4 -1.754472 -0.317267  2.887490  "
      ]
     },
     "execution_count": 7,
     "metadata": {},
     "output_type": "execute_result"
    }
   ],
   "source": [
    "from sklearn.manifold import Isomap\n",
    "\n",
    "isomap_regr = Isomap(n_components=10, n_neighbors=25, n_jobs=-1)\n",
    "x_isomap_regr = pd.DataFrame(\n",
    "    isomap_regr.fit_transform(x_regr[:10000],y_regr[:10000]), \n",
    "    columns=isomap_regr.get_feature_names_out()\n",
    ")\n",
    "\n",
    "x_isomap_regr.head()"
   ]
  },
  {
   "cell_type": "code",
   "execution_count": 8,
   "metadata": {},
   "outputs": [
    {
     "name": "stdout",
     "output_type": "stream",
     "text": [
      "mse: 13512606.903\n",
      "r2: 0.52\n"
     ]
    }
   ],
   "source": [
    "test_regr(x_isomap_regr, y_regr[:10000])"
   ]
  },
  {
   "cell_type": "markdown",
   "metadata": {},
   "source": [
    "Вывод: на датасете из 10_000 строк удалось уменьшить размерность в 3 раза, r2 уменьшился в 2 раза, mse возросло в 3 раза"
   ]
  },
  {
   "cell_type": "markdown",
   "metadata": {},
   "source": [
    "### Классификация"
   ]
  },
  {
   "cell_type": "code",
   "execution_count": 9,
   "metadata": {},
   "outputs": [
    {
     "data": {
      "text/html": [
       "<div>\n",
       "<style scoped>\n",
       "    .dataframe tbody tr th:only-of-type {\n",
       "        vertical-align: middle;\n",
       "    }\n",
       "\n",
       "    .dataframe tbody tr th {\n",
       "        vertical-align: top;\n",
       "    }\n",
       "\n",
       "    .dataframe thead th {\n",
       "        text-align: right;\n",
       "    }\n",
       "</style>\n",
       "<table border=\"1\" class=\"dataframe\">\n",
       "  <thead>\n",
       "    <tr style=\"text-align: right;\">\n",
       "      <th></th>\n",
       "      <th>isomap0</th>\n",
       "      <th>isomap1</th>\n",
       "      <th>isomap2</th>\n",
       "      <th>isomap3</th>\n",
       "      <th>isomap4</th>\n",
       "      <th>isomap5</th>\n",
       "      <th>isomap6</th>\n",
       "      <th>isomap7</th>\n",
       "      <th>isomap8</th>\n",
       "      <th>isomap9</th>\n",
       "    </tr>\n",
       "  </thead>\n",
       "  <tbody>\n",
       "    <tr>\n",
       "      <th>0</th>\n",
       "      <td>-0.861445</td>\n",
       "      <td>-3.121021</td>\n",
       "      <td>3.382367</td>\n",
       "      <td>1.659744</td>\n",
       "      <td>-1.489155</td>\n",
       "      <td>0.204174</td>\n",
       "      <td>-0.447597</td>\n",
       "      <td>2.213290</td>\n",
       "      <td>-0.942666</td>\n",
       "      <td>0.685252</td>\n",
       "    </tr>\n",
       "    <tr>\n",
       "      <th>1</th>\n",
       "      <td>-3.271888</td>\n",
       "      <td>-1.366604</td>\n",
       "      <td>0.924383</td>\n",
       "      <td>-0.143607</td>\n",
       "      <td>-0.792606</td>\n",
       "      <td>0.037980</td>\n",
       "      <td>-1.044462</td>\n",
       "      <td>-2.547325</td>\n",
       "      <td>1.987422</td>\n",
       "      <td>-0.517680</td>\n",
       "    </tr>\n",
       "    <tr>\n",
       "      <th>2</th>\n",
       "      <td>0.819862</td>\n",
       "      <td>2.229932</td>\n",
       "      <td>-2.008901</td>\n",
       "      <td>1.400347</td>\n",
       "      <td>1.060322</td>\n",
       "      <td>-0.423503</td>\n",
       "      <td>-2.376009</td>\n",
       "      <td>0.961104</td>\n",
       "      <td>1.633380</td>\n",
       "      <td>0.203653</td>\n",
       "    </tr>\n",
       "    <tr>\n",
       "      <th>3</th>\n",
       "      <td>2.361207</td>\n",
       "      <td>1.580302</td>\n",
       "      <td>-1.957253</td>\n",
       "      <td>-0.875326</td>\n",
       "      <td>1.368131</td>\n",
       "      <td>1.713984</td>\n",
       "      <td>0.742698</td>\n",
       "      <td>-0.476733</td>\n",
       "      <td>-2.527847</td>\n",
       "      <td>-1.234389</td>\n",
       "    </tr>\n",
       "    <tr>\n",
       "      <th>4</th>\n",
       "      <td>-2.685348</td>\n",
       "      <td>-1.193309</td>\n",
       "      <td>1.338359</td>\n",
       "      <td>0.952969</td>\n",
       "      <td>-0.800172</td>\n",
       "      <td>-0.854619</td>\n",
       "      <td>-1.293155</td>\n",
       "      <td>-2.242519</td>\n",
       "      <td>1.393622</td>\n",
       "      <td>-0.908378</td>\n",
       "    </tr>\n",
       "  </tbody>\n",
       "</table>\n",
       "</div>"
      ],
      "text/plain": [
       "    isomap0   isomap1   isomap2   isomap3   isomap4   isomap5   isomap6  \\\n",
       "0 -0.861445 -3.121021  3.382367  1.659744 -1.489155  0.204174 -0.447597   \n",
       "1 -3.271888 -1.366604  0.924383 -0.143607 -0.792606  0.037980 -1.044462   \n",
       "2  0.819862  2.229932 -2.008901  1.400347  1.060322 -0.423503 -2.376009   \n",
       "3  2.361207  1.580302 -1.957253 -0.875326  1.368131  1.713984  0.742698   \n",
       "4 -2.685348 -1.193309  1.338359  0.952969 -0.800172 -0.854619 -1.293155   \n",
       "\n",
       "    isomap7   isomap8   isomap9  \n",
       "0  2.213290 -0.942666  0.685252  \n",
       "1 -2.547325  1.987422 -0.517680  \n",
       "2  0.961104  1.633380  0.203653  \n",
       "3 -0.476733 -2.527847 -1.234389  \n",
       "4 -2.242519  1.393622 -0.908378  "
      ]
     },
     "execution_count": 9,
     "metadata": {},
     "output_type": "execute_result"
    }
   ],
   "source": [
    "isomap_clsf = Isomap(n_components=10, n_neighbors=15, n_jobs=-1)\n",
    "x_isomap_clsf = pd.DataFrame(\n",
    "    isomap_clsf.fit_transform(x_clsf[:10000]),\n",
    "    columns=isomap_clsf.get_feature_names_out()\n",
    ")\n",
    "\n",
    "x_isomap_clsf.head()"
   ]
  },
  {
   "cell_type": "code",
   "execution_count": 10,
   "metadata": {},
   "outputs": [
    {
     "name": "stdout",
     "output_type": "stream",
     "text": [
      "              precision    recall  f1-score   support\n",
      "\n",
      "           0       0.57      0.69      0.62       775\n",
      "           1       0.57      0.43      0.49       725\n",
      "\n",
      "    accuracy                           0.57      1500\n",
      "   macro avg       0.57      0.56      0.56      1500\n",
      "weighted avg       0.57      0.57      0.56      1500\n",
      "\n"
     ]
    }
   ],
   "source": [
    "test_clsf(x_isomap_clsf, y_clsf[:10000])"
   ]
  },
  {
   "cell_type": "markdown",
   "metadata": {},
   "source": [
    "Вывод: на датасете из 10_000 строк accuracy уменьшилась на 0.5 и размерность уменьшилась в 3 раза"
   ]
  },
  {
   "cell_type": "markdown",
   "metadata": {},
   "source": [
    "## Итоговый вывод\n",
    "Для моих данных лучше всего подошёл SelectKBest из-за своей скорости и малых изменений в метриках"
   ]
  },
  {
   "cell_type": "markdown",
   "metadata": {},
   "source": [
    "# ЗАДАНИЕ №2*."
   ]
  },
  {
   "cell_type": "markdown",
   "metadata": {},
   "source": [
    "1. Самостоятельно реализуйте алгоритм PCA. На основе датасета для задачи классификации выполните понижение размерности до 2 (преобразуйте данные в двумерное пространство). Выполните визуализацию данных (точки на плоскости).\n",
    "2. Выполнить кластеризацию преобразованных в пункте 1 данных с помощью Вашей реализации алгоритма KMeans из ЛР6."
   ]
  }
 ],
 "metadata": {
  "kernelspec": {
   "display_name": "Python 3",
   "language": "python",
   "name": "python3"
  },
  "language_info": {
   "codemirror_mode": {
    "name": "ipython",
    "version": 3
   },
   "file_extension": ".py",
   "mimetype": "text/x-python",
   "name": "python",
   "nbconvert_exporter": "python",
   "pygments_lexer": "ipython3",
   "version": "3.11.7"
  }
 },
 "nbformat": 4,
 "nbformat_minor": 2
}
