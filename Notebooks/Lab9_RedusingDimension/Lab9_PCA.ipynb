{
 "cells": [
  {
   "cell_type": "markdown",
   "metadata": {},
   "source": [
    "# PCA"
   ]
  },
  {
   "cell_type": "code",
   "execution_count": 7,
   "metadata": {},
   "outputs": [],
   "source": [
    "import pandas as pd\n",
    "df = pd.read_csv('../../Datasets/Lab4_DataSet4_Preprocessed_Resampled.csv').sample(frac=1)\n",
    "x, y = df.drop('Delay',axis=1), df['Delay']"
   ]
  },
  {
   "cell_type": "code",
   "execution_count": 8,
   "metadata": {},
   "outputs": [],
   "source": [
    "import numpy as np\n",
    "\n",
    "class PCA:\n",
    "    def __init__(self, n_components: int) -> None:\n",
    "        self.n_components = n_components\n",
    "\n",
    "    def fit_transform(self, X: np.ndarray):\n",
    "        # стандартизация\n",
    "        # X = (X - X.mean()) / X.std() \n",
    "\n",
    "        # ковариационная матрица\n",
    "        matrix = np.cov(X)\n",
    "        \n",
    "        # собственные значения и собственные вектора\n",
    "        eigenvalues, eigenvectors = np.linalg.eig(matrix)\n",
    "\n",
    "        # сортировка по убыванию\n",
    "        sorted_indexes = np.argsort(eigenvalues)[::-1]\n",
    "        \n",
    "        sorted_eigenvalues = eigenvalues[sorted_indexes]\n",
    "\n",
    "        sorted_eigenvectors = eigenvectors[:,sorted_indexes]\n",
    "\n",
    "        # выбор первых n_components пар\n",
    "        sorted_eigenvectors = sorted_eigenvectors[:self.n_components]\n",
    "        return np.dot(sorted_eigenvalues.T,X.T).T"
   ]
  },
  {
   "cell_type": "code",
   "execution_count": 9,
   "metadata": {},
   "outputs": [
    {
     "ename": "MemoryError",
     "evalue": "Unable to allocate 225. GiB for an array with shape (173782, 173782) and data type float64",
     "output_type": "error",
     "traceback": [
      "\u001b[1;31m---------------------------------------------------------------------------\u001b[0m",
      "\u001b[1;31mMemoryError\u001b[0m                               Traceback (most recent call last)",
      "Cell \u001b[1;32mIn[9], line 2\u001b[0m\n\u001b[0;32m      1\u001b[0m pca \u001b[38;5;241m=\u001b[39m PCA(\u001b[38;5;241m2\u001b[39m)\n\u001b[1;32m----> 2\u001b[0m x_pca \u001b[38;5;241m=\u001b[39m \u001b[43mpca\u001b[49m\u001b[38;5;241;43m.\u001b[39;49m\u001b[43mfit_transform\u001b[49m\u001b[43m(\u001b[49m\u001b[43mx\u001b[49m\u001b[43m)\u001b[49m\n\u001b[0;32m      3\u001b[0m x\u001b[38;5;241m.\u001b[39mshape\n",
      "Cell \u001b[1;32mIn[8], line 12\u001b[0m, in \u001b[0;36mPCA.fit_transform\u001b[1;34m(self, X)\u001b[0m\n\u001b[0;32m      7\u001b[0m \u001b[38;5;28;01mdef\u001b[39;00m \u001b[38;5;21mfit_transform\u001b[39m(\u001b[38;5;28mself\u001b[39m, X: np\u001b[38;5;241m.\u001b[39mndarray):\n\u001b[0;32m      8\u001b[0m     \u001b[38;5;66;03m# стандартизация\u001b[39;00m\n\u001b[0;32m      9\u001b[0m     \u001b[38;5;66;03m# X = (X - X.mean()) / X.std() \u001b[39;00m\n\u001b[0;32m     10\u001b[0m \n\u001b[0;32m     11\u001b[0m     \u001b[38;5;66;03m# ковариационная матрица\u001b[39;00m\n\u001b[1;32m---> 12\u001b[0m     matrix \u001b[38;5;241m=\u001b[39m \u001b[43mnp\u001b[49m\u001b[38;5;241;43m.\u001b[39;49m\u001b[43mcov\u001b[49m\u001b[43m(\u001b[49m\u001b[43mX\u001b[49m\u001b[43m)\u001b[49m\n\u001b[0;32m     14\u001b[0m     \u001b[38;5;66;03m# собственные значения и собственные вектора\u001b[39;00m\n\u001b[0;32m     15\u001b[0m     eigenvalues, eigenvectors \u001b[38;5;241m=\u001b[39m np\u001b[38;5;241m.\u001b[39mlinalg\u001b[38;5;241m.\u001b[39meig(matrix)\n",
      "File \u001b[1;32mc:\\Python_3.11\\Lib\\site-packages\\numpy\\lib\\function_base.py:2747\u001b[0m, in \u001b[0;36mcov\u001b[1;34m(m, y, rowvar, bias, ddof, fweights, aweights, dtype)\u001b[0m\n\u001b[0;32m   2745\u001b[0m \u001b[38;5;28;01melse\u001b[39;00m:\n\u001b[0;32m   2746\u001b[0m     X_T \u001b[38;5;241m=\u001b[39m (X\u001b[38;5;241m*\u001b[39mw)\u001b[38;5;241m.\u001b[39mT\n\u001b[1;32m-> 2747\u001b[0m c \u001b[38;5;241m=\u001b[39m \u001b[43mdot\u001b[49m\u001b[43m(\u001b[49m\u001b[43mX\u001b[49m\u001b[43m,\u001b[49m\u001b[43m \u001b[49m\u001b[43mX_T\u001b[49m\u001b[38;5;241;43m.\u001b[39;49m\u001b[43mconj\u001b[49m\u001b[43m(\u001b[49m\u001b[43m)\u001b[49m\u001b[43m)\u001b[49m\n\u001b[0;32m   2748\u001b[0m c \u001b[38;5;241m*\u001b[39m\u001b[38;5;241m=\u001b[39m np\u001b[38;5;241m.\u001b[39mtrue_divide(\u001b[38;5;241m1\u001b[39m, fact)\n\u001b[0;32m   2749\u001b[0m \u001b[38;5;28;01mreturn\u001b[39;00m c\u001b[38;5;241m.\u001b[39msqueeze()\n",
      "\u001b[1;31mMemoryError\u001b[0m: Unable to allocate 225. GiB for an array with shape (173782, 173782) and data type float64"
     ]
    }
   ],
   "source": [
    "pca = PCA(2)\n",
    "x_pca = pca.fit_transform(x)\n",
    "x.shape"
   ]
  },
  {
   "cell_type": "code",
   "execution_count": null,
   "metadata": {},
   "outputs": [
    {
     "data": {
      "text/plain": [
       "array([[1, 2, 7],\n",
       "       [3, 4, 7]])"
      ]
     },
     "execution_count": 25,
     "metadata": {},
     "output_type": "execute_result"
    }
   ],
   "source": [
    "a = np.array([[1,2],\n",
    "              [3,4]])\n",
    "b = np.array([7,7])\n",
    "np.column_stack((a,b))"
   ]
  }
 ],
 "metadata": {
  "kernelspec": {
   "display_name": "Python 3",
   "language": "python",
   "name": "python3"
  },
  "language_info": {
   "codemirror_mode": {
    "name": "ipython",
    "version": 3
   },
   "file_extension": ".py",
   "mimetype": "text/x-python",
   "name": "python",
   "nbconvert_exporter": "python",
   "pygments_lexer": "ipython3",
   "version": "3.11.7"
  }
 },
 "nbformat": 4,
 "nbformat_minor": 2
}
